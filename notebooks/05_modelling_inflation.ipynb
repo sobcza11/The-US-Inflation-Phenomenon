{
 "cells": [
  {
   "cell_type": "markdown",
   "id": "0f7f179f",
   "metadata": {},
   "source": [
    "# Modeling | US Inflation"
   ]
  },
  {
   "cell_type": "markdown",
   "id": "a55dff8e",
   "metadata": {},
   "source": [
    "# Table of Contents<a id='#home'></a>\n",
    "* [5.0 Modeling](#data_m)\n",
    "  * [5.1 Content](#content)\n",
    "  * [5.2 Import Libs](#libs)\n",
    "  * [5.3 File Imports](#files)\n",
    "  * [5.4 Modeling](#modeling)\n",
    "    * [5.4.1 Standard Scaler X & y (SS)](#ss_both)\n",
    "    * [5.4.2 Standard Scaler X only (SS_y_uns)](#ss_y_un)\n",
    "    * [5.4.3 Log Transformation X & y (LG)](#lg_both)\n",
    "    * [5.4.4 Log Transformation X only (LG_y_uns)](#lg_y_un)\n",
    "    * [5.4.5 Combination of Standard Scaler & Log Transformation for X only (SS_LG)](#combo)\n",
    "  * [5.5 Initial Findings](#int_find)\n",
    "  * [5.6 Modeling with the Most important Variables](#mod_imp)\n",
    "    * [5.6.1 Standard Scaler X & y (SS_two)](#ss_imp)\n",
    "    * [5.6.2 Standard Scaler 2 X only (SS_y_uns_two)](#ss_imp_uns)\n",
    "    * [5.6.3 Log Transformation X & y (LG_two)](#lg_imp)\n",
    "    * [5.6.4 Log Transformation X & y (LG_y_uns_two)](#ss_lg_imp)\n",
    "    * [5.6.5 Combination of Standard Scaler & Log Transformation for X only (SS_LG_two)](#ss_lg_imp_n)\n",
    "  * [5.7 Conclusion](#conclusion)\n"
   ]
  },
  {
   "cell_type": "markdown",
   "id": "c92c3a7f",
   "metadata": {},
   "source": [
    "## 5.1 Content<a id='content'></a>"
   ]
  },
  {
   "cell_type": "markdown",
   "id": "ba90bb33",
   "metadata": {},
   "source": [
    "In this notebook, we will use models to gain insight into what explicitly drives `Inflation`. "
   ]
  },
  {
   "cell_type": "markdown",
   "id": "3d9ad174",
   "metadata": {},
   "source": [
    "## 5.2 Libraries<a id='libs'></a>"
   ]
  },
  {
   "cell_type": "code",
   "execution_count": 201,
   "id": "c0c599fd",
   "metadata": {},
   "outputs": [],
   "source": [
    "import pandas as pd\n",
    "import matplotlib.pyplot as plt\n",
    "import matplotlib.colors as colors\n",
    "import seaborn as sns\n",
    "import os\n",
    "import lxml\n",
    "import datetime\n",
    "import requests\n",
    "import json\n",
    "import math\n",
    "import collections\n",
    "import seaborn as sns\n",
    "from scipy import stats\n",
    "import numpy as np\n",
    "import pickle\n",
    "from sklearn.preprocessing import StandardScaler, PowerTransformer\n",
    "\n",
    "from sklearn import __version__ as sklearn_version\n",
    "from sklearn.model_selection import cross_validate\n",
    "\n",
    "# may not need these but better to include\n",
    "from sklearn import __version__ as sklearn_version\n",
    "from sklearn.decomposition import PCA\n",
    "from sklearn.preprocessing import scale\n",
    "from sklearn.model_selection import train_test_split, cross_validate, GridSearchCV, learning_curve\n",
    "from sklearn.dummy import DummyRegressor\n",
    "from sklearn.linear_model import LinearRegression\n",
    "from sklearn.linear_model import LogisticRegression\n",
    "from sklearn.ensemble import RandomForestRegressor\n",
    "from sklearn.metrics import r2_score, mean_squared_error, mean_absolute_error\n",
    "from sklearn.pipeline import make_pipeline\n",
    "from sklearn.impute import SimpleImputer\n",
    "from sklearn.feature_selection import SelectKBest, f_regression"
   ]
  },
  {
   "cell_type": "markdown",
   "id": "61e13a3f",
   "metadata": {},
   "source": [
    "## 5.3 File Imports<a id='files'></a>"
   ]
  },
  {
   "cell_type": "code",
   "execution_count": 202,
   "id": "12314e74",
   "metadata": {},
   "outputs": [
    {
     "name": "stdout",
     "output_type": "stream",
     "text": [
      "C:\\Users\\rands\n"
     ]
    }
   ],
   "source": [
    "cd"
   ]
  },
  {
   "cell_type": "code",
   "execution_count": 203,
   "id": "93f085c2",
   "metadata": {},
   "outputs": [
    {
     "name": "stdout",
     "output_type": "stream",
     "text": [
      "Finished; proceed\n"
     ]
    }
   ],
   "source": [
    "# StandardScaler | X & y scaled\n",
    "X_train_SS = pd.read_excel('./_Inflation_Capstone/data/4.0 Pre Processing Data/X_train_SS.xlsx', index_col=None)\n",
    "y_train_SS = pd.read_excel('./_Inflation_Capstone/data/4.0 Pre Processing Data/y_train_SS.xlsx', index_col=None)\n",
    "X_test_SS = pd.read_excel('./_Inflation_Capstone/data/4.0 Pre Processing Data/X_test_SS.xlsx', index_col=None)\n",
    "y_test_SS = pd.read_excel('./_Inflation_Capstone/data/4.0 Pre Processing Data/y_test_SS.xlsx', index_col=None)\n",
    "\n",
    "# Standard Scaler | X only scaled\n",
    "X_train_SS_y_uns = pd.read_excel('./_Inflation_Capstone/data/4.0 Pre Processing Data/X_train_SS_y_uns.xlsx', index_col=None)\n",
    "y_train_SS_y_uns = pd.read_excel('./_Inflation_Capstone/data/4.0 Pre Processing Data/y_train_SS_y_uns.xlsx', index_col=None)\n",
    "X_test_SS_y_uns = pd.read_excel('./_Inflation_Capstone/data/4.0 Pre Processing Data/X_test_SS_y_uns.xlsx', index_col=None)\n",
    "y_test_SS_y_uns = pd.read_excel('./_Inflation_Capstone/data/4.0 Pre Processing Data/y_test_SS_y_uns.xlsx', index_col=None)\n",
    "\n",
    "# Log Scaler | X & y scaled\n",
    "X_train_LG = pd.read_excel('./_Inflation_Capstone/data/4.0 Pre Processing Data/X_train_LG.xlsx', index_col=None)\n",
    "y_train_LG = pd.read_excel('./_Inflation_Capstone/data/4.0 Pre Processing Data/y_train_LG.xlsx', index_col=None)\n",
    "X_test_LG = pd.read_excel('./_Inflation_Capstone/data/4.0 Pre Processing Data/X_test_LG.xlsx', index_col=None)\n",
    "y_test_LG = pd.read_excel('./_Inflation_Capstone/data/4.0 Pre Processing Data/y_test_LG.xlsx', index_col=None)\n",
    "\n",
    "# Log Scaler | X only scaled\n",
    "X_train_LG_y_uns = pd.read_excel('./_Inflation_Capstone/data/4.0 Pre Processing Data/X_train_LG_y_uns.xlsx', index_col=None)\n",
    "y_train_LG_y_uns = pd.read_excel('./_Inflation_Capstone/data/4.0 Pre Processing Data/y_train_LG_y_uns.xlsx', index_col=None)\n",
    "X_test_LG_y_uns = pd.read_excel('./_Inflation_Capstone/data/4.0 Pre Processing Data/X_test_LG_y_uns.xlsx', index_col=None)\n",
    "y_test_LG_y_uns = pd.read_excel('./_Inflation_Capstone/data/4.0 Pre Processing Data/y_test_LG.xlsx', index_col=None)\n",
    "\n",
    "# StandardScaler & Log Combined | X only scaled\n",
    "X_tr_SS_LG = pd.read_excel('./_Inflation_Capstone/data/4.0 Pre Processing Data/X_tr_SS_LG.xlsx', index_col=None)\n",
    "y_tr_y_uns = pd.read_excel('./_Inflation_Capstone/data/4.0 Pre Processing Data/y_tr_y_uns.xlsx', index_col=None)\n",
    "X_te_SS_LG = pd.read_excel('./_Inflation_Capstone/data/4.0 Pre Processing Data/X_te_SS_LG.xlsx', index_col=None)\n",
    "y_te_y_uns = pd.read_excel('./_Inflation_Capstone/data/4.0 Pre Processing Data/y_te_y_uns.xlsx', index_col=None)\n",
    "\n",
    "print('Finished; proceed')"
   ]
  },
  {
   "cell_type": "markdown",
   "id": "5183245d",
   "metadata": {},
   "source": [
    "**Confirming the files were imported / saved correctly**; i.e. what was saved & imported is correct via the describe method; apologies in advance if this is long; **prudent to assume they are correct if I continue thereafter so please feel free to skip.**"
   ]
  },
  {
   "cell_type": "markdown",
   "id": "9b058e31",
   "metadata": {},
   "source": [
    "`Mean` should be 0 `Std` should be 1"
   ]
  },
  {
   "cell_type": "code",
   "execution_count": 204,
   "id": "88204366",
   "metadata": {},
   "outputs": [
    {
     "data": {
      "text/html": [
       "<div>\n",
       "<style scoped>\n",
       "    .dataframe tbody tr th:only-of-type {\n",
       "        vertical-align: middle;\n",
       "    }\n",
       "\n",
       "    .dataframe tbody tr th {\n",
       "        vertical-align: top;\n",
       "    }\n",
       "\n",
       "    .dataframe thead th {\n",
       "        text-align: right;\n",
       "    }\n",
       "</style>\n",
       "<table border=\"1\" class=\"dataframe\">\n",
       "  <thead>\n",
       "    <tr style=\"text-align: right;\">\n",
       "      <th></th>\n",
       "      <th>Unnamed: 0</th>\n",
       "      <th>Wages CPI_SS</th>\n",
       "      <th>WTI_SS</th>\n",
       "      <th>Heating Oil_SS</th>\n",
       "      <th>Copper_SS</th>\n",
       "      <th>Sugar_SS</th>\n",
       "      <th>Natural Gas_SS</th>\n",
       "      <th>Cattle_SS</th>\n",
       "      <th>Lean Hogs_SS</th>\n",
       "      <th>Soybeans_SS</th>\n",
       "      <th>Lumber_SS</th>\n",
       "      <th>Capacity Utilization_SS</th>\n",
       "      <th>Corn_SS</th>\n",
       "      <th>M2 Velocity_SS</th>\n",
       "      <th>GDP_SS</th>\n",
       "      <th>Wheat_SS</th>\n",
       "      <th>PMI_SS</th>\n",
       "      <th>USD Index_SS</th>\n",
       "      <th>Unemployment Rate_SS</th>\n",
       "      <th>Initial Jobless Claims_SS</th>\n",
       "    </tr>\n",
       "  </thead>\n",
       "  <tbody>\n",
       "    <tr>\n",
       "      <th>count</th>\n",
       "      <td>224.000000</td>\n",
       "      <td>2.240000e+02</td>\n",
       "      <td>2.240000e+02</td>\n",
       "      <td>2.240000e+02</td>\n",
       "      <td>2.240000e+02</td>\n",
       "      <td>2.240000e+02</td>\n",
       "      <td>2.240000e+02</td>\n",
       "      <td>2.240000e+02</td>\n",
       "      <td>2.240000e+02</td>\n",
       "      <td>2.240000e+02</td>\n",
       "      <td>2.240000e+02</td>\n",
       "      <td>2.240000e+02</td>\n",
       "      <td>2.240000e+02</td>\n",
       "      <td>2.240000e+02</td>\n",
       "      <td>2.240000e+02</td>\n",
       "      <td>2.240000e+02</td>\n",
       "      <td>2.240000e+02</td>\n",
       "      <td>2.240000e+02</td>\n",
       "      <td>2.240000e+02</td>\n",
       "      <td>2.240000e+02</td>\n",
       "    </tr>\n",
       "    <tr>\n",
       "      <th>mean</th>\n",
       "      <td>161.513393</td>\n",
       "      <td>-9.466634e-17</td>\n",
       "      <td>2.230359e-17</td>\n",
       "      <td>-4.609408e-17</td>\n",
       "      <td>-3.172066e-17</td>\n",
       "      <td>-4.956353e-18</td>\n",
       "      <td>-3.766828e-17</td>\n",
       "      <td>-1.883414e-17</td>\n",
       "      <td>-2.837512e-17</td>\n",
       "      <td>-1.536469e-17</td>\n",
       "      <td>-6.567167e-17</td>\n",
       "      <td>-3.655310e-18</td>\n",
       "      <td>3.023375e-17</td>\n",
       "      <td>-3.525206e-17</td>\n",
       "      <td>1.486906e-17</td>\n",
       "      <td>-7.806256e-18</td>\n",
       "      <td>2.255141e-17</td>\n",
       "      <td>2.998593e-17</td>\n",
       "      <td>2.050691e-17</td>\n",
       "      <td>3.221629e-17</td>\n",
       "    </tr>\n",
       "    <tr>\n",
       "      <th>std</th>\n",
       "      <td>91.840864</td>\n",
       "      <td>1.002240e+00</td>\n",
       "      <td>1.002240e+00</td>\n",
       "      <td>1.002240e+00</td>\n",
       "      <td>1.002240e+00</td>\n",
       "      <td>1.002240e+00</td>\n",
       "      <td>1.002240e+00</td>\n",
       "      <td>1.002240e+00</td>\n",
       "      <td>1.002240e+00</td>\n",
       "      <td>1.002240e+00</td>\n",
       "      <td>1.002240e+00</td>\n",
       "      <td>1.002240e+00</td>\n",
       "      <td>1.002240e+00</td>\n",
       "      <td>1.002240e+00</td>\n",
       "      <td>1.002240e+00</td>\n",
       "      <td>1.002240e+00</td>\n",
       "      <td>1.002240e+00</td>\n",
       "      <td>1.002240e+00</td>\n",
       "      <td>1.002240e+00</td>\n",
       "      <td>1.002240e+00</td>\n",
       "    </tr>\n",
       "    <tr>\n",
       "      <th>min</th>\n",
       "      <td>0.000000</td>\n",
       "      <td>-6.325353e+00</td>\n",
       "      <td>-3.332127e+00</td>\n",
       "      <td>-3.386154e+00</td>\n",
       "      <td>-4.310457e+00</td>\n",
       "      <td>-1.940694e+00</td>\n",
       "      <td>-2.158512e+00</td>\n",
       "      <td>-3.240904e+00</td>\n",
       "      <td>-2.330984e+00</td>\n",
       "      <td>-3.523597e+00</td>\n",
       "      <td>-2.391266e+00</td>\n",
       "      <td>-4.185881e+00</td>\n",
       "      <td>-2.804955e+00</td>\n",
       "      <td>-7.637671e+00</td>\n",
       "      <td>-4.041434e+00</td>\n",
       "      <td>-2.819227e+00</td>\n",
       "      <td>-3.957684e+00</td>\n",
       "      <td>-2.051576e+00</td>\n",
       "      <td>-3.107682e+00</td>\n",
       "      <td>-2.341752e+00</td>\n",
       "    </tr>\n",
       "    <tr>\n",
       "      <th>25%</th>\n",
       "      <td>84.500000</td>\n",
       "      <td>-2.654477e-01</td>\n",
       "      <td>-4.809661e-01</td>\n",
       "      <td>-5.143811e-01</td>\n",
       "      <td>-5.894124e-01</td>\n",
       "      <td>-6.946725e-01</td>\n",
       "      <td>-6.085606e-01</td>\n",
       "      <td>-6.323248e-01</td>\n",
       "      <td>-6.660726e-01</td>\n",
       "      <td>-6.091566e-01</td>\n",
       "      <td>-7.210567e-01</td>\n",
       "      <td>-3.007541e-01</td>\n",
       "      <td>-5.751711e-01</td>\n",
       "      <td>-9.765354e-02</td>\n",
       "      <td>-3.670382e-01</td>\n",
       "      <td>-6.414855e-01</td>\n",
       "      <td>-5.413748e-01</td>\n",
       "      <td>-6.983481e-01</td>\n",
       "      <td>-5.491984e-01</td>\n",
       "      <td>-3.738570e-01</td>\n",
       "    </tr>\n",
       "    <tr>\n",
       "      <th>50%</th>\n",
       "      <td>160.500000</td>\n",
       "      <td>1.237895e-01</td>\n",
       "      <td>9.278103e-02</td>\n",
       "      <td>3.140794e-02</td>\n",
       "      <td>-4.334462e-02</td>\n",
       "      <td>-1.855822e-01</td>\n",
       "      <td>-1.274154e-01</td>\n",
       "      <td>7.765653e-02</td>\n",
       "      <td>-1.043324e-01</td>\n",
       "      <td>-7.755773e-02</td>\n",
       "      <td>-6.975767e-02</td>\n",
       "      <td>1.157687e-01</td>\n",
       "      <td>-9.562681e-02</td>\n",
       "      <td>1.142519e-01</td>\n",
       "      <td>4.486606e-02</td>\n",
       "      <td>-8.902961e-02</td>\n",
       "      <td>-7.852001e-02</td>\n",
       "      <td>-1.791613e-02</td>\n",
       "      <td>-1.227844e-01</td>\n",
       "      <td>-3.598116e-03</td>\n",
       "    </tr>\n",
       "    <tr>\n",
       "      <th>75%</th>\n",
       "      <td>239.250000</td>\n",
       "      <td>4.175984e-01</td>\n",
       "      <td>6.166601e-01</td>\n",
       "      <td>6.038625e-01</td>\n",
       "      <td>6.114516e-01</td>\n",
       "      <td>5.306842e-01</td>\n",
       "      <td>6.505872e-01</td>\n",
       "      <td>6.754089e-01</td>\n",
       "      <td>7.064737e-01</td>\n",
       "      <td>5.345899e-01</td>\n",
       "      <td>6.240226e-01</td>\n",
       "      <td>5.025650e-01</td>\n",
       "      <td>5.732496e-01</td>\n",
       "      <td>3.634911e-01</td>\n",
       "      <td>5.687879e-01</td>\n",
       "      <td>5.091645e-01</td>\n",
       "      <td>5.110688e-01</td>\n",
       "      <td>6.502723e-01</td>\n",
       "      <td>3.036296e-01</td>\n",
       "      <td>3.400676e-01</td>\n",
       "    </tr>\n",
       "    <tr>\n",
       "      <th>max</th>\n",
       "      <td>320.000000</td>\n",
       "      <td>2.792019e+00</td>\n",
       "      <td>2.468353e+00</td>\n",
       "      <td>2.391802e+00</td>\n",
       "      <td>2.845520e+00</td>\n",
       "      <td>3.233036e+00</td>\n",
       "      <td>2.182962e+00</td>\n",
       "      <td>2.876337e+00</td>\n",
       "      <td>3.032588e+00</td>\n",
       "      <td>2.763127e+00</td>\n",
       "      <td>2.811004e+00</td>\n",
       "      <td>2.015870e+00</td>\n",
       "      <td>3.539395e+00</td>\n",
       "      <td>1.846627e+00</td>\n",
       "      <td>2.624512e+00</td>\n",
       "      <td>3.702891e+00</td>\n",
       "      <td>3.481054e+00</td>\n",
       "      <td>3.402171e+00</td>\n",
       "      <td>3.288528e+00</td>\n",
       "      <td>2.567758e+00</td>\n",
       "    </tr>\n",
       "  </tbody>\n",
       "</table>\n",
       "</div>"
      ],
      "text/plain": [
       "       Unnamed: 0  Wages CPI_SS        WTI_SS  Heating Oil_SS     Copper_SS  \\\n",
       "count  224.000000  2.240000e+02  2.240000e+02    2.240000e+02  2.240000e+02   \n",
       "mean   161.513393 -9.466634e-17  2.230359e-17   -4.609408e-17 -3.172066e-17   \n",
       "std     91.840864  1.002240e+00  1.002240e+00    1.002240e+00  1.002240e+00   \n",
       "min      0.000000 -6.325353e+00 -3.332127e+00   -3.386154e+00 -4.310457e+00   \n",
       "25%     84.500000 -2.654477e-01 -4.809661e-01   -5.143811e-01 -5.894124e-01   \n",
       "50%    160.500000  1.237895e-01  9.278103e-02    3.140794e-02 -4.334462e-02   \n",
       "75%    239.250000  4.175984e-01  6.166601e-01    6.038625e-01  6.114516e-01   \n",
       "max    320.000000  2.792019e+00  2.468353e+00    2.391802e+00  2.845520e+00   \n",
       "\n",
       "           Sugar_SS  Natural Gas_SS     Cattle_SS  Lean Hogs_SS   Soybeans_SS  \\\n",
       "count  2.240000e+02    2.240000e+02  2.240000e+02  2.240000e+02  2.240000e+02   \n",
       "mean  -4.956353e-18   -3.766828e-17 -1.883414e-17 -2.837512e-17 -1.536469e-17   \n",
       "std    1.002240e+00    1.002240e+00  1.002240e+00  1.002240e+00  1.002240e+00   \n",
       "min   -1.940694e+00   -2.158512e+00 -3.240904e+00 -2.330984e+00 -3.523597e+00   \n",
       "25%   -6.946725e-01   -6.085606e-01 -6.323248e-01 -6.660726e-01 -6.091566e-01   \n",
       "50%   -1.855822e-01   -1.274154e-01  7.765653e-02 -1.043324e-01 -7.755773e-02   \n",
       "75%    5.306842e-01    6.505872e-01  6.754089e-01  7.064737e-01  5.345899e-01   \n",
       "max    3.233036e+00    2.182962e+00  2.876337e+00  3.032588e+00  2.763127e+00   \n",
       "\n",
       "          Lumber_SS  Capacity Utilization_SS       Corn_SS  M2 Velocity_SS  \\\n",
       "count  2.240000e+02             2.240000e+02  2.240000e+02    2.240000e+02   \n",
       "mean  -6.567167e-17            -3.655310e-18  3.023375e-17   -3.525206e-17   \n",
       "std    1.002240e+00             1.002240e+00  1.002240e+00    1.002240e+00   \n",
       "min   -2.391266e+00            -4.185881e+00 -2.804955e+00   -7.637671e+00   \n",
       "25%   -7.210567e-01            -3.007541e-01 -5.751711e-01   -9.765354e-02   \n",
       "50%   -6.975767e-02             1.157687e-01 -9.562681e-02    1.142519e-01   \n",
       "75%    6.240226e-01             5.025650e-01  5.732496e-01    3.634911e-01   \n",
       "max    2.811004e+00             2.015870e+00  3.539395e+00    1.846627e+00   \n",
       "\n",
       "             GDP_SS      Wheat_SS        PMI_SS  USD Index_SS  \\\n",
       "count  2.240000e+02  2.240000e+02  2.240000e+02  2.240000e+02   \n",
       "mean   1.486906e-17 -7.806256e-18  2.255141e-17  2.998593e-17   \n",
       "std    1.002240e+00  1.002240e+00  1.002240e+00  1.002240e+00   \n",
       "min   -4.041434e+00 -2.819227e+00 -3.957684e+00 -2.051576e+00   \n",
       "25%   -3.670382e-01 -6.414855e-01 -5.413748e-01 -6.983481e-01   \n",
       "50%    4.486606e-02 -8.902961e-02 -7.852001e-02 -1.791613e-02   \n",
       "75%    5.687879e-01  5.091645e-01  5.110688e-01  6.502723e-01   \n",
       "max    2.624512e+00  3.702891e+00  3.481054e+00  3.402171e+00   \n",
       "\n",
       "       Unemployment Rate_SS  Initial Jobless Claims_SS  \n",
       "count          2.240000e+02               2.240000e+02  \n",
       "mean           2.050691e-17               3.221629e-17  \n",
       "std            1.002240e+00               1.002240e+00  \n",
       "min           -3.107682e+00              -2.341752e+00  \n",
       "25%           -5.491984e-01              -3.738570e-01  \n",
       "50%           -1.227844e-01              -3.598116e-03  \n",
       "75%            3.036296e-01               3.400676e-01  \n",
       "max            3.288528e+00               2.567758e+00  "
      ]
     },
     "execution_count": 204,
     "metadata": {},
     "output_type": "execute_result"
    }
   ],
   "source": [
    "X_train_SS.describe()"
   ]
  },
  {
   "cell_type": "code",
   "execution_count": 205,
   "id": "6dd165f6",
   "metadata": {},
   "outputs": [
    {
     "data": {
      "text/html": [
       "<div>\n",
       "<style scoped>\n",
       "    .dataframe tbody tr th:only-of-type {\n",
       "        vertical-align: middle;\n",
       "    }\n",
       "\n",
       "    .dataframe tbody tr th {\n",
       "        vertical-align: top;\n",
       "    }\n",
       "\n",
       "    .dataframe thead th {\n",
       "        text-align: right;\n",
       "    }\n",
       "</style>\n",
       "<table border=\"1\" class=\"dataframe\">\n",
       "  <thead>\n",
       "    <tr style=\"text-align: right;\">\n",
       "      <th></th>\n",
       "      <th>Unnamed: 0</th>\n",
       "      <th>Wages CPI_SS</th>\n",
       "      <th>WTI_SS</th>\n",
       "      <th>Heating Oil_SS</th>\n",
       "      <th>Copper_SS</th>\n",
       "      <th>Sugar_SS</th>\n",
       "      <th>Natural Gas_SS</th>\n",
       "      <th>Cattle_SS</th>\n",
       "      <th>Lean Hogs_SS</th>\n",
       "      <th>Soybeans_SS</th>\n",
       "      <th>Lumber_SS</th>\n",
       "      <th>Capacity Utilization_SS</th>\n",
       "      <th>Corn_SS</th>\n",
       "      <th>M2 Velocity_SS</th>\n",
       "      <th>GDP_SS</th>\n",
       "      <th>Wheat_SS</th>\n",
       "      <th>PMI_SS</th>\n",
       "      <th>USD Index_SS</th>\n",
       "      <th>Unemployment Rate_SS</th>\n",
       "      <th>Initial Jobless Claims_SS</th>\n",
       "    </tr>\n",
       "  </thead>\n",
       "  <tbody>\n",
       "    <tr>\n",
       "      <th>0</th>\n",
       "      <td>206</td>\n",
       "      <td>-0.034522</td>\n",
       "      <td>0.337816</td>\n",
       "      <td>0.481291</td>\n",
       "      <td>-0.682213</td>\n",
       "      <td>0.523783</td>\n",
       "      <td>-0.489975</td>\n",
       "      <td>0.318598</td>\n",
       "      <td>-0.846294</td>\n",
       "      <td>1.644568</td>\n",
       "      <td>-1.172930</td>\n",
       "      <td>0.380461</td>\n",
       "      <td>1.639062</td>\n",
       "      <td>-0.204286</td>\n",
       "      <td>-0.328722</td>\n",
       "      <td>2.321408</td>\n",
       "      <td>-0.938107</td>\n",
       "      <td>-1.622419</td>\n",
       "      <td>-0.229388</td>\n",
       "      <td>-0.026100</td>\n",
       "    </tr>\n",
       "    <tr>\n",
       "      <th>1</th>\n",
       "      <td>81</td>\n",
       "      <td>-0.006641</td>\n",
       "      <td>0.173265</td>\n",
       "      <td>-0.160271</td>\n",
       "      <td>-0.569430</td>\n",
       "      <td>-0.083423</td>\n",
       "      <td>0.835685</td>\n",
       "      <td>1.008411</td>\n",
       "      <td>1.791885</td>\n",
       "      <td>0.675056</td>\n",
       "      <td>-0.538802</td>\n",
       "      <td>0.740312</td>\n",
       "      <td>0.731243</td>\n",
       "      <td>0.300508</td>\n",
       "      <td>0.940181</td>\n",
       "      <td>0.119914</td>\n",
       "      <td>-0.133622</td>\n",
       "      <td>-0.142229</td>\n",
       "      <td>-0.549198</td>\n",
       "      <td>-0.193842</td>\n",
       "    </tr>\n",
       "    <tr>\n",
       "      <th>2</th>\n",
       "      <td>147</td>\n",
       "      <td>0.734313</td>\n",
       "      <td>1.289719</td>\n",
       "      <td>1.601918</td>\n",
       "      <td>1.546537</td>\n",
       "      <td>0.422772</td>\n",
       "      <td>1.545136</td>\n",
       "      <td>-0.353821</td>\n",
       "      <td>0.961819</td>\n",
       "      <td>0.779669</td>\n",
       "      <td>-0.462070</td>\n",
       "      <td>-0.736607</td>\n",
       "      <td>1.862612</td>\n",
       "      <td>-0.069183</td>\n",
       "      <td>-0.073453</td>\n",
       "      <td>-0.337477</td>\n",
       "      <td>-0.155662</td>\n",
       "      <td>-1.307015</td>\n",
       "      <td>0.730044</td>\n",
       "      <td>1.119452</td>\n",
       "    </tr>\n",
       "    <tr>\n",
       "      <th>3</th>\n",
       "      <td>39</td>\n",
       "      <td>0.198463</td>\n",
       "      <td>0.493904</td>\n",
       "      <td>-0.159112</td>\n",
       "      <td>-0.111911</td>\n",
       "      <td>-0.987941</td>\n",
       "      <td>-0.619715</td>\n",
       "      <td>0.172671</td>\n",
       "      <td>-0.155382</td>\n",
       "      <td>0.349725</td>\n",
       "      <td>0.790682</td>\n",
       "      <td>0.864802</td>\n",
       "      <td>0.509190</td>\n",
       "      <td>0.443775</td>\n",
       "      <td>0.775565</td>\n",
       "      <td>0.679329</td>\n",
       "      <td>0.097806</td>\n",
       "      <td>-0.951427</td>\n",
       "      <td>-0.122784</td>\n",
       "      <td>-0.410678</td>\n",
       "    </tr>\n",
       "    <tr>\n",
       "      <th>4</th>\n",
       "      <td>222</td>\n",
       "      <td>0.416816</td>\n",
       "      <td>-0.890056</td>\n",
       "      <td>-0.967141</td>\n",
       "      <td>-0.493332</td>\n",
       "      <td>-0.279105</td>\n",
       "      <td>2.130671</td>\n",
       "      <td>1.749809</td>\n",
       "      <td>0.149382</td>\n",
       "      <td>-0.110967</td>\n",
       "      <td>-0.588674</td>\n",
       "      <td>-1.376351</td>\n",
       "      <td>0.605903</td>\n",
       "      <td>-0.707909</td>\n",
       "      <td>-1.056670</td>\n",
       "      <td>0.261332</td>\n",
       "      <td>-2.095244</td>\n",
       "      <td>-0.820587</td>\n",
       "      <td>0.730044</td>\n",
       "      <td>2.023621</td>\n",
       "    </tr>\n",
       "  </tbody>\n",
       "</table>\n",
       "</div>"
      ],
      "text/plain": [
       "   Unnamed: 0  Wages CPI_SS    WTI_SS  Heating Oil_SS  Copper_SS  Sugar_SS  \\\n",
       "0         206     -0.034522  0.337816        0.481291  -0.682213  0.523783   \n",
       "1          81     -0.006641  0.173265       -0.160271  -0.569430 -0.083423   \n",
       "2         147      0.734313  1.289719        1.601918   1.546537  0.422772   \n",
       "3          39      0.198463  0.493904       -0.159112  -0.111911 -0.987941   \n",
       "4         222      0.416816 -0.890056       -0.967141  -0.493332 -0.279105   \n",
       "\n",
       "   Natural Gas_SS  Cattle_SS  Lean Hogs_SS  Soybeans_SS  Lumber_SS  \\\n",
       "0       -0.489975   0.318598     -0.846294     1.644568  -1.172930   \n",
       "1        0.835685   1.008411      1.791885     0.675056  -0.538802   \n",
       "2        1.545136  -0.353821      0.961819     0.779669  -0.462070   \n",
       "3       -0.619715   0.172671     -0.155382     0.349725   0.790682   \n",
       "4        2.130671   1.749809      0.149382    -0.110967  -0.588674   \n",
       "\n",
       "   Capacity Utilization_SS   Corn_SS  M2 Velocity_SS    GDP_SS  Wheat_SS  \\\n",
       "0                 0.380461  1.639062       -0.204286 -0.328722  2.321408   \n",
       "1                 0.740312  0.731243        0.300508  0.940181  0.119914   \n",
       "2                -0.736607  1.862612       -0.069183 -0.073453 -0.337477   \n",
       "3                 0.864802  0.509190        0.443775  0.775565  0.679329   \n",
       "4                -1.376351  0.605903       -0.707909 -1.056670  0.261332   \n",
       "\n",
       "     PMI_SS  USD Index_SS  Unemployment Rate_SS  Initial Jobless Claims_SS  \n",
       "0 -0.938107     -1.622419             -0.229388                  -0.026100  \n",
       "1 -0.133622     -0.142229             -0.549198                  -0.193842  \n",
       "2 -0.155662     -1.307015              0.730044                   1.119452  \n",
       "3  0.097806     -0.951427             -0.122784                  -0.410678  \n",
       "4 -2.095244     -0.820587              0.730044                   2.023621  "
      ]
     },
     "execution_count": 205,
     "metadata": {},
     "output_type": "execute_result"
    }
   ],
   "source": [
    "X_train_SS.head()"
   ]
  },
  {
   "cell_type": "code",
   "execution_count": 206,
   "id": "5fd70f6f",
   "metadata": {},
   "outputs": [],
   "source": [
    "X_train_SS = X_train_SS.drop(['Unnamed: 0'], axis=1)"
   ]
  },
  {
   "cell_type": "code",
   "execution_count": 207,
   "id": "67efdb72",
   "metadata": {},
   "outputs": [
    {
     "data": {
      "text/html": [
       "<div>\n",
       "<style scoped>\n",
       "    .dataframe tbody tr th:only-of-type {\n",
       "        vertical-align: middle;\n",
       "    }\n",
       "\n",
       "    .dataframe tbody tr th {\n",
       "        vertical-align: top;\n",
       "    }\n",
       "\n",
       "    .dataframe thead th {\n",
       "        text-align: right;\n",
       "    }\n",
       "</style>\n",
       "<table border=\"1\" class=\"dataframe\">\n",
       "  <thead>\n",
       "    <tr style=\"text-align: right;\">\n",
       "      <th></th>\n",
       "      <th>Unnamed: 0</th>\n",
       "      <th>Inflation_SS</th>\n",
       "    </tr>\n",
       "  </thead>\n",
       "  <tbody>\n",
       "    <tr>\n",
       "      <th>count</th>\n",
       "      <td>224.000000</td>\n",
       "      <td>2.240000e+02</td>\n",
       "    </tr>\n",
       "    <tr>\n",
       "      <th>mean</th>\n",
       "      <td>161.513393</td>\n",
       "      <td>8.921435e-18</td>\n",
       "    </tr>\n",
       "    <tr>\n",
       "      <th>std</th>\n",
       "      <td>91.840864</td>\n",
       "      <td>1.002240e+00</td>\n",
       "    </tr>\n",
       "    <tr>\n",
       "      <th>min</th>\n",
       "      <td>0.000000</td>\n",
       "      <td>-5.529277e+00</td>\n",
       "    </tr>\n",
       "    <tr>\n",
       "      <th>25%</th>\n",
       "      <td>84.500000</td>\n",
       "      <td>-4.672953e-01</td>\n",
       "    </tr>\n",
       "    <tr>\n",
       "      <th>50%</th>\n",
       "      <td>160.500000</td>\n",
       "      <td>-3.656088e-02</td>\n",
       "    </tr>\n",
       "    <tr>\n",
       "      <th>75%</th>\n",
       "      <td>239.250000</td>\n",
       "      <td>4.109370e-01</td>\n",
       "    </tr>\n",
       "    <tr>\n",
       "      <th>max</th>\n",
       "      <td>320.000000</td>\n",
       "      <td>4.532179e+00</td>\n",
       "    </tr>\n",
       "  </tbody>\n",
       "</table>\n",
       "</div>"
      ],
      "text/plain": [
       "       Unnamed: 0  Inflation_SS\n",
       "count  224.000000  2.240000e+02\n",
       "mean   161.513393  8.921435e-18\n",
       "std     91.840864  1.002240e+00\n",
       "min      0.000000 -5.529277e+00\n",
       "25%     84.500000 -4.672953e-01\n",
       "50%    160.500000 -3.656088e-02\n",
       "75%    239.250000  4.109370e-01\n",
       "max    320.000000  4.532179e+00"
      ]
     },
     "execution_count": 207,
     "metadata": {},
     "output_type": "execute_result"
    }
   ],
   "source": [
    "y_train_SS.describe()"
   ]
  },
  {
   "cell_type": "code",
   "execution_count": 208,
   "id": "7ce9356b",
   "metadata": {},
   "outputs": [],
   "source": [
    "y_train_SS = y_train_SS.drop(['Unnamed: 0'], axis=1)"
   ]
  },
  {
   "cell_type": "code",
   "execution_count": 209,
   "id": "53559f0e",
   "metadata": {},
   "outputs": [
    {
     "data": {
      "text/html": [
       "<div>\n",
       "<style scoped>\n",
       "    .dataframe tbody tr th:only-of-type {\n",
       "        vertical-align: middle;\n",
       "    }\n",
       "\n",
       "    .dataframe tbody tr th {\n",
       "        vertical-align: top;\n",
       "    }\n",
       "\n",
       "    .dataframe thead th {\n",
       "        text-align: right;\n",
       "    }\n",
       "</style>\n",
       "<table border=\"1\" class=\"dataframe\">\n",
       "  <thead>\n",
       "    <tr style=\"text-align: right;\">\n",
       "      <th></th>\n",
       "      <th>Unnamed: 0</th>\n",
       "      <th>Wages CPI_SS</th>\n",
       "      <th>WTI_SS</th>\n",
       "      <th>Heating Oil_SS</th>\n",
       "      <th>Copper_SS</th>\n",
       "      <th>Sugar_SS</th>\n",
       "      <th>Natural Gas_SS</th>\n",
       "      <th>Cattle_SS</th>\n",
       "      <th>Lean Hogs_SS</th>\n",
       "      <th>Soybeans_SS</th>\n",
       "      <th>Lumber_SS</th>\n",
       "      <th>Capacity Utilization_SS</th>\n",
       "      <th>Corn_SS</th>\n",
       "      <th>M2 Velocity_SS</th>\n",
       "      <th>GDP_SS</th>\n",
       "      <th>Wheat_SS</th>\n",
       "      <th>PMI_SS</th>\n",
       "      <th>USD Index_SS</th>\n",
       "      <th>Unemployment Rate_SS</th>\n",
       "      <th>Initial Jobless Claims_SS</th>\n",
       "    </tr>\n",
       "  </thead>\n",
       "  <tbody>\n",
       "    <tr>\n",
       "      <th>count</th>\n",
       "      <td>97.000000</td>\n",
       "      <td>97.000000</td>\n",
       "      <td>97.000000</td>\n",
       "      <td>97.000000</td>\n",
       "      <td>97.000000</td>\n",
       "      <td>97.000000</td>\n",
       "      <td>97.000000</td>\n",
       "      <td>97.000000</td>\n",
       "      <td>97.000000</td>\n",
       "      <td>97.000000</td>\n",
       "      <td>97.000000</td>\n",
       "      <td>97.000000</td>\n",
       "      <td>97.000000</td>\n",
       "      <td>97.000000</td>\n",
       "      <td>97.000000</td>\n",
       "      <td>97.000000</td>\n",
       "      <td>97.000000</td>\n",
       "      <td>97.000000</td>\n",
       "      <td>97.000000</td>\n",
       "      <td>97.000000</td>\n",
       "    </tr>\n",
       "    <tr>\n",
       "      <th>mean</th>\n",
       "      <td>156.505155</td>\n",
       "      <td>-0.004229</td>\n",
       "      <td>-0.059347</td>\n",
       "      <td>-0.082202</td>\n",
       "      <td>0.073220</td>\n",
       "      <td>0.130749</td>\n",
       "      <td>0.035497</td>\n",
       "      <td>-0.012833</td>\n",
       "      <td>0.023797</td>\n",
       "      <td>-0.122300</td>\n",
       "      <td>-0.078476</td>\n",
       "      <td>0.037514</td>\n",
       "      <td>-0.083010</td>\n",
       "      <td>0.028979</td>\n",
       "      <td>-0.033664</td>\n",
       "      <td>-0.131335</td>\n",
       "      <td>-0.030235</td>\n",
       "      <td>0.051016</td>\n",
       "      <td>-0.143665</td>\n",
       "      <td>-0.116192</td>\n",
       "    </tr>\n",
       "    <tr>\n",
       "      <th>std</th>\n",
       "      <td>95.397974</td>\n",
       "      <td>0.744872</td>\n",
       "      <td>0.858036</td>\n",
       "      <td>0.905700</td>\n",
       "      <td>1.037702</td>\n",
       "      <td>1.112417</td>\n",
       "      <td>1.009757</td>\n",
       "      <td>0.979557</td>\n",
       "      <td>0.950832</td>\n",
       "      <td>1.048282</td>\n",
       "      <td>1.122470</td>\n",
       "      <td>0.895333</td>\n",
       "      <td>0.872136</td>\n",
       "      <td>0.450774</td>\n",
       "      <td>0.993953</td>\n",
       "      <td>0.830178</td>\n",
       "      <td>0.924028</td>\n",
       "      <td>0.950501</td>\n",
       "      <td>0.979293</td>\n",
       "      <td>1.051211</td>\n",
       "    </tr>\n",
       "    <tr>\n",
       "      <th>min</th>\n",
       "      <td>3.000000</td>\n",
       "      <td>-2.347454</td>\n",
       "      <td>-2.348070</td>\n",
       "      <td>-2.285622</td>\n",
       "      <td>-2.059683</td>\n",
       "      <td>-1.940694</td>\n",
       "      <td>-2.087872</td>\n",
       "      <td>-2.172958</td>\n",
       "      <td>-2.194097</td>\n",
       "      <td>-2.970895</td>\n",
       "      <td>-2.465595</td>\n",
       "      <td>-4.185881</td>\n",
       "      <td>-2.097836</td>\n",
       "      <td>-1.796585</td>\n",
       "      <td>-4.041434</td>\n",
       "      <td>-1.836079</td>\n",
       "      <td>-1.775654</td>\n",
       "      <td>-1.998456</td>\n",
       "      <td>-3.107682</td>\n",
       "      <td>-2.341752</td>\n",
       "    </tr>\n",
       "    <tr>\n",
       "      <th>25%</th>\n",
       "      <td>76.000000</td>\n",
       "      <td>-0.305597</td>\n",
       "      <td>-0.557343</td>\n",
       "      <td>-0.574811</td>\n",
       "      <td>-0.556546</td>\n",
       "      <td>-0.691355</td>\n",
       "      <td>-0.701725</td>\n",
       "      <td>-0.744486</td>\n",
       "      <td>-0.571481</td>\n",
       "      <td>-0.585482</td>\n",
       "      <td>-0.769273</td>\n",
       "      <td>-0.426792</td>\n",
       "      <td>-0.681218</td>\n",
       "      <td>-0.144240</td>\n",
       "      <td>-0.363203</td>\n",
       "      <td>-0.715256</td>\n",
       "      <td>-0.838924</td>\n",
       "      <td>-0.759423</td>\n",
       "      <td>-0.549198</td>\n",
       "      <td>-0.647971</td>\n",
       "    </tr>\n",
       "    <tr>\n",
       "      <th>50%</th>\n",
       "      <td>158.000000</td>\n",
       "      <td>0.081566</td>\n",
       "      <td>-0.126041</td>\n",
       "      <td>-0.227636</td>\n",
       "      <td>-0.085251</td>\n",
       "      <td>-0.099503</td>\n",
       "      <td>-0.102963</td>\n",
       "      <td>0.149608</td>\n",
       "      <td>-0.004860</td>\n",
       "      <td>-0.181181</td>\n",
       "      <td>-0.245535</td>\n",
       "      <td>0.164251</td>\n",
       "      <td>-0.125970</td>\n",
       "      <td>0.030144</td>\n",
       "      <td>0.106914</td>\n",
       "      <td>-0.238628</td>\n",
       "      <td>0.031684</td>\n",
       "      <td>0.074921</td>\n",
       "      <td>-0.122784</td>\n",
       "      <td>-0.120199</td>\n",
       "    </tr>\n",
       "    <tr>\n",
       "      <th>75%</th>\n",
       "      <td>244.000000</td>\n",
       "      <td>0.353440</td>\n",
       "      <td>0.464101</td>\n",
       "      <td>0.502253</td>\n",
       "      <td>0.625169</td>\n",
       "      <td>1.010831</td>\n",
       "      <td>0.690035</td>\n",
       "      <td>0.838495</td>\n",
       "      <td>0.616294</td>\n",
       "      <td>0.426255</td>\n",
       "      <td>0.524656</td>\n",
       "      <td>0.457265</td>\n",
       "      <td>0.264837</td>\n",
       "      <td>0.325496</td>\n",
       "      <td>0.420734</td>\n",
       "      <td>0.475260</td>\n",
       "      <td>0.549640</td>\n",
       "      <td>0.452498</td>\n",
       "      <td>0.303630</td>\n",
       "      <td>0.407573</td>\n",
       "    </tr>\n",
       "    <tr>\n",
       "      <th>max</th>\n",
       "      <td>318.000000</td>\n",
       "      <td>2.286227</td>\n",
       "      <td>2.468353</td>\n",
       "      <td>2.344015</td>\n",
       "      <td>4.017980</td>\n",
       "      <td>3.233036</td>\n",
       "      <td>2.182962</td>\n",
       "      <td>1.781581</td>\n",
       "      <td>2.403488</td>\n",
       "      <td>2.341499</td>\n",
       "      <td>2.811004</td>\n",
       "      <td>2.015870</td>\n",
       "      <td>2.325615</td>\n",
       "      <td>0.843583</td>\n",
       "      <td>2.624512</td>\n",
       "      <td>1.939893</td>\n",
       "      <td>2.434120</td>\n",
       "      <td>2.526111</td>\n",
       "      <td>3.288528</td>\n",
       "      <td>2.567758</td>\n",
       "    </tr>\n",
       "  </tbody>\n",
       "</table>\n",
       "</div>"
      ],
      "text/plain": [
       "       Unnamed: 0  Wages CPI_SS     WTI_SS  Heating Oil_SS  Copper_SS  \\\n",
       "count   97.000000     97.000000  97.000000       97.000000  97.000000   \n",
       "mean   156.505155     -0.004229  -0.059347       -0.082202   0.073220   \n",
       "std     95.397974      0.744872   0.858036        0.905700   1.037702   \n",
       "min      3.000000     -2.347454  -2.348070       -2.285622  -2.059683   \n",
       "25%     76.000000     -0.305597  -0.557343       -0.574811  -0.556546   \n",
       "50%    158.000000      0.081566  -0.126041       -0.227636  -0.085251   \n",
       "75%    244.000000      0.353440   0.464101        0.502253   0.625169   \n",
       "max    318.000000      2.286227   2.468353        2.344015   4.017980   \n",
       "\n",
       "        Sugar_SS  Natural Gas_SS  Cattle_SS  Lean Hogs_SS  Soybeans_SS  \\\n",
       "count  97.000000       97.000000  97.000000     97.000000    97.000000   \n",
       "mean    0.130749        0.035497  -0.012833      0.023797    -0.122300   \n",
       "std     1.112417        1.009757   0.979557      0.950832     1.048282   \n",
       "min    -1.940694       -2.087872  -2.172958     -2.194097    -2.970895   \n",
       "25%    -0.691355       -0.701725  -0.744486     -0.571481    -0.585482   \n",
       "50%    -0.099503       -0.102963   0.149608     -0.004860    -0.181181   \n",
       "75%     1.010831        0.690035   0.838495      0.616294     0.426255   \n",
       "max     3.233036        2.182962   1.781581      2.403488     2.341499   \n",
       "\n",
       "       Lumber_SS  Capacity Utilization_SS    Corn_SS  M2 Velocity_SS  \\\n",
       "count  97.000000                97.000000  97.000000       97.000000   \n",
       "mean   -0.078476                 0.037514  -0.083010        0.028979   \n",
       "std     1.122470                 0.895333   0.872136        0.450774   \n",
       "min    -2.465595                -4.185881  -2.097836       -1.796585   \n",
       "25%    -0.769273                -0.426792  -0.681218       -0.144240   \n",
       "50%    -0.245535                 0.164251  -0.125970        0.030144   \n",
       "75%     0.524656                 0.457265   0.264837        0.325496   \n",
       "max     2.811004                 2.015870   2.325615        0.843583   \n",
       "\n",
       "          GDP_SS   Wheat_SS     PMI_SS  USD Index_SS  Unemployment Rate_SS  \\\n",
       "count  97.000000  97.000000  97.000000     97.000000             97.000000   \n",
       "mean   -0.033664  -0.131335  -0.030235      0.051016             -0.143665   \n",
       "std     0.993953   0.830178   0.924028      0.950501              0.979293   \n",
       "min    -4.041434  -1.836079  -1.775654     -1.998456             -3.107682   \n",
       "25%    -0.363203  -0.715256  -0.838924     -0.759423             -0.549198   \n",
       "50%     0.106914  -0.238628   0.031684      0.074921             -0.122784   \n",
       "75%     0.420734   0.475260   0.549640      0.452498              0.303630   \n",
       "max     2.624512   1.939893   2.434120      2.526111              3.288528   \n",
       "\n",
       "       Initial Jobless Claims_SS  \n",
       "count                  97.000000  \n",
       "mean                   -0.116192  \n",
       "std                     1.051211  \n",
       "min                    -2.341752  \n",
       "25%                    -0.647971  \n",
       "50%                    -0.120199  \n",
       "75%                     0.407573  \n",
       "max                     2.567758  "
      ]
     },
     "execution_count": 209,
     "metadata": {},
     "output_type": "execute_result"
    }
   ],
   "source": [
    "X_test_SS.describe()"
   ]
  },
  {
   "cell_type": "code",
   "execution_count": 210,
   "id": "a8df8e4c",
   "metadata": {},
   "outputs": [],
   "source": [
    "X_test_SS = X_test_SS.drop(['Unnamed: 0'], axis=1)"
   ]
  },
  {
   "cell_type": "code",
   "execution_count": 211,
   "id": "b0da55b9",
   "metadata": {},
   "outputs": [
    {
     "data": {
      "text/html": [
       "<div>\n",
       "<style scoped>\n",
       "    .dataframe tbody tr th:only-of-type {\n",
       "        vertical-align: middle;\n",
       "    }\n",
       "\n",
       "    .dataframe tbody tr th {\n",
       "        vertical-align: top;\n",
       "    }\n",
       "\n",
       "    .dataframe thead th {\n",
       "        text-align: right;\n",
       "    }\n",
       "</style>\n",
       "<table border=\"1\" class=\"dataframe\">\n",
       "  <thead>\n",
       "    <tr style=\"text-align: right;\">\n",
       "      <th></th>\n",
       "      <th>Unnamed: 0</th>\n",
       "      <th>Inflation_SS</th>\n",
       "    </tr>\n",
       "  </thead>\n",
       "  <tbody>\n",
       "    <tr>\n",
       "      <th>count</th>\n",
       "      <td>97.000000</td>\n",
       "      <td>97.000000</td>\n",
       "    </tr>\n",
       "    <tr>\n",
       "      <th>mean</th>\n",
       "      <td>156.505155</td>\n",
       "      <td>-0.052308</td>\n",
       "    </tr>\n",
       "    <tr>\n",
       "      <th>std</th>\n",
       "      <td>95.397974</td>\n",
       "      <td>0.968825</td>\n",
       "    </tr>\n",
       "    <tr>\n",
       "      <th>min</th>\n",
       "      <td>3.000000</td>\n",
       "      <td>-3.249453</td>\n",
       "    </tr>\n",
       "    <tr>\n",
       "      <th>25%</th>\n",
       "      <td>76.000000</td>\n",
       "      <td>-0.434337</td>\n",
       "    </tr>\n",
       "    <tr>\n",
       "      <th>50%</th>\n",
       "      <td>158.000000</td>\n",
       "      <td>-0.053608</td>\n",
       "    </tr>\n",
       "    <tr>\n",
       "      <th>75%</th>\n",
       "      <td>244.000000</td>\n",
       "      <td>0.291888</td>\n",
       "    </tr>\n",
       "    <tr>\n",
       "      <th>max</th>\n",
       "      <td>318.000000</td>\n",
       "      <td>3.753675</td>\n",
       "    </tr>\n",
       "  </tbody>\n",
       "</table>\n",
       "</div>"
      ],
      "text/plain": [
       "       Unnamed: 0  Inflation_SS\n",
       "count   97.000000     97.000000\n",
       "mean   156.505155     -0.052308\n",
       "std     95.397974      0.968825\n",
       "min      3.000000     -3.249453\n",
       "25%     76.000000     -0.434337\n",
       "50%    158.000000     -0.053608\n",
       "75%    244.000000      0.291888\n",
       "max    318.000000      3.753675"
      ]
     },
     "execution_count": 211,
     "metadata": {},
     "output_type": "execute_result"
    }
   ],
   "source": [
    "y_test_SS.describe()"
   ]
  },
  {
   "cell_type": "code",
   "execution_count": 212,
   "id": "5838651e",
   "metadata": {},
   "outputs": [],
   "source": [
    "y_test_SS = y_test_SS.drop(['Unnamed: 0'], axis=1)"
   ]
  },
  {
   "cell_type": "markdown",
   "id": "5f56a3f0",
   "metadata": {},
   "source": [
    "`Mean` should be 0 `Std` should be 1 for `X` but not `y`"
   ]
  },
  {
   "cell_type": "code",
   "execution_count": 213,
   "id": "aab25214",
   "metadata": {},
   "outputs": [
    {
     "data": {
      "text/html": [
       "<div>\n",
       "<style scoped>\n",
       "    .dataframe tbody tr th:only-of-type {\n",
       "        vertical-align: middle;\n",
       "    }\n",
       "\n",
       "    .dataframe tbody tr th {\n",
       "        vertical-align: top;\n",
       "    }\n",
       "\n",
       "    .dataframe thead th {\n",
       "        text-align: right;\n",
       "    }\n",
       "</style>\n",
       "<table border=\"1\" class=\"dataframe\">\n",
       "  <thead>\n",
       "    <tr style=\"text-align: right;\">\n",
       "      <th></th>\n",
       "      <th>Unnamed: 0</th>\n",
       "      <th>Wage CPI_SS_yun</th>\n",
       "      <th>WTI_SS_yun</th>\n",
       "      <th>Heating Oil_SS_yun</th>\n",
       "      <th>Copper_SS_yun</th>\n",
       "      <th>Sugar_SS_yun</th>\n",
       "      <th>Natural Gas_SS_yun</th>\n",
       "      <th>Cattle_SS_yun</th>\n",
       "      <th>Lean Hogs_SS_yun</th>\n",
       "      <th>Soybeans_SS_yun</th>\n",
       "      <th>Lumber_SS_yun</th>\n",
       "      <th>Capacity Utilization_SS_yun</th>\n",
       "      <th>Corn_SS_yun</th>\n",
       "      <th>M2 Velocity_SS_yun</th>\n",
       "      <th>GDP_SS_yun</th>\n",
       "      <th>Wheat_SS_yun</th>\n",
       "      <th>PMI_SS_yun</th>\n",
       "      <th>USD Index_SS_yun</th>\n",
       "      <th>Unemployment Rate_SS_yun</th>\n",
       "      <th>Initial Jobless Claims_SS_yun</th>\n",
       "    </tr>\n",
       "  </thead>\n",
       "  <tbody>\n",
       "    <tr>\n",
       "      <th>count</th>\n",
       "      <td>224.000000</td>\n",
       "      <td>2.240000e+02</td>\n",
       "      <td>2.240000e+02</td>\n",
       "      <td>2.240000e+02</td>\n",
       "      <td>2.240000e+02</td>\n",
       "      <td>2.240000e+02</td>\n",
       "      <td>2.240000e+02</td>\n",
       "      <td>2.240000e+02</td>\n",
       "      <td>2.240000e+02</td>\n",
       "      <td>2.240000e+02</td>\n",
       "      <td>2.240000e+02</td>\n",
       "      <td>2.240000e+02</td>\n",
       "      <td>2.240000e+02</td>\n",
       "      <td>2.240000e+02</td>\n",
       "      <td>2.240000e+02</td>\n",
       "      <td>2.240000e+02</td>\n",
       "      <td>2.240000e+02</td>\n",
       "      <td>2.240000e+02</td>\n",
       "      <td>2.240000e+02</td>\n",
       "      <td>2.240000e+02</td>\n",
       "    </tr>\n",
       "    <tr>\n",
       "      <th>mean</th>\n",
       "      <td>161.513393</td>\n",
       "      <td>-9.466634e-17</td>\n",
       "      <td>2.230359e-17</td>\n",
       "      <td>-4.609408e-17</td>\n",
       "      <td>-3.172066e-17</td>\n",
       "      <td>-4.956353e-18</td>\n",
       "      <td>-3.766828e-17</td>\n",
       "      <td>-1.883414e-17</td>\n",
       "      <td>-2.837512e-17</td>\n",
       "      <td>-1.536469e-17</td>\n",
       "      <td>-6.567167e-17</td>\n",
       "      <td>-3.655310e-18</td>\n",
       "      <td>3.023375e-17</td>\n",
       "      <td>-3.525206e-17</td>\n",
       "      <td>1.486906e-17</td>\n",
       "      <td>-7.806256e-18</td>\n",
       "      <td>2.255141e-17</td>\n",
       "      <td>2.998593e-17</td>\n",
       "      <td>2.050691e-17</td>\n",
       "      <td>3.221629e-17</td>\n",
       "    </tr>\n",
       "    <tr>\n",
       "      <th>std</th>\n",
       "      <td>91.840864</td>\n",
       "      <td>1.002240e+00</td>\n",
       "      <td>1.002240e+00</td>\n",
       "      <td>1.002240e+00</td>\n",
       "      <td>1.002240e+00</td>\n",
       "      <td>1.002240e+00</td>\n",
       "      <td>1.002240e+00</td>\n",
       "      <td>1.002240e+00</td>\n",
       "      <td>1.002240e+00</td>\n",
       "      <td>1.002240e+00</td>\n",
       "      <td>1.002240e+00</td>\n",
       "      <td>1.002240e+00</td>\n",
       "      <td>1.002240e+00</td>\n",
       "      <td>1.002240e+00</td>\n",
       "      <td>1.002240e+00</td>\n",
       "      <td>1.002240e+00</td>\n",
       "      <td>1.002240e+00</td>\n",
       "      <td>1.002240e+00</td>\n",
       "      <td>1.002240e+00</td>\n",
       "      <td>1.002240e+00</td>\n",
       "    </tr>\n",
       "    <tr>\n",
       "      <th>min</th>\n",
       "      <td>0.000000</td>\n",
       "      <td>-6.325353e+00</td>\n",
       "      <td>-3.332127e+00</td>\n",
       "      <td>-3.386154e+00</td>\n",
       "      <td>-4.310457e+00</td>\n",
       "      <td>-1.940694e+00</td>\n",
       "      <td>-2.158512e+00</td>\n",
       "      <td>-3.240904e+00</td>\n",
       "      <td>-2.330984e+00</td>\n",
       "      <td>-3.523597e+00</td>\n",
       "      <td>-2.391266e+00</td>\n",
       "      <td>-4.185881e+00</td>\n",
       "      <td>-2.804955e+00</td>\n",
       "      <td>-7.637671e+00</td>\n",
       "      <td>-4.041434e+00</td>\n",
       "      <td>-2.819227e+00</td>\n",
       "      <td>-3.957684e+00</td>\n",
       "      <td>-2.051576e+00</td>\n",
       "      <td>-3.107682e+00</td>\n",
       "      <td>-2.341752e+00</td>\n",
       "    </tr>\n",
       "    <tr>\n",
       "      <th>25%</th>\n",
       "      <td>84.500000</td>\n",
       "      <td>-2.654477e-01</td>\n",
       "      <td>-4.809661e-01</td>\n",
       "      <td>-5.143811e-01</td>\n",
       "      <td>-5.894124e-01</td>\n",
       "      <td>-6.946725e-01</td>\n",
       "      <td>-6.085606e-01</td>\n",
       "      <td>-6.323248e-01</td>\n",
       "      <td>-6.660726e-01</td>\n",
       "      <td>-6.091566e-01</td>\n",
       "      <td>-7.210567e-01</td>\n",
       "      <td>-3.007541e-01</td>\n",
       "      <td>-5.751711e-01</td>\n",
       "      <td>-9.765354e-02</td>\n",
       "      <td>-3.670382e-01</td>\n",
       "      <td>-6.414855e-01</td>\n",
       "      <td>-5.413748e-01</td>\n",
       "      <td>-6.983481e-01</td>\n",
       "      <td>-5.491984e-01</td>\n",
       "      <td>-3.738570e-01</td>\n",
       "    </tr>\n",
       "    <tr>\n",
       "      <th>50%</th>\n",
       "      <td>160.500000</td>\n",
       "      <td>1.237895e-01</td>\n",
       "      <td>9.278103e-02</td>\n",
       "      <td>3.140794e-02</td>\n",
       "      <td>-4.334462e-02</td>\n",
       "      <td>-1.855822e-01</td>\n",
       "      <td>-1.274154e-01</td>\n",
       "      <td>7.765653e-02</td>\n",
       "      <td>-1.043324e-01</td>\n",
       "      <td>-7.755773e-02</td>\n",
       "      <td>-6.975767e-02</td>\n",
       "      <td>1.157687e-01</td>\n",
       "      <td>-9.562681e-02</td>\n",
       "      <td>1.142519e-01</td>\n",
       "      <td>4.486606e-02</td>\n",
       "      <td>-8.902961e-02</td>\n",
       "      <td>-7.852001e-02</td>\n",
       "      <td>-1.791613e-02</td>\n",
       "      <td>-1.227844e-01</td>\n",
       "      <td>-3.598116e-03</td>\n",
       "    </tr>\n",
       "    <tr>\n",
       "      <th>75%</th>\n",
       "      <td>239.250000</td>\n",
       "      <td>4.175984e-01</td>\n",
       "      <td>6.166601e-01</td>\n",
       "      <td>6.038625e-01</td>\n",
       "      <td>6.114516e-01</td>\n",
       "      <td>5.306842e-01</td>\n",
       "      <td>6.505872e-01</td>\n",
       "      <td>6.754089e-01</td>\n",
       "      <td>7.064737e-01</td>\n",
       "      <td>5.345899e-01</td>\n",
       "      <td>6.240226e-01</td>\n",
       "      <td>5.025650e-01</td>\n",
       "      <td>5.732496e-01</td>\n",
       "      <td>3.634911e-01</td>\n",
       "      <td>5.687879e-01</td>\n",
       "      <td>5.091645e-01</td>\n",
       "      <td>5.110688e-01</td>\n",
       "      <td>6.502723e-01</td>\n",
       "      <td>3.036296e-01</td>\n",
       "      <td>3.400676e-01</td>\n",
       "    </tr>\n",
       "    <tr>\n",
       "      <th>max</th>\n",
       "      <td>320.000000</td>\n",
       "      <td>2.792019e+00</td>\n",
       "      <td>2.468353e+00</td>\n",
       "      <td>2.391802e+00</td>\n",
       "      <td>2.845520e+00</td>\n",
       "      <td>3.233036e+00</td>\n",
       "      <td>2.182962e+00</td>\n",
       "      <td>2.876337e+00</td>\n",
       "      <td>3.032588e+00</td>\n",
       "      <td>2.763127e+00</td>\n",
       "      <td>2.811004e+00</td>\n",
       "      <td>2.015870e+00</td>\n",
       "      <td>3.539395e+00</td>\n",
       "      <td>1.846627e+00</td>\n",
       "      <td>2.624512e+00</td>\n",
       "      <td>3.702891e+00</td>\n",
       "      <td>3.481054e+00</td>\n",
       "      <td>3.402171e+00</td>\n",
       "      <td>3.288528e+00</td>\n",
       "      <td>2.567758e+00</td>\n",
       "    </tr>\n",
       "  </tbody>\n",
       "</table>\n",
       "</div>"
      ],
      "text/plain": [
       "       Unnamed: 0  Wage CPI_SS_yun    WTI_SS_yun  Heating Oil_SS_yun  \\\n",
       "count  224.000000     2.240000e+02  2.240000e+02        2.240000e+02   \n",
       "mean   161.513393    -9.466634e-17  2.230359e-17       -4.609408e-17   \n",
       "std     91.840864     1.002240e+00  1.002240e+00        1.002240e+00   \n",
       "min      0.000000    -6.325353e+00 -3.332127e+00       -3.386154e+00   \n",
       "25%     84.500000    -2.654477e-01 -4.809661e-01       -5.143811e-01   \n",
       "50%    160.500000     1.237895e-01  9.278103e-02        3.140794e-02   \n",
       "75%    239.250000     4.175984e-01  6.166601e-01        6.038625e-01   \n",
       "max    320.000000     2.792019e+00  2.468353e+00        2.391802e+00   \n",
       "\n",
       "       Copper_SS_yun  Sugar_SS_yun  Natural Gas_SS_yun  Cattle_SS_yun  \\\n",
       "count   2.240000e+02  2.240000e+02        2.240000e+02   2.240000e+02   \n",
       "mean   -3.172066e-17 -4.956353e-18       -3.766828e-17  -1.883414e-17   \n",
       "std     1.002240e+00  1.002240e+00        1.002240e+00   1.002240e+00   \n",
       "min    -4.310457e+00 -1.940694e+00       -2.158512e+00  -3.240904e+00   \n",
       "25%    -5.894124e-01 -6.946725e-01       -6.085606e-01  -6.323248e-01   \n",
       "50%    -4.334462e-02 -1.855822e-01       -1.274154e-01   7.765653e-02   \n",
       "75%     6.114516e-01  5.306842e-01        6.505872e-01   6.754089e-01   \n",
       "max     2.845520e+00  3.233036e+00        2.182962e+00   2.876337e+00   \n",
       "\n",
       "       Lean Hogs_SS_yun  Soybeans_SS_yun  Lumber_SS_yun  \\\n",
       "count      2.240000e+02     2.240000e+02   2.240000e+02   \n",
       "mean      -2.837512e-17    -1.536469e-17  -6.567167e-17   \n",
       "std        1.002240e+00     1.002240e+00   1.002240e+00   \n",
       "min       -2.330984e+00    -3.523597e+00  -2.391266e+00   \n",
       "25%       -6.660726e-01    -6.091566e-01  -7.210567e-01   \n",
       "50%       -1.043324e-01    -7.755773e-02  -6.975767e-02   \n",
       "75%        7.064737e-01     5.345899e-01   6.240226e-01   \n",
       "max        3.032588e+00     2.763127e+00   2.811004e+00   \n",
       "\n",
       "       Capacity Utilization_SS_yun   Corn_SS_yun  M2 Velocity_SS_yun  \\\n",
       "count                 2.240000e+02  2.240000e+02        2.240000e+02   \n",
       "mean                 -3.655310e-18  3.023375e-17       -3.525206e-17   \n",
       "std                   1.002240e+00  1.002240e+00        1.002240e+00   \n",
       "min                  -4.185881e+00 -2.804955e+00       -7.637671e+00   \n",
       "25%                  -3.007541e-01 -5.751711e-01       -9.765354e-02   \n",
       "50%                   1.157687e-01 -9.562681e-02        1.142519e-01   \n",
       "75%                   5.025650e-01  5.732496e-01        3.634911e-01   \n",
       "max                   2.015870e+00  3.539395e+00        1.846627e+00   \n",
       "\n",
       "         GDP_SS_yun  Wheat_SS_yun    PMI_SS_yun  USD Index_SS_yun  \\\n",
       "count  2.240000e+02  2.240000e+02  2.240000e+02      2.240000e+02   \n",
       "mean   1.486906e-17 -7.806256e-18  2.255141e-17      2.998593e-17   \n",
       "std    1.002240e+00  1.002240e+00  1.002240e+00      1.002240e+00   \n",
       "min   -4.041434e+00 -2.819227e+00 -3.957684e+00     -2.051576e+00   \n",
       "25%   -3.670382e-01 -6.414855e-01 -5.413748e-01     -6.983481e-01   \n",
       "50%    4.486606e-02 -8.902961e-02 -7.852001e-02     -1.791613e-02   \n",
       "75%    5.687879e-01  5.091645e-01  5.110688e-01      6.502723e-01   \n",
       "max    2.624512e+00  3.702891e+00  3.481054e+00      3.402171e+00   \n",
       "\n",
       "       Unemployment Rate_SS_yun  Initial Jobless Claims_SS_yun  \n",
       "count              2.240000e+02                   2.240000e+02  \n",
       "mean               2.050691e-17                   3.221629e-17  \n",
       "std                1.002240e+00                   1.002240e+00  \n",
       "min               -3.107682e+00                  -2.341752e+00  \n",
       "25%               -5.491984e-01                  -3.738570e-01  \n",
       "50%               -1.227844e-01                  -3.598116e-03  \n",
       "75%                3.036296e-01                   3.400676e-01  \n",
       "max                3.288528e+00                   2.567758e+00  "
      ]
     },
     "execution_count": 213,
     "metadata": {},
     "output_type": "execute_result"
    }
   ],
   "source": [
    "X_train_SS_y_uns.describe()"
   ]
  },
  {
   "cell_type": "code",
   "execution_count": 214,
   "id": "60c88f3d",
   "metadata": {},
   "outputs": [],
   "source": [
    "X_train_SS_y_uns = X_train_SS_y_uns.drop(['Unnamed: 0'], axis=1)"
   ]
  },
  {
   "cell_type": "code",
   "execution_count": 215,
   "id": "65f544a2",
   "metadata": {},
   "outputs": [
    {
     "data": {
      "text/html": [
       "<div>\n",
       "<style scoped>\n",
       "    .dataframe tbody tr th:only-of-type {\n",
       "        vertical-align: middle;\n",
       "    }\n",
       "\n",
       "    .dataframe tbody tr th {\n",
       "        vertical-align: top;\n",
       "    }\n",
       "\n",
       "    .dataframe thead th {\n",
       "        text-align: right;\n",
       "    }\n",
       "</style>\n",
       "<table border=\"1\" class=\"dataframe\">\n",
       "  <thead>\n",
       "    <tr style=\"text-align: right;\">\n",
       "      <th></th>\n",
       "      <th>Unnamed: 0</th>\n",
       "      <th>Inflation</th>\n",
       "    </tr>\n",
       "  </thead>\n",
       "  <tbody>\n",
       "    <tr>\n",
       "      <th>count</th>\n",
       "      <td>224.000000</td>\n",
       "      <td>224.000000</td>\n",
       "    </tr>\n",
       "    <tr>\n",
       "      <th>mean</th>\n",
       "      <td>161.513393</td>\n",
       "      <td>0.019170</td>\n",
       "    </tr>\n",
       "    <tr>\n",
       "      <th>std</th>\n",
       "      <td>91.840864</td>\n",
       "      <td>0.881863</td>\n",
       "    </tr>\n",
       "    <tr>\n",
       "      <th>min</th>\n",
       "      <td>0.000000</td>\n",
       "      <td>-4.846000</td>\n",
       "    </tr>\n",
       "    <tr>\n",
       "      <th>25%</th>\n",
       "      <td>84.500000</td>\n",
       "      <td>-0.392000</td>\n",
       "    </tr>\n",
       "    <tr>\n",
       "      <th>50%</th>\n",
       "      <td>160.500000</td>\n",
       "      <td>-0.013000</td>\n",
       "    </tr>\n",
       "    <tr>\n",
       "      <th>75%</th>\n",
       "      <td>239.250000</td>\n",
       "      <td>0.380750</td>\n",
       "    </tr>\n",
       "    <tr>\n",
       "      <th>max</th>\n",
       "      <td>320.000000</td>\n",
       "      <td>4.007000</td>\n",
       "    </tr>\n",
       "  </tbody>\n",
       "</table>\n",
       "</div>"
      ],
      "text/plain": [
       "       Unnamed: 0   Inflation\n",
       "count  224.000000  224.000000\n",
       "mean   161.513393    0.019170\n",
       "std     91.840864    0.881863\n",
       "min      0.000000   -4.846000\n",
       "25%     84.500000   -0.392000\n",
       "50%    160.500000   -0.013000\n",
       "75%    239.250000    0.380750\n",
       "max    320.000000    4.007000"
      ]
     },
     "execution_count": 215,
     "metadata": {},
     "output_type": "execute_result"
    }
   ],
   "source": [
    "y_train_SS_y_uns.describe()"
   ]
  },
  {
   "cell_type": "code",
   "execution_count": 216,
   "id": "87da16de",
   "metadata": {},
   "outputs": [],
   "source": [
    "y_train_SS_y_uns = y_train_SS_y_uns.drop(['Unnamed: 0'], axis=1)"
   ]
  },
  {
   "cell_type": "code",
   "execution_count": 217,
   "id": "a94c3dbc",
   "metadata": {},
   "outputs": [
    {
     "data": {
      "text/html": [
       "<div>\n",
       "<style scoped>\n",
       "    .dataframe tbody tr th:only-of-type {\n",
       "        vertical-align: middle;\n",
       "    }\n",
       "\n",
       "    .dataframe tbody tr th {\n",
       "        vertical-align: top;\n",
       "    }\n",
       "\n",
       "    .dataframe thead th {\n",
       "        text-align: right;\n",
       "    }\n",
       "</style>\n",
       "<table border=\"1\" class=\"dataframe\">\n",
       "  <thead>\n",
       "    <tr style=\"text-align: right;\">\n",
       "      <th></th>\n",
       "      <th>Unnamed: 0</th>\n",
       "      <th>Wage CPI_SS_yun</th>\n",
       "      <th>WTI_SS_yun</th>\n",
       "      <th>Heating Oil_SS_yun</th>\n",
       "      <th>Copper_SS_yun</th>\n",
       "      <th>Sugar_SS_yun</th>\n",
       "      <th>Natural Gas_SS_yun</th>\n",
       "      <th>Cattle_SS_yun</th>\n",
       "      <th>Lean Hogs_SS_yun</th>\n",
       "      <th>Soybeans_SS_yun</th>\n",
       "      <th>Lumber_SS_yun</th>\n",
       "      <th>Capacity Utilization_SS_yun</th>\n",
       "      <th>Corn_SS_yun</th>\n",
       "      <th>M2 Velocity_SS_yun</th>\n",
       "      <th>GDP_SS_yun</th>\n",
       "      <th>Wheat_SS_yun</th>\n",
       "      <th>PMI_SS_yun</th>\n",
       "      <th>USD Index_SS_yun</th>\n",
       "      <th>Unemployment Rate_SS_yun</th>\n",
       "      <th>Initial Jobless Claims_SS_yun</th>\n",
       "    </tr>\n",
       "  </thead>\n",
       "  <tbody>\n",
       "    <tr>\n",
       "      <th>count</th>\n",
       "      <td>97.000000</td>\n",
       "      <td>97.000000</td>\n",
       "      <td>97.000000</td>\n",
       "      <td>97.000000</td>\n",
       "      <td>97.000000</td>\n",
       "      <td>97.000000</td>\n",
       "      <td>97.000000</td>\n",
       "      <td>97.000000</td>\n",
       "      <td>97.000000</td>\n",
       "      <td>97.000000</td>\n",
       "      <td>97.000000</td>\n",
       "      <td>97.000000</td>\n",
       "      <td>97.000000</td>\n",
       "      <td>97.000000</td>\n",
       "      <td>97.000000</td>\n",
       "      <td>97.000000</td>\n",
       "      <td>97.000000</td>\n",
       "      <td>97.000000</td>\n",
       "      <td>97.000000</td>\n",
       "      <td>97.000000</td>\n",
       "    </tr>\n",
       "    <tr>\n",
       "      <th>mean</th>\n",
       "      <td>156.505155</td>\n",
       "      <td>-0.004229</td>\n",
       "      <td>-0.059347</td>\n",
       "      <td>-0.082202</td>\n",
       "      <td>0.073220</td>\n",
       "      <td>0.130749</td>\n",
       "      <td>0.035497</td>\n",
       "      <td>-0.012833</td>\n",
       "      <td>0.023797</td>\n",
       "      <td>-0.122300</td>\n",
       "      <td>-0.078476</td>\n",
       "      <td>0.037514</td>\n",
       "      <td>-0.083010</td>\n",
       "      <td>0.028979</td>\n",
       "      <td>-0.033664</td>\n",
       "      <td>-0.131335</td>\n",
       "      <td>-0.030235</td>\n",
       "      <td>0.051016</td>\n",
       "      <td>-0.143665</td>\n",
       "      <td>-0.116192</td>\n",
       "    </tr>\n",
       "    <tr>\n",
       "      <th>std</th>\n",
       "      <td>95.397974</td>\n",
       "      <td>0.744872</td>\n",
       "      <td>0.858036</td>\n",
       "      <td>0.905700</td>\n",
       "      <td>1.037702</td>\n",
       "      <td>1.112417</td>\n",
       "      <td>1.009757</td>\n",
       "      <td>0.979557</td>\n",
       "      <td>0.950832</td>\n",
       "      <td>1.048282</td>\n",
       "      <td>1.122470</td>\n",
       "      <td>0.895333</td>\n",
       "      <td>0.872136</td>\n",
       "      <td>0.450774</td>\n",
       "      <td>0.993953</td>\n",
       "      <td>0.830178</td>\n",
       "      <td>0.924028</td>\n",
       "      <td>0.950501</td>\n",
       "      <td>0.979293</td>\n",
       "      <td>1.051211</td>\n",
       "    </tr>\n",
       "    <tr>\n",
       "      <th>min</th>\n",
       "      <td>3.000000</td>\n",
       "      <td>-2.347454</td>\n",
       "      <td>-2.348070</td>\n",
       "      <td>-2.285622</td>\n",
       "      <td>-2.059683</td>\n",
       "      <td>-1.940694</td>\n",
       "      <td>-2.087872</td>\n",
       "      <td>-2.172958</td>\n",
       "      <td>-2.194097</td>\n",
       "      <td>-2.970895</td>\n",
       "      <td>-2.465595</td>\n",
       "      <td>-4.185881</td>\n",
       "      <td>-2.097836</td>\n",
       "      <td>-1.796585</td>\n",
       "      <td>-4.041434</td>\n",
       "      <td>-1.836079</td>\n",
       "      <td>-1.775654</td>\n",
       "      <td>-1.998456</td>\n",
       "      <td>-3.107682</td>\n",
       "      <td>-2.341752</td>\n",
       "    </tr>\n",
       "    <tr>\n",
       "      <th>25%</th>\n",
       "      <td>76.000000</td>\n",
       "      <td>-0.305597</td>\n",
       "      <td>-0.557343</td>\n",
       "      <td>-0.574811</td>\n",
       "      <td>-0.556546</td>\n",
       "      <td>-0.691355</td>\n",
       "      <td>-0.701725</td>\n",
       "      <td>-0.744486</td>\n",
       "      <td>-0.571481</td>\n",
       "      <td>-0.585482</td>\n",
       "      <td>-0.769273</td>\n",
       "      <td>-0.426792</td>\n",
       "      <td>-0.681218</td>\n",
       "      <td>-0.144240</td>\n",
       "      <td>-0.363203</td>\n",
       "      <td>-0.715256</td>\n",
       "      <td>-0.838924</td>\n",
       "      <td>-0.759423</td>\n",
       "      <td>-0.549198</td>\n",
       "      <td>-0.647971</td>\n",
       "    </tr>\n",
       "    <tr>\n",
       "      <th>50%</th>\n",
       "      <td>158.000000</td>\n",
       "      <td>0.081566</td>\n",
       "      <td>-0.126041</td>\n",
       "      <td>-0.227636</td>\n",
       "      <td>-0.085251</td>\n",
       "      <td>-0.099503</td>\n",
       "      <td>-0.102963</td>\n",
       "      <td>0.149608</td>\n",
       "      <td>-0.004860</td>\n",
       "      <td>-0.181181</td>\n",
       "      <td>-0.245535</td>\n",
       "      <td>0.164251</td>\n",
       "      <td>-0.125970</td>\n",
       "      <td>0.030144</td>\n",
       "      <td>0.106914</td>\n",
       "      <td>-0.238628</td>\n",
       "      <td>0.031684</td>\n",
       "      <td>0.074921</td>\n",
       "      <td>-0.122784</td>\n",
       "      <td>-0.120199</td>\n",
       "    </tr>\n",
       "    <tr>\n",
       "      <th>75%</th>\n",
       "      <td>244.000000</td>\n",
       "      <td>0.353440</td>\n",
       "      <td>0.464101</td>\n",
       "      <td>0.502253</td>\n",
       "      <td>0.625169</td>\n",
       "      <td>1.010831</td>\n",
       "      <td>0.690035</td>\n",
       "      <td>0.838495</td>\n",
       "      <td>0.616294</td>\n",
       "      <td>0.426255</td>\n",
       "      <td>0.524656</td>\n",
       "      <td>0.457265</td>\n",
       "      <td>0.264837</td>\n",
       "      <td>0.325496</td>\n",
       "      <td>0.420734</td>\n",
       "      <td>0.475260</td>\n",
       "      <td>0.549640</td>\n",
       "      <td>0.452498</td>\n",
       "      <td>0.303630</td>\n",
       "      <td>0.407573</td>\n",
       "    </tr>\n",
       "    <tr>\n",
       "      <th>max</th>\n",
       "      <td>318.000000</td>\n",
       "      <td>2.286227</td>\n",
       "      <td>2.468353</td>\n",
       "      <td>2.344015</td>\n",
       "      <td>4.017980</td>\n",
       "      <td>3.233036</td>\n",
       "      <td>2.182962</td>\n",
       "      <td>1.781581</td>\n",
       "      <td>2.403488</td>\n",
       "      <td>2.341499</td>\n",
       "      <td>2.811004</td>\n",
       "      <td>2.015870</td>\n",
       "      <td>2.325615</td>\n",
       "      <td>0.843583</td>\n",
       "      <td>2.624512</td>\n",
       "      <td>1.939893</td>\n",
       "      <td>2.434120</td>\n",
       "      <td>2.526111</td>\n",
       "      <td>3.288528</td>\n",
       "      <td>2.567758</td>\n",
       "    </tr>\n",
       "  </tbody>\n",
       "</table>\n",
       "</div>"
      ],
      "text/plain": [
       "       Unnamed: 0  Wage CPI_SS_yun  WTI_SS_yun  Heating Oil_SS_yun  \\\n",
       "count   97.000000        97.000000   97.000000           97.000000   \n",
       "mean   156.505155        -0.004229   -0.059347           -0.082202   \n",
       "std     95.397974         0.744872    0.858036            0.905700   \n",
       "min      3.000000        -2.347454   -2.348070           -2.285622   \n",
       "25%     76.000000        -0.305597   -0.557343           -0.574811   \n",
       "50%    158.000000         0.081566   -0.126041           -0.227636   \n",
       "75%    244.000000         0.353440    0.464101            0.502253   \n",
       "max    318.000000         2.286227    2.468353            2.344015   \n",
       "\n",
       "       Copper_SS_yun  Sugar_SS_yun  Natural Gas_SS_yun  Cattle_SS_yun  \\\n",
       "count      97.000000     97.000000           97.000000      97.000000   \n",
       "mean        0.073220      0.130749            0.035497      -0.012833   \n",
       "std         1.037702      1.112417            1.009757       0.979557   \n",
       "min        -2.059683     -1.940694           -2.087872      -2.172958   \n",
       "25%        -0.556546     -0.691355           -0.701725      -0.744486   \n",
       "50%        -0.085251     -0.099503           -0.102963       0.149608   \n",
       "75%         0.625169      1.010831            0.690035       0.838495   \n",
       "max         4.017980      3.233036            2.182962       1.781581   \n",
       "\n",
       "       Lean Hogs_SS_yun  Soybeans_SS_yun  Lumber_SS_yun  \\\n",
       "count         97.000000        97.000000      97.000000   \n",
       "mean           0.023797        -0.122300      -0.078476   \n",
       "std            0.950832         1.048282       1.122470   \n",
       "min           -2.194097        -2.970895      -2.465595   \n",
       "25%           -0.571481        -0.585482      -0.769273   \n",
       "50%           -0.004860        -0.181181      -0.245535   \n",
       "75%            0.616294         0.426255       0.524656   \n",
       "max            2.403488         2.341499       2.811004   \n",
       "\n",
       "       Capacity Utilization_SS_yun  Corn_SS_yun  M2 Velocity_SS_yun  \\\n",
       "count                    97.000000    97.000000           97.000000   \n",
       "mean                      0.037514    -0.083010            0.028979   \n",
       "std                       0.895333     0.872136            0.450774   \n",
       "min                      -4.185881    -2.097836           -1.796585   \n",
       "25%                      -0.426792    -0.681218           -0.144240   \n",
       "50%                       0.164251    -0.125970            0.030144   \n",
       "75%                       0.457265     0.264837            0.325496   \n",
       "max                       2.015870     2.325615            0.843583   \n",
       "\n",
       "       GDP_SS_yun  Wheat_SS_yun  PMI_SS_yun  USD Index_SS_yun  \\\n",
       "count   97.000000     97.000000   97.000000         97.000000   \n",
       "mean    -0.033664     -0.131335   -0.030235          0.051016   \n",
       "std      0.993953      0.830178    0.924028          0.950501   \n",
       "min     -4.041434     -1.836079   -1.775654         -1.998456   \n",
       "25%     -0.363203     -0.715256   -0.838924         -0.759423   \n",
       "50%      0.106914     -0.238628    0.031684          0.074921   \n",
       "75%      0.420734      0.475260    0.549640          0.452498   \n",
       "max      2.624512      1.939893    2.434120          2.526111   \n",
       "\n",
       "       Unemployment Rate_SS_yun  Initial Jobless Claims_SS_yun  \n",
       "count                 97.000000                      97.000000  \n",
       "mean                  -0.143665                      -0.116192  \n",
       "std                    0.979293                       1.051211  \n",
       "min                   -3.107682                      -2.341752  \n",
       "25%                   -0.549198                      -0.647971  \n",
       "50%                   -0.122784                      -0.120199  \n",
       "75%                    0.303630                       0.407573  \n",
       "max                    3.288528                       2.567758  "
      ]
     },
     "execution_count": 217,
     "metadata": {},
     "output_type": "execute_result"
    }
   ],
   "source": [
    "X_test_SS_y_uns.describe()"
   ]
  },
  {
   "cell_type": "code",
   "execution_count": 218,
   "id": "7515dcc7",
   "metadata": {},
   "outputs": [],
   "source": [
    "X_test_SS_y_uns = X_test_SS_y_uns.drop(['Unnamed: 0'], axis=1)"
   ]
  },
  {
   "cell_type": "code",
   "execution_count": 219,
   "id": "f35f0157",
   "metadata": {},
   "outputs": [
    {
     "data": {
      "text/html": [
       "<div>\n",
       "<style scoped>\n",
       "    .dataframe tbody tr th:only-of-type {\n",
       "        vertical-align: middle;\n",
       "    }\n",
       "\n",
       "    .dataframe tbody tr th {\n",
       "        vertical-align: top;\n",
       "    }\n",
       "\n",
       "    .dataframe thead th {\n",
       "        text-align: right;\n",
       "    }\n",
       "</style>\n",
       "<table border=\"1\" class=\"dataframe\">\n",
       "  <thead>\n",
       "    <tr style=\"text-align: right;\">\n",
       "      <th></th>\n",
       "      <th>Unnamed: 0</th>\n",
       "      <th>Inflation_SS</th>\n",
       "    </tr>\n",
       "  </thead>\n",
       "  <tbody>\n",
       "    <tr>\n",
       "      <th>count</th>\n",
       "      <td>97.000000</td>\n",
       "      <td>97.000000</td>\n",
       "    </tr>\n",
       "    <tr>\n",
       "      <th>mean</th>\n",
       "      <td>156.505155</td>\n",
       "      <td>-0.052308</td>\n",
       "    </tr>\n",
       "    <tr>\n",
       "      <th>std</th>\n",
       "      <td>95.397974</td>\n",
       "      <td>0.968825</td>\n",
       "    </tr>\n",
       "    <tr>\n",
       "      <th>min</th>\n",
       "      <td>3.000000</td>\n",
       "      <td>-3.249453</td>\n",
       "    </tr>\n",
       "    <tr>\n",
       "      <th>25%</th>\n",
       "      <td>76.000000</td>\n",
       "      <td>-0.434337</td>\n",
       "    </tr>\n",
       "    <tr>\n",
       "      <th>50%</th>\n",
       "      <td>158.000000</td>\n",
       "      <td>-0.053608</td>\n",
       "    </tr>\n",
       "    <tr>\n",
       "      <th>75%</th>\n",
       "      <td>244.000000</td>\n",
       "      <td>0.291888</td>\n",
       "    </tr>\n",
       "    <tr>\n",
       "      <th>max</th>\n",
       "      <td>318.000000</td>\n",
       "      <td>3.753675</td>\n",
       "    </tr>\n",
       "  </tbody>\n",
       "</table>\n",
       "</div>"
      ],
      "text/plain": [
       "       Unnamed: 0  Inflation_SS\n",
       "count   97.000000     97.000000\n",
       "mean   156.505155     -0.052308\n",
       "std     95.397974      0.968825\n",
       "min      3.000000     -3.249453\n",
       "25%     76.000000     -0.434337\n",
       "50%    158.000000     -0.053608\n",
       "75%    244.000000      0.291888\n",
       "max    318.000000      3.753675"
      ]
     },
     "execution_count": 219,
     "metadata": {},
     "output_type": "execute_result"
    }
   ],
   "source": [
    "y_test_SS_y_uns.describe()"
   ]
  },
  {
   "cell_type": "code",
   "execution_count": 220,
   "id": "4f91cca5",
   "metadata": {},
   "outputs": [],
   "source": [
    "y_test_SS_y_uns = y_test_SS_y_uns.drop(['Unnamed: 0'], axis=1)"
   ]
  },
  {
   "cell_type": "markdown",
   "id": "e0bde8c2",
   "metadata": {},
   "source": [
    "`Mean` should be 0 `Std` should be 1"
   ]
  },
  {
   "cell_type": "code",
   "execution_count": 221,
   "id": "3f4afbd7",
   "metadata": {},
   "outputs": [
    {
     "data": {
      "text/html": [
       "<div>\n",
       "<style scoped>\n",
       "    .dataframe tbody tr th:only-of-type {\n",
       "        vertical-align: middle;\n",
       "    }\n",
       "\n",
       "    .dataframe tbody tr th {\n",
       "        vertical-align: top;\n",
       "    }\n",
       "\n",
       "    .dataframe thead th {\n",
       "        text-align: right;\n",
       "    }\n",
       "</style>\n",
       "<table border=\"1\" class=\"dataframe\">\n",
       "  <thead>\n",
       "    <tr style=\"text-align: right;\">\n",
       "      <th></th>\n",
       "      <th>Unnamed: 0</th>\n",
       "      <th>Wage CPI_LG</th>\n",
       "      <th>WTI_LG</th>\n",
       "      <th>Heating Oil_LG</th>\n",
       "      <th>Copper_LG</th>\n",
       "      <th>Sugar_LG</th>\n",
       "      <th>Natural Gas_LG</th>\n",
       "      <th>Cattle_LG</th>\n",
       "      <th>Lean Hogs_LG</th>\n",
       "      <th>Soybeans_LG</th>\n",
       "      <th>Lumber_LG</th>\n",
       "      <th>Capacity Utilization_LG</th>\n",
       "      <th>Corn_LG</th>\n",
       "      <th>M2 Velocity_LG</th>\n",
       "      <th>GDP_LG</th>\n",
       "      <th>Wheat_LG</th>\n",
       "      <th>PMI_LG</th>\n",
       "      <th>USD Index_LG</th>\n",
       "      <th>Unemployment Rate_LG</th>\n",
       "      <th>Initial Jobless Claims_LG</th>\n",
       "    </tr>\n",
       "  </thead>\n",
       "  <tbody>\n",
       "    <tr>\n",
       "      <th>count</th>\n",
       "      <td>224.000000</td>\n",
       "      <td>2.240000e+02</td>\n",
       "      <td>2.240000e+02</td>\n",
       "      <td>2.240000e+02</td>\n",
       "      <td>2.240000e+02</td>\n",
       "      <td>2.240000e+02</td>\n",
       "      <td>2.240000e+02</td>\n",
       "      <td>2.240000e+02</td>\n",
       "      <td>2.240000e+02</td>\n",
       "      <td>2.240000e+02</td>\n",
       "      <td>2.240000e+02</td>\n",
       "      <td>2.240000e+02</td>\n",
       "      <td>2.240000e+02</td>\n",
       "      <td>2.240000e+02</td>\n",
       "      <td>2.240000e+02</td>\n",
       "      <td>2.240000e+02</td>\n",
       "      <td>2.240000e+02</td>\n",
       "      <td>2.240000e+02</td>\n",
       "      <td>2.240000e+02</td>\n",
       "      <td>2.240000e+02</td>\n",
       "    </tr>\n",
       "    <tr>\n",
       "      <th>mean</th>\n",
       "      <td>161.513393</td>\n",
       "      <td>3.221629e-17</td>\n",
       "      <td>6.046750e-17</td>\n",
       "      <td>-2.279922e-17</td>\n",
       "      <td>-8.128419e-17</td>\n",
       "      <td>2.973812e-18</td>\n",
       "      <td>5.947623e-18</td>\n",
       "      <td>5.451988e-18</td>\n",
       "      <td>3.182908e-17</td>\n",
       "      <td>7.335402e-17</td>\n",
       "      <td>2.230359e-18</td>\n",
       "      <td>2.261336e-18</td>\n",
       "      <td>-9.912706e-19</td>\n",
       "      <td>-6.715858e-17</td>\n",
       "      <td>-1.437342e-17</td>\n",
       "      <td>-6.814985e-18</td>\n",
       "      <td>1.836948e-17</td>\n",
       "      <td>-5.204170e-18</td>\n",
       "      <td>-3.881444e-17</td>\n",
       "      <td>-3.172066e-17</td>\n",
       "    </tr>\n",
       "    <tr>\n",
       "      <th>std</th>\n",
       "      <td>91.840864</td>\n",
       "      <td>1.002240e+00</td>\n",
       "      <td>1.002240e+00</td>\n",
       "      <td>1.002240e+00</td>\n",
       "      <td>1.002240e+00</td>\n",
       "      <td>1.002240e+00</td>\n",
       "      <td>1.002240e+00</td>\n",
       "      <td>1.002240e+00</td>\n",
       "      <td>1.002240e+00</td>\n",
       "      <td>1.002240e+00</td>\n",
       "      <td>1.002240e+00</td>\n",
       "      <td>1.002240e+00</td>\n",
       "      <td>1.002240e+00</td>\n",
       "      <td>1.002240e+00</td>\n",
       "      <td>1.002240e+00</td>\n",
       "      <td>1.002240e+00</td>\n",
       "      <td>1.002240e+00</td>\n",
       "      <td>1.002240e+00</td>\n",
       "      <td>1.002240e+00</td>\n",
       "      <td>1.002240e+00</td>\n",
       "    </tr>\n",
       "    <tr>\n",
       "      <th>min</th>\n",
       "      <td>0.000000</td>\n",
       "      <td>-3.953252e+00</td>\n",
       "      <td>-2.776284e+00</td>\n",
       "      <td>-2.721131e+00</td>\n",
       "      <td>-3.897927e+00</td>\n",
       "      <td>-2.582866e+00</td>\n",
       "      <td>-2.434071e+00</td>\n",
       "      <td>-2.932735e+00</td>\n",
       "      <td>-2.618813e+00</td>\n",
       "      <td>-3.768974e+00</td>\n",
       "      <td>-2.908860e+00</td>\n",
       "      <td>-2.823674e+00</td>\n",
       "      <td>-3.136407e+00</td>\n",
       "      <td>-3.875809e+00</td>\n",
       "      <td>-3.212336e+00</td>\n",
       "      <td>-3.994214e+00</td>\n",
       "      <td>-4.498809e+00</td>\n",
       "      <td>-2.235572e+00</td>\n",
       "      <td>-4.316233e+00</td>\n",
       "      <td>-2.458991e+00</td>\n",
       "    </tr>\n",
       "    <tr>\n",
       "      <th>25%</th>\n",
       "      <td>84.500000</td>\n",
       "      <td>-3.965705e-01</td>\n",
       "      <td>-5.496657e-01</td>\n",
       "      <td>-5.945481e-01</td>\n",
       "      <td>-6.100607e-01</td>\n",
       "      <td>-6.704211e-01</td>\n",
       "      <td>-5.748360e-01</td>\n",
       "      <td>-6.579841e-01</td>\n",
       "      <td>-6.408573e-01</td>\n",
       "      <td>-5.971777e-01</td>\n",
       "      <td>-6.976571e-01</td>\n",
       "      <td>-4.711956e-01</td>\n",
       "      <td>-5.509166e-01</td>\n",
       "      <td>-3.899656e-01</td>\n",
       "      <td>-4.476507e-01</td>\n",
       "      <td>-6.090004e-01</td>\n",
       "      <td>-5.161131e-01</td>\n",
       "      <td>-6.788497e-01</td>\n",
       "      <td>-5.127249e-01</td>\n",
       "      <td>-3.557340e-01</td>\n",
       "    </tr>\n",
       "    <tr>\n",
       "      <th>50%</th>\n",
       "      <td>160.500000</td>\n",
       "      <td>3.226779e-02</td>\n",
       "      <td>1.990514e-02</td>\n",
       "      <td>-5.807909e-02</td>\n",
       "      <td>-7.161780e-02</td>\n",
       "      <td>-5.882763e-02</td>\n",
       "      <td>-6.562802e-02</td>\n",
       "      <td>4.028815e-02</td>\n",
       "      <td>-4.930942e-02</td>\n",
       "      <td>-5.697802e-02</td>\n",
       "      <td>1.338150e-02</td>\n",
       "      <td>-1.788500e-02</td>\n",
       "      <td>-5.384945e-02</td>\n",
       "      <td>-2.114029e-02</td>\n",
       "      <td>-2.926445e-02</td>\n",
       "      <td>2.077471e-02</td>\n",
       "      <td>-2.911438e-02</td>\n",
       "      <td>3.068410e-02</td>\n",
       "      <td>-2.840082e-02</td>\n",
       "      <td>3.547869e-02</td>\n",
       "    </tr>\n",
       "    <tr>\n",
       "      <th>75%</th>\n",
       "      <td>239.250000</td>\n",
       "      <td>3.809039e-01</td>\n",
       "      <td>5.872744e-01</td>\n",
       "      <td>5.671875e-01</td>\n",
       "      <td>5.972893e-01</td>\n",
       "      <td>6.589615e-01</td>\n",
       "      <td>6.912821e-01</td>\n",
       "      <td>6.586823e-01</td>\n",
       "      <td>7.388360e-01</td>\n",
       "      <td>5.499134e-01</td>\n",
       "      <td>6.859508e-01</td>\n",
       "      <td>4.575647e-01</td>\n",
       "      <td>6.047407e-01</td>\n",
       "      <td>4.636519e-01</td>\n",
       "      <td>5.422472e-01</td>\n",
       "      <td>6.148453e-01</td>\n",
       "      <td>5.429901e-01</td>\n",
       "      <td>6.826925e-01</td>\n",
       "      <td>4.108113e-01</td>\n",
       "      <td>3.702692e-01</td>\n",
       "    </tr>\n",
       "    <tr>\n",
       "      <th>max</th>\n",
       "      <td>320.000000</td>\n",
       "      <td>4.181340e+00</td>\n",
       "      <td>2.960069e+00</td>\n",
       "      <td>2.954041e+00</td>\n",
       "      <td>3.060935e+00</td>\n",
       "      <td>2.419611e+00</td>\n",
       "      <td>1.994915e+00</td>\n",
       "      <td>3.180441e+00</td>\n",
       "      <td>2.670223e+00</td>\n",
       "      <td>2.639796e+00</td>\n",
       "      <td>2.388930e+00</td>\n",
       "      <td>2.950769e+00</td>\n",
       "      <td>3.145099e+00</td>\n",
       "      <td>4.903268e+00</td>\n",
       "      <td>3.277646e+00</td>\n",
       "      <td>2.779130e+00</td>\n",
       "      <td>3.151130e+00</td>\n",
       "      <td>2.971634e+00</td>\n",
       "      <td>2.657603e+00</td>\n",
       "      <td>2.422816e+00</td>\n",
       "    </tr>\n",
       "  </tbody>\n",
       "</table>\n",
       "</div>"
      ],
      "text/plain": [
       "       Unnamed: 0   Wage CPI_LG        WTI_LG  Heating Oil_LG     Copper_LG  \\\n",
       "count  224.000000  2.240000e+02  2.240000e+02    2.240000e+02  2.240000e+02   \n",
       "mean   161.513393  3.221629e-17  6.046750e-17   -2.279922e-17 -8.128419e-17   \n",
       "std     91.840864  1.002240e+00  1.002240e+00    1.002240e+00  1.002240e+00   \n",
       "min      0.000000 -3.953252e+00 -2.776284e+00   -2.721131e+00 -3.897927e+00   \n",
       "25%     84.500000 -3.965705e-01 -5.496657e-01   -5.945481e-01 -6.100607e-01   \n",
       "50%    160.500000  3.226779e-02  1.990514e-02   -5.807909e-02 -7.161780e-02   \n",
       "75%    239.250000  3.809039e-01  5.872744e-01    5.671875e-01  5.972893e-01   \n",
       "max    320.000000  4.181340e+00  2.960069e+00    2.954041e+00  3.060935e+00   \n",
       "\n",
       "           Sugar_LG  Natural Gas_LG     Cattle_LG  Lean Hogs_LG   Soybeans_LG  \\\n",
       "count  2.240000e+02    2.240000e+02  2.240000e+02  2.240000e+02  2.240000e+02   \n",
       "mean   2.973812e-18    5.947623e-18  5.451988e-18  3.182908e-17  7.335402e-17   \n",
       "std    1.002240e+00    1.002240e+00  1.002240e+00  1.002240e+00  1.002240e+00   \n",
       "min   -2.582866e+00   -2.434071e+00 -2.932735e+00 -2.618813e+00 -3.768974e+00   \n",
       "25%   -6.704211e-01   -5.748360e-01 -6.579841e-01 -6.408573e-01 -5.971777e-01   \n",
       "50%   -5.882763e-02   -6.562802e-02  4.028815e-02 -4.930942e-02 -5.697802e-02   \n",
       "75%    6.589615e-01    6.912821e-01  6.586823e-01  7.388360e-01  5.499134e-01   \n",
       "max    2.419611e+00    1.994915e+00  3.180441e+00  2.670223e+00  2.639796e+00   \n",
       "\n",
       "          Lumber_LG  Capacity Utilization_LG       Corn_LG  M2 Velocity_LG  \\\n",
       "count  2.240000e+02             2.240000e+02  2.240000e+02    2.240000e+02   \n",
       "mean   2.230359e-18             2.261336e-18 -9.912706e-19   -6.715858e-17   \n",
       "std    1.002240e+00             1.002240e+00  1.002240e+00    1.002240e+00   \n",
       "min   -2.908860e+00            -2.823674e+00 -3.136407e+00   -3.875809e+00   \n",
       "25%   -6.976571e-01            -4.711956e-01 -5.509166e-01   -3.899656e-01   \n",
       "50%    1.338150e-02            -1.788500e-02 -5.384945e-02   -2.114029e-02   \n",
       "75%    6.859508e-01             4.575647e-01  6.047407e-01    4.636519e-01   \n",
       "max    2.388930e+00             2.950769e+00  3.145099e+00    4.903268e+00   \n",
       "\n",
       "             GDP_LG      Wheat_LG        PMI_LG  USD Index_LG  \\\n",
       "count  2.240000e+02  2.240000e+02  2.240000e+02  2.240000e+02   \n",
       "mean  -1.437342e-17 -6.814985e-18  1.836948e-17 -5.204170e-18   \n",
       "std    1.002240e+00  1.002240e+00  1.002240e+00  1.002240e+00   \n",
       "min   -3.212336e+00 -3.994214e+00 -4.498809e+00 -2.235572e+00   \n",
       "25%   -4.476507e-01 -6.090004e-01 -5.161131e-01 -6.788497e-01   \n",
       "50%   -2.926445e-02  2.077471e-02 -2.911438e-02  3.068410e-02   \n",
       "75%    5.422472e-01  6.148453e-01  5.429901e-01  6.826925e-01   \n",
       "max    3.277646e+00  2.779130e+00  3.151130e+00  2.971634e+00   \n",
       "\n",
       "       Unemployment Rate_LG  Initial Jobless Claims_LG  \n",
       "count          2.240000e+02               2.240000e+02  \n",
       "mean          -3.881444e-17              -3.172066e-17  \n",
       "std            1.002240e+00               1.002240e+00  \n",
       "min           -4.316233e+00              -2.458991e+00  \n",
       "25%           -5.127249e-01              -3.557340e-01  \n",
       "50%           -2.840082e-02               3.547869e-02  \n",
       "75%            4.108113e-01               3.702692e-01  \n",
       "max            2.657603e+00               2.422816e+00  "
      ]
     },
     "execution_count": 221,
     "metadata": {},
     "output_type": "execute_result"
    }
   ],
   "source": [
    "X_train_LG.describe()"
   ]
  },
  {
   "cell_type": "code",
   "execution_count": 222,
   "id": "87dd0429",
   "metadata": {},
   "outputs": [],
   "source": [
    "X_train_LG = X_train_LG.drop(['Unnamed: 0'], axis=1)"
   ]
  },
  {
   "cell_type": "code",
   "execution_count": 223,
   "id": "e031717a",
   "metadata": {},
   "outputs": [
    {
     "data": {
      "text/html": [
       "<div>\n",
       "<style scoped>\n",
       "    .dataframe tbody tr th:only-of-type {\n",
       "        vertical-align: middle;\n",
       "    }\n",
       "\n",
       "    .dataframe tbody tr th {\n",
       "        vertical-align: top;\n",
       "    }\n",
       "\n",
       "    .dataframe thead th {\n",
       "        text-align: right;\n",
       "    }\n",
       "</style>\n",
       "<table border=\"1\" class=\"dataframe\">\n",
       "  <thead>\n",
       "    <tr style=\"text-align: right;\">\n",
       "      <th></th>\n",
       "      <th>Unnamed: 0</th>\n",
       "      <th>Inflation_LG</th>\n",
       "    </tr>\n",
       "  </thead>\n",
       "  <tbody>\n",
       "    <tr>\n",
       "      <th>count</th>\n",
       "      <td>224.000000</td>\n",
       "      <td>2.240000e+02</td>\n",
       "    </tr>\n",
       "    <tr>\n",
       "      <th>mean</th>\n",
       "      <td>161.513393</td>\n",
       "      <td>-5.947623e-18</td>\n",
       "    </tr>\n",
       "    <tr>\n",
       "      <th>std</th>\n",
       "      <td>91.840864</td>\n",
       "      <td>1.002240e+00</td>\n",
       "    </tr>\n",
       "    <tr>\n",
       "      <th>min</th>\n",
       "      <td>0.000000</td>\n",
       "      <td>-5.364733e+00</td>\n",
       "    </tr>\n",
       "    <tr>\n",
       "      <th>25%</th>\n",
       "      <td>84.500000</td>\n",
       "      <td>-4.732123e-01</td>\n",
       "    </tr>\n",
       "    <tr>\n",
       "      <th>50%</th>\n",
       "      <td>160.500000</td>\n",
       "      <td>-4.461574e-02</td>\n",
       "    </tr>\n",
       "    <tr>\n",
       "      <th>75%</th>\n",
       "      <td>239.250000</td>\n",
       "      <td>4.050341e-01</td>\n",
       "    </tr>\n",
       "    <tr>\n",
       "      <th>max</th>\n",
       "      <td>320.000000</td>\n",
       "      <td>4.657888e+00</td>\n",
       "    </tr>\n",
       "  </tbody>\n",
       "</table>\n",
       "</div>"
      ],
      "text/plain": [
       "       Unnamed: 0  Inflation_LG\n",
       "count  224.000000  2.240000e+02\n",
       "mean   161.513393 -5.947623e-18\n",
       "std     91.840864  1.002240e+00\n",
       "min      0.000000 -5.364733e+00\n",
       "25%     84.500000 -4.732123e-01\n",
       "50%    160.500000 -4.461574e-02\n",
       "75%    239.250000  4.050341e-01\n",
       "max    320.000000  4.657888e+00"
      ]
     },
     "execution_count": 223,
     "metadata": {},
     "output_type": "execute_result"
    }
   ],
   "source": [
    "y_train_LG.describe()"
   ]
  },
  {
   "cell_type": "code",
   "execution_count": 224,
   "id": "ac83f418",
   "metadata": {},
   "outputs": [],
   "source": [
    "y_train_LG = y_train_LG.drop(['Unnamed: 0'], axis=1)"
   ]
  },
  {
   "cell_type": "code",
   "execution_count": 225,
   "id": "cfdb76e4",
   "metadata": {},
   "outputs": [
    {
     "data": {
      "text/html": [
       "<div>\n",
       "<style scoped>\n",
       "    .dataframe tbody tr th:only-of-type {\n",
       "        vertical-align: middle;\n",
       "    }\n",
       "\n",
       "    .dataframe tbody tr th {\n",
       "        vertical-align: top;\n",
       "    }\n",
       "\n",
       "    .dataframe thead th {\n",
       "        text-align: right;\n",
       "    }\n",
       "</style>\n",
       "<table border=\"1\" class=\"dataframe\">\n",
       "  <thead>\n",
       "    <tr style=\"text-align: right;\">\n",
       "      <th></th>\n",
       "      <th>Unnamed: 0</th>\n",
       "      <th>Wage CPI_LG</th>\n",
       "      <th>WTI_LG</th>\n",
       "      <th>Heating Oil_LG</th>\n",
       "      <th>Copper_LG</th>\n",
       "      <th>Sugar_LG</th>\n",
       "      <th>Natural Gas_LG</th>\n",
       "      <th>Cattle_LG</th>\n",
       "      <th>Lean Hogs_LG</th>\n",
       "      <th>Soybeans_LG</th>\n",
       "      <th>Lumber_LG</th>\n",
       "      <th>Capacity Utilization_LG</th>\n",
       "      <th>Corn_LG</th>\n",
       "      <th>M2 Velocity_LG</th>\n",
       "      <th>GDP_LG</th>\n",
       "      <th>Wheat_LG</th>\n",
       "      <th>PMI_LG</th>\n",
       "      <th>USD Index_LG</th>\n",
       "      <th>Unemployment Rate_LG</th>\n",
       "      <th>Initial Jobless Claims_LG</th>\n",
       "    </tr>\n",
       "  </thead>\n",
       "  <tbody>\n",
       "    <tr>\n",
       "      <th>count</th>\n",
       "      <td>97.000000</td>\n",
       "      <td>97.000000</td>\n",
       "      <td>97.000000</td>\n",
       "      <td>97.000000</td>\n",
       "      <td>97.000000</td>\n",
       "      <td>97.000000</td>\n",
       "      <td>97.000000</td>\n",
       "      <td>97.000000</td>\n",
       "      <td>97.000000</td>\n",
       "      <td>97.000000</td>\n",
       "      <td>97.000000</td>\n",
       "      <td>97.000000</td>\n",
       "      <td>97.000000</td>\n",
       "      <td>97.000000</td>\n",
       "      <td>97.000000</td>\n",
       "      <td>97.000000</td>\n",
       "      <td>97.000000</td>\n",
       "      <td>97.000000</td>\n",
       "      <td>97.000000</td>\n",
       "      <td>97.000000</td>\n",
       "    </tr>\n",
       "    <tr>\n",
       "      <th>mean</th>\n",
       "      <td>156.505155</td>\n",
       "      <td>-0.046636</td>\n",
       "      <td>-0.078665</td>\n",
       "      <td>-0.098212</td>\n",
       "      <td>0.076050</td>\n",
       "      <td>0.106598</td>\n",
       "      <td>0.035295</td>\n",
       "      <td>-0.014618</td>\n",
       "      <td>0.029462</td>\n",
       "      <td>-0.124802</td>\n",
       "      <td>-0.100828</td>\n",
       "      <td>0.015733</td>\n",
       "      <td>-0.073868</td>\n",
       "      <td>-0.096086</td>\n",
       "      <td>-0.037073</td>\n",
       "      <td>-0.110230</td>\n",
       "      <td>-0.028575</td>\n",
       "      <td>0.056781</td>\n",
       "      <td>-0.154516</td>\n",
       "      <td>-0.123960</td>\n",
       "    </tr>\n",
       "    <tr>\n",
       "      <th>std</th>\n",
       "      <td>95.397974</td>\n",
       "      <td>0.834314</td>\n",
       "      <td>0.898156</td>\n",
       "      <td>0.947145</td>\n",
       "      <td>1.085986</td>\n",
       "      <td>1.103089</td>\n",
       "      <td>1.006480</td>\n",
       "      <td>0.976716</td>\n",
       "      <td>0.957134</td>\n",
       "      <td>1.059716</td>\n",
       "      <td>1.121758</td>\n",
       "      <td>0.934702</td>\n",
       "      <td>0.875519</td>\n",
       "      <td>0.721986</td>\n",
       "      <td>0.982118</td>\n",
       "      <td>0.895580</td>\n",
       "      <td>0.920947</td>\n",
       "      <td>0.938660</td>\n",
       "      <td>1.102758</td>\n",
       "      <td>1.057012</td>\n",
       "    </tr>\n",
       "    <tr>\n",
       "      <th>min</th>\n",
       "      <td>3.000000</td>\n",
       "      <td>-2.162452</td>\n",
       "      <td>-2.098595</td>\n",
       "      <td>-2.016102</td>\n",
       "      <td>-1.980641</td>\n",
       "      <td>-2.582866</td>\n",
       "      <td>-2.342269</td>\n",
       "      <td>-2.051346</td>\n",
       "      <td>-2.443708</td>\n",
       "      <td>-3.141354</td>\n",
       "      <td>-3.020605</td>\n",
       "      <td>-2.823674</td>\n",
       "      <td>-2.268634</td>\n",
       "      <td>-2.321082</td>\n",
       "      <td>-3.212336</td>\n",
       "      <td>-2.275316</td>\n",
       "      <td>-1.901866</td>\n",
       "      <td>-2.170658</td>\n",
       "      <td>-4.316233</td>\n",
       "      <td>-2.458991</td>\n",
       "    </tr>\n",
       "    <tr>\n",
       "      <th>25%</th>\n",
       "      <td>76.000000</td>\n",
       "      <td>-0.438770</td>\n",
       "      <td>-0.621590</td>\n",
       "      <td>-0.650585</td>\n",
       "      <td>-0.578141</td>\n",
       "      <td>-0.666137</td>\n",
       "      <td>-0.677232</td>\n",
       "      <td>-0.764841</td>\n",
       "      <td>-0.538529</td>\n",
       "      <td>-0.572856</td>\n",
       "      <td>-0.753599</td>\n",
       "      <td>-0.597546</td>\n",
       "      <td>-0.663723</td>\n",
       "      <td>-0.466145</td>\n",
       "      <td>-0.443879</td>\n",
       "      <td>-0.699526</td>\n",
       "      <td>-0.841290</td>\n",
       "      <td>-0.744868</td>\n",
       "      <td>-0.512725</td>\n",
       "      <td>-0.647038</td>\n",
       "    </tr>\n",
       "    <tr>\n",
       "      <th>50%</th>\n",
       "      <td>158.000000</td>\n",
       "      <td>-0.016031</td>\n",
       "      <td>-0.203637</td>\n",
       "      <td>-0.319752</td>\n",
       "      <td>-0.113569</td>\n",
       "      <td>0.035751</td>\n",
       "      <td>-0.040634</td>\n",
       "      <td>0.113235</td>\n",
       "      <td>0.051396</td>\n",
       "      <td>-0.161299</td>\n",
       "      <td>-0.170405</td>\n",
       "      <td>0.038704</td>\n",
       "      <td>-0.084665</td>\n",
       "      <td>-0.172040</td>\n",
       "      <td>0.036058</td>\n",
       "      <td>-0.141545</td>\n",
       "      <td>0.081623</td>\n",
       "      <td>0.123859</td>\n",
       "      <td>-0.028401</td>\n",
       "      <td>-0.087277</td>\n",
       "    </tr>\n",
       "    <tr>\n",
       "      <th>75%</th>\n",
       "      <td>244.000000</td>\n",
       "      <td>0.302861</td>\n",
       "      <td>0.417349</td>\n",
       "      <td>0.451407</td>\n",
       "      <td>0.611569</td>\n",
       "      <td>1.064501</td>\n",
       "      <td>0.727716</td>\n",
       "      <td>0.832295</td>\n",
       "      <td>0.654674</td>\n",
       "      <td>0.443645</td>\n",
       "      <td>0.594399</td>\n",
       "      <td>0.398966</td>\n",
       "      <td>0.305856</td>\n",
       "      <td>0.385941</td>\n",
       "      <td>0.376103</td>\n",
       "      <td>0.583343</td>\n",
       "      <td>0.579138</td>\n",
       "      <td>0.494139</td>\n",
       "      <td>0.410811</td>\n",
       "      <td>0.433148</td>\n",
       "    </tr>\n",
       "    <tr>\n",
       "      <th>max</th>\n",
       "      <td>318.000000</td>\n",
       "      <td>3.201650</td>\n",
       "      <td>2.960069</td>\n",
       "      <td>2.881403</td>\n",
       "      <td>4.459247</td>\n",
       "      <td>2.419611</td>\n",
       "      <td>1.994915</td>\n",
       "      <td>1.877685</td>\n",
       "      <td>2.187895</td>\n",
       "      <td>2.257408</td>\n",
       "      <td>2.388930</td>\n",
       "      <td>2.950769</td>\n",
       "      <td>2.170058</td>\n",
       "      <td>1.577467</td>\n",
       "      <td>3.277646</td>\n",
       "      <td>1.753302</td>\n",
       "      <td>2.259553</td>\n",
       "      <td>2.304980</td>\n",
       "      <td>2.657603</td>\n",
       "      <td>2.422816</td>\n",
       "    </tr>\n",
       "  </tbody>\n",
       "</table>\n",
       "</div>"
      ],
      "text/plain": [
       "       Unnamed: 0  Wage CPI_LG     WTI_LG  Heating Oil_LG  Copper_LG  \\\n",
       "count   97.000000    97.000000  97.000000       97.000000  97.000000   \n",
       "mean   156.505155    -0.046636  -0.078665       -0.098212   0.076050   \n",
       "std     95.397974     0.834314   0.898156        0.947145   1.085986   \n",
       "min      3.000000    -2.162452  -2.098595       -2.016102  -1.980641   \n",
       "25%     76.000000    -0.438770  -0.621590       -0.650585  -0.578141   \n",
       "50%    158.000000    -0.016031  -0.203637       -0.319752  -0.113569   \n",
       "75%    244.000000     0.302861   0.417349        0.451407   0.611569   \n",
       "max    318.000000     3.201650   2.960069        2.881403   4.459247   \n",
       "\n",
       "        Sugar_LG  Natural Gas_LG  Cattle_LG  Lean Hogs_LG  Soybeans_LG  \\\n",
       "count  97.000000       97.000000  97.000000     97.000000    97.000000   \n",
       "mean    0.106598        0.035295  -0.014618      0.029462    -0.124802   \n",
       "std     1.103089        1.006480   0.976716      0.957134     1.059716   \n",
       "min    -2.582866       -2.342269  -2.051346     -2.443708    -3.141354   \n",
       "25%    -0.666137       -0.677232  -0.764841     -0.538529    -0.572856   \n",
       "50%     0.035751       -0.040634   0.113235      0.051396    -0.161299   \n",
       "75%     1.064501        0.727716   0.832295      0.654674     0.443645   \n",
       "max     2.419611        1.994915   1.877685      2.187895     2.257408   \n",
       "\n",
       "       Lumber_LG  Capacity Utilization_LG    Corn_LG  M2 Velocity_LG  \\\n",
       "count  97.000000                97.000000  97.000000       97.000000   \n",
       "mean   -0.100828                 0.015733  -0.073868       -0.096086   \n",
       "std     1.121758                 0.934702   0.875519        0.721986   \n",
       "min    -3.020605                -2.823674  -2.268634       -2.321082   \n",
       "25%    -0.753599                -0.597546  -0.663723       -0.466145   \n",
       "50%    -0.170405                 0.038704  -0.084665       -0.172040   \n",
       "75%     0.594399                 0.398966   0.305856        0.385941   \n",
       "max     2.388930                 2.950769   2.170058        1.577467   \n",
       "\n",
       "          GDP_LG   Wheat_LG     PMI_LG  USD Index_LG  Unemployment Rate_LG  \\\n",
       "count  97.000000  97.000000  97.000000     97.000000             97.000000   \n",
       "mean   -0.037073  -0.110230  -0.028575      0.056781             -0.154516   \n",
       "std     0.982118   0.895580   0.920947      0.938660              1.102758   \n",
       "min    -3.212336  -2.275316  -1.901866     -2.170658             -4.316233   \n",
       "25%    -0.443879  -0.699526  -0.841290     -0.744868             -0.512725   \n",
       "50%     0.036058  -0.141545   0.081623      0.123859             -0.028401   \n",
       "75%     0.376103   0.583343   0.579138      0.494139              0.410811   \n",
       "max     3.277646   1.753302   2.259553      2.304980              2.657603   \n",
       "\n",
       "       Initial Jobless Claims_LG  \n",
       "count                  97.000000  \n",
       "mean                   -0.123960  \n",
       "std                     1.057012  \n",
       "min                    -2.458991  \n",
       "25%                    -0.647038  \n",
       "50%                    -0.087277  \n",
       "75%                     0.433148  \n",
       "max                     2.422816  "
      ]
     },
     "execution_count": 225,
     "metadata": {},
     "output_type": "execute_result"
    }
   ],
   "source": [
    "X_test_LG.describe()"
   ]
  },
  {
   "cell_type": "code",
   "execution_count": 226,
   "id": "d2e37549",
   "metadata": {},
   "outputs": [],
   "source": [
    "X_test_LG = X_test_LG.drop(['Unnamed: 0'], axis=1)"
   ]
  },
  {
   "cell_type": "code",
   "execution_count": 227,
   "id": "0c388efa",
   "metadata": {},
   "outputs": [
    {
     "data": {
      "text/html": [
       "<div>\n",
       "<style scoped>\n",
       "    .dataframe tbody tr th:only-of-type {\n",
       "        vertical-align: middle;\n",
       "    }\n",
       "\n",
       "    .dataframe tbody tr th {\n",
       "        vertical-align: top;\n",
       "    }\n",
       "\n",
       "    .dataframe thead th {\n",
       "        text-align: right;\n",
       "    }\n",
       "</style>\n",
       "<table border=\"1\" class=\"dataframe\">\n",
       "  <thead>\n",
       "    <tr style=\"text-align: right;\">\n",
       "      <th></th>\n",
       "      <th>Unnamed: 0</th>\n",
       "      <th>Inflation_LG</th>\n",
       "    </tr>\n",
       "  </thead>\n",
       "  <tbody>\n",
       "    <tr>\n",
       "      <th>count</th>\n",
       "      <td>97.000000</td>\n",
       "      <td>97.000000</td>\n",
       "    </tr>\n",
       "    <tr>\n",
       "      <th>mean</th>\n",
       "      <td>156.505155</td>\n",
       "      <td>-0.052555</td>\n",
       "    </tr>\n",
       "    <tr>\n",
       "      <th>std</th>\n",
       "      <td>95.397974</td>\n",
       "      <td>0.972184</td>\n",
       "    </tr>\n",
       "    <tr>\n",
       "      <th>min</th>\n",
       "      <td>3.000000</td>\n",
       "      <td>-3.183950</td>\n",
       "    </tr>\n",
       "    <tr>\n",
       "      <th>25%</th>\n",
       "      <td>76.000000</td>\n",
       "      <td>-0.440548</td>\n",
       "    </tr>\n",
       "    <tr>\n",
       "      <th>50%</th>\n",
       "      <td>158.000000</td>\n",
       "      <td>-0.061656</td>\n",
       "    </tr>\n",
       "    <tr>\n",
       "      <th>75%</th>\n",
       "      <td>244.000000</td>\n",
       "      <td>0.285007</td>\n",
       "    </tr>\n",
       "    <tr>\n",
       "      <th>max</th>\n",
       "      <td>318.000000</td>\n",
       "      <td>3.844523</td>\n",
       "    </tr>\n",
       "  </tbody>\n",
       "</table>\n",
       "</div>"
      ],
      "text/plain": [
       "       Unnamed: 0  Inflation_LG\n",
       "count   97.000000     97.000000\n",
       "mean   156.505155     -0.052555\n",
       "std     95.397974      0.972184\n",
       "min      3.000000     -3.183950\n",
       "25%     76.000000     -0.440548\n",
       "50%    158.000000     -0.061656\n",
       "75%    244.000000      0.285007\n",
       "max    318.000000      3.844523"
      ]
     },
     "execution_count": 227,
     "metadata": {},
     "output_type": "execute_result"
    }
   ],
   "source": [
    "y_test_LG.describe()"
   ]
  },
  {
   "cell_type": "code",
   "execution_count": 228,
   "id": "5eb9b5aa",
   "metadata": {},
   "outputs": [],
   "source": [
    "y_test_LG = y_test_LG.drop(['Unnamed: 0'], axis=1)"
   ]
  },
  {
   "cell_type": "markdown",
   "id": "f7cbe6d5",
   "metadata": {},
   "source": [
    "`Mean` should be 0 `Std` should be 1 for `X` but not `y`"
   ]
  },
  {
   "cell_type": "code",
   "execution_count": 229,
   "id": "8d90422c",
   "metadata": {},
   "outputs": [
    {
     "data": {
      "text/html": [
       "<div>\n",
       "<style scoped>\n",
       "    .dataframe tbody tr th:only-of-type {\n",
       "        vertical-align: middle;\n",
       "    }\n",
       "\n",
       "    .dataframe tbody tr th {\n",
       "        vertical-align: top;\n",
       "    }\n",
       "\n",
       "    .dataframe thead th {\n",
       "        text-align: right;\n",
       "    }\n",
       "</style>\n",
       "<table border=\"1\" class=\"dataframe\">\n",
       "  <thead>\n",
       "    <tr style=\"text-align: right;\">\n",
       "      <th></th>\n",
       "      <th>Unnamed: 0</th>\n",
       "      <th>Wage CPI_LG</th>\n",
       "      <th>WTI_LG</th>\n",
       "      <th>Heating Oil_LG</th>\n",
       "      <th>Copper_LG</th>\n",
       "      <th>Sugar_LG</th>\n",
       "      <th>Natural Gas_LG</th>\n",
       "      <th>Cattle_LG</th>\n",
       "      <th>Lean Hogs_LG</th>\n",
       "      <th>Soybeans_LG</th>\n",
       "      <th>Lumber_LG</th>\n",
       "      <th>Capacity Utilization_LG</th>\n",
       "      <th>Corn_LG</th>\n",
       "      <th>M2 Velocity_LG</th>\n",
       "      <th>GDP_LG</th>\n",
       "      <th>Wheat_LG</th>\n",
       "      <th>PMI_LG</th>\n",
       "      <th>USD Index_LG</th>\n",
       "      <th>Unemployment Rate_LG</th>\n",
       "      <th>Initial Jobless Claims_LG</th>\n",
       "    </tr>\n",
       "  </thead>\n",
       "  <tbody>\n",
       "    <tr>\n",
       "      <th>count</th>\n",
       "      <td>224.000000</td>\n",
       "      <td>2.240000e+02</td>\n",
       "      <td>2.240000e+02</td>\n",
       "      <td>2.240000e+02</td>\n",
       "      <td>2.240000e+02</td>\n",
       "      <td>2.240000e+02</td>\n",
       "      <td>2.240000e+02</td>\n",
       "      <td>2.240000e+02</td>\n",
       "      <td>2.240000e+02</td>\n",
       "      <td>2.240000e+02</td>\n",
       "      <td>2.240000e+02</td>\n",
       "      <td>2.240000e+02</td>\n",
       "      <td>2.240000e+02</td>\n",
       "      <td>2.240000e+02</td>\n",
       "      <td>2.240000e+02</td>\n",
       "      <td>2.240000e+02</td>\n",
       "      <td>2.240000e+02</td>\n",
       "      <td>2.240000e+02</td>\n",
       "      <td>2.240000e+02</td>\n",
       "      <td>2.240000e+02</td>\n",
       "    </tr>\n",
       "    <tr>\n",
       "      <th>mean</th>\n",
       "      <td>161.513393</td>\n",
       "      <td>3.221629e-17</td>\n",
       "      <td>6.046750e-17</td>\n",
       "      <td>-2.279922e-17</td>\n",
       "      <td>-8.128419e-17</td>\n",
       "      <td>2.973812e-18</td>\n",
       "      <td>5.947623e-18</td>\n",
       "      <td>5.451988e-18</td>\n",
       "      <td>3.182908e-17</td>\n",
       "      <td>7.335402e-17</td>\n",
       "      <td>2.230359e-18</td>\n",
       "      <td>2.261336e-18</td>\n",
       "      <td>-9.912706e-19</td>\n",
       "      <td>-6.715858e-17</td>\n",
       "      <td>-1.437342e-17</td>\n",
       "      <td>-6.814985e-18</td>\n",
       "      <td>1.836948e-17</td>\n",
       "      <td>-5.204170e-18</td>\n",
       "      <td>-3.881444e-17</td>\n",
       "      <td>-3.172066e-17</td>\n",
       "    </tr>\n",
       "    <tr>\n",
       "      <th>std</th>\n",
       "      <td>91.840864</td>\n",
       "      <td>1.002240e+00</td>\n",
       "      <td>1.002240e+00</td>\n",
       "      <td>1.002240e+00</td>\n",
       "      <td>1.002240e+00</td>\n",
       "      <td>1.002240e+00</td>\n",
       "      <td>1.002240e+00</td>\n",
       "      <td>1.002240e+00</td>\n",
       "      <td>1.002240e+00</td>\n",
       "      <td>1.002240e+00</td>\n",
       "      <td>1.002240e+00</td>\n",
       "      <td>1.002240e+00</td>\n",
       "      <td>1.002240e+00</td>\n",
       "      <td>1.002240e+00</td>\n",
       "      <td>1.002240e+00</td>\n",
       "      <td>1.002240e+00</td>\n",
       "      <td>1.002240e+00</td>\n",
       "      <td>1.002240e+00</td>\n",
       "      <td>1.002240e+00</td>\n",
       "      <td>1.002240e+00</td>\n",
       "    </tr>\n",
       "    <tr>\n",
       "      <th>min</th>\n",
       "      <td>0.000000</td>\n",
       "      <td>-3.953252e+00</td>\n",
       "      <td>-2.776284e+00</td>\n",
       "      <td>-2.721131e+00</td>\n",
       "      <td>-3.897927e+00</td>\n",
       "      <td>-2.582866e+00</td>\n",
       "      <td>-2.434071e+00</td>\n",
       "      <td>-2.932735e+00</td>\n",
       "      <td>-2.618813e+00</td>\n",
       "      <td>-3.768974e+00</td>\n",
       "      <td>-2.908860e+00</td>\n",
       "      <td>-2.823674e+00</td>\n",
       "      <td>-3.136407e+00</td>\n",
       "      <td>-3.875809e+00</td>\n",
       "      <td>-3.212336e+00</td>\n",
       "      <td>-3.994214e+00</td>\n",
       "      <td>-4.498809e+00</td>\n",
       "      <td>-2.235572e+00</td>\n",
       "      <td>-4.316233e+00</td>\n",
       "      <td>-2.458991e+00</td>\n",
       "    </tr>\n",
       "    <tr>\n",
       "      <th>25%</th>\n",
       "      <td>84.500000</td>\n",
       "      <td>-3.965705e-01</td>\n",
       "      <td>-5.496657e-01</td>\n",
       "      <td>-5.945481e-01</td>\n",
       "      <td>-6.100607e-01</td>\n",
       "      <td>-6.704211e-01</td>\n",
       "      <td>-5.748360e-01</td>\n",
       "      <td>-6.579841e-01</td>\n",
       "      <td>-6.408573e-01</td>\n",
       "      <td>-5.971777e-01</td>\n",
       "      <td>-6.976571e-01</td>\n",
       "      <td>-4.711956e-01</td>\n",
       "      <td>-5.509166e-01</td>\n",
       "      <td>-3.899656e-01</td>\n",
       "      <td>-4.476507e-01</td>\n",
       "      <td>-6.090004e-01</td>\n",
       "      <td>-5.161131e-01</td>\n",
       "      <td>-6.788497e-01</td>\n",
       "      <td>-5.127249e-01</td>\n",
       "      <td>-3.557340e-01</td>\n",
       "    </tr>\n",
       "    <tr>\n",
       "      <th>50%</th>\n",
       "      <td>160.500000</td>\n",
       "      <td>3.226779e-02</td>\n",
       "      <td>1.990514e-02</td>\n",
       "      <td>-5.807909e-02</td>\n",
       "      <td>-7.161780e-02</td>\n",
       "      <td>-5.882763e-02</td>\n",
       "      <td>-6.562802e-02</td>\n",
       "      <td>4.028815e-02</td>\n",
       "      <td>-4.930942e-02</td>\n",
       "      <td>-5.697802e-02</td>\n",
       "      <td>1.338150e-02</td>\n",
       "      <td>-1.788500e-02</td>\n",
       "      <td>-5.384945e-02</td>\n",
       "      <td>-2.114029e-02</td>\n",
       "      <td>-2.926445e-02</td>\n",
       "      <td>2.077471e-02</td>\n",
       "      <td>-2.911438e-02</td>\n",
       "      <td>3.068410e-02</td>\n",
       "      <td>-2.840082e-02</td>\n",
       "      <td>3.547869e-02</td>\n",
       "    </tr>\n",
       "    <tr>\n",
       "      <th>75%</th>\n",
       "      <td>239.250000</td>\n",
       "      <td>3.809039e-01</td>\n",
       "      <td>5.872744e-01</td>\n",
       "      <td>5.671875e-01</td>\n",
       "      <td>5.972893e-01</td>\n",
       "      <td>6.589615e-01</td>\n",
       "      <td>6.912821e-01</td>\n",
       "      <td>6.586823e-01</td>\n",
       "      <td>7.388360e-01</td>\n",
       "      <td>5.499134e-01</td>\n",
       "      <td>6.859508e-01</td>\n",
       "      <td>4.575647e-01</td>\n",
       "      <td>6.047407e-01</td>\n",
       "      <td>4.636519e-01</td>\n",
       "      <td>5.422472e-01</td>\n",
       "      <td>6.148453e-01</td>\n",
       "      <td>5.429901e-01</td>\n",
       "      <td>6.826925e-01</td>\n",
       "      <td>4.108113e-01</td>\n",
       "      <td>3.702692e-01</td>\n",
       "    </tr>\n",
       "    <tr>\n",
       "      <th>max</th>\n",
       "      <td>320.000000</td>\n",
       "      <td>4.181340e+00</td>\n",
       "      <td>2.960069e+00</td>\n",
       "      <td>2.954041e+00</td>\n",
       "      <td>3.060935e+00</td>\n",
       "      <td>2.419611e+00</td>\n",
       "      <td>1.994915e+00</td>\n",
       "      <td>3.180441e+00</td>\n",
       "      <td>2.670223e+00</td>\n",
       "      <td>2.639796e+00</td>\n",
       "      <td>2.388930e+00</td>\n",
       "      <td>2.950769e+00</td>\n",
       "      <td>3.145099e+00</td>\n",
       "      <td>4.903268e+00</td>\n",
       "      <td>3.277646e+00</td>\n",
       "      <td>2.779130e+00</td>\n",
       "      <td>3.151130e+00</td>\n",
       "      <td>2.971634e+00</td>\n",
       "      <td>2.657603e+00</td>\n",
       "      <td>2.422816e+00</td>\n",
       "    </tr>\n",
       "  </tbody>\n",
       "</table>\n",
       "</div>"
      ],
      "text/plain": [
       "       Unnamed: 0   Wage CPI_LG        WTI_LG  Heating Oil_LG     Copper_LG  \\\n",
       "count  224.000000  2.240000e+02  2.240000e+02    2.240000e+02  2.240000e+02   \n",
       "mean   161.513393  3.221629e-17  6.046750e-17   -2.279922e-17 -8.128419e-17   \n",
       "std     91.840864  1.002240e+00  1.002240e+00    1.002240e+00  1.002240e+00   \n",
       "min      0.000000 -3.953252e+00 -2.776284e+00   -2.721131e+00 -3.897927e+00   \n",
       "25%     84.500000 -3.965705e-01 -5.496657e-01   -5.945481e-01 -6.100607e-01   \n",
       "50%    160.500000  3.226779e-02  1.990514e-02   -5.807909e-02 -7.161780e-02   \n",
       "75%    239.250000  3.809039e-01  5.872744e-01    5.671875e-01  5.972893e-01   \n",
       "max    320.000000  4.181340e+00  2.960069e+00    2.954041e+00  3.060935e+00   \n",
       "\n",
       "           Sugar_LG  Natural Gas_LG     Cattle_LG  Lean Hogs_LG   Soybeans_LG  \\\n",
       "count  2.240000e+02    2.240000e+02  2.240000e+02  2.240000e+02  2.240000e+02   \n",
       "mean   2.973812e-18    5.947623e-18  5.451988e-18  3.182908e-17  7.335402e-17   \n",
       "std    1.002240e+00    1.002240e+00  1.002240e+00  1.002240e+00  1.002240e+00   \n",
       "min   -2.582866e+00   -2.434071e+00 -2.932735e+00 -2.618813e+00 -3.768974e+00   \n",
       "25%   -6.704211e-01   -5.748360e-01 -6.579841e-01 -6.408573e-01 -5.971777e-01   \n",
       "50%   -5.882763e-02   -6.562802e-02  4.028815e-02 -4.930942e-02 -5.697802e-02   \n",
       "75%    6.589615e-01    6.912821e-01  6.586823e-01  7.388360e-01  5.499134e-01   \n",
       "max    2.419611e+00    1.994915e+00  3.180441e+00  2.670223e+00  2.639796e+00   \n",
       "\n",
       "          Lumber_LG  Capacity Utilization_LG       Corn_LG  M2 Velocity_LG  \\\n",
       "count  2.240000e+02             2.240000e+02  2.240000e+02    2.240000e+02   \n",
       "mean   2.230359e-18             2.261336e-18 -9.912706e-19   -6.715858e-17   \n",
       "std    1.002240e+00             1.002240e+00  1.002240e+00    1.002240e+00   \n",
       "min   -2.908860e+00            -2.823674e+00 -3.136407e+00   -3.875809e+00   \n",
       "25%   -6.976571e-01            -4.711956e-01 -5.509166e-01   -3.899656e-01   \n",
       "50%    1.338150e-02            -1.788500e-02 -5.384945e-02   -2.114029e-02   \n",
       "75%    6.859508e-01             4.575647e-01  6.047407e-01    4.636519e-01   \n",
       "max    2.388930e+00             2.950769e+00  3.145099e+00    4.903268e+00   \n",
       "\n",
       "             GDP_LG      Wheat_LG        PMI_LG  USD Index_LG  \\\n",
       "count  2.240000e+02  2.240000e+02  2.240000e+02  2.240000e+02   \n",
       "mean  -1.437342e-17 -6.814985e-18  1.836948e-17 -5.204170e-18   \n",
       "std    1.002240e+00  1.002240e+00  1.002240e+00  1.002240e+00   \n",
       "min   -3.212336e+00 -3.994214e+00 -4.498809e+00 -2.235572e+00   \n",
       "25%   -4.476507e-01 -6.090004e-01 -5.161131e-01 -6.788497e-01   \n",
       "50%   -2.926445e-02  2.077471e-02 -2.911438e-02  3.068410e-02   \n",
       "75%    5.422472e-01  6.148453e-01  5.429901e-01  6.826925e-01   \n",
       "max    3.277646e+00  2.779130e+00  3.151130e+00  2.971634e+00   \n",
       "\n",
       "       Unemployment Rate_LG  Initial Jobless Claims_LG  \n",
       "count          2.240000e+02               2.240000e+02  \n",
       "mean          -3.881444e-17              -3.172066e-17  \n",
       "std            1.002240e+00               1.002240e+00  \n",
       "min           -4.316233e+00              -2.458991e+00  \n",
       "25%           -5.127249e-01              -3.557340e-01  \n",
       "50%           -2.840082e-02               3.547869e-02  \n",
       "75%            4.108113e-01               3.702692e-01  \n",
       "max            2.657603e+00               2.422816e+00  "
      ]
     },
     "execution_count": 229,
     "metadata": {},
     "output_type": "execute_result"
    }
   ],
   "source": [
    "X_train_LG_y_uns.describe()"
   ]
  },
  {
   "cell_type": "code",
   "execution_count": 230,
   "id": "09ba7229",
   "metadata": {},
   "outputs": [],
   "source": [
    "X_train_LG_y_uns = X_train_LG_y_uns.drop(['Unnamed: 0'], axis=1)"
   ]
  },
  {
   "cell_type": "code",
   "execution_count": 231,
   "id": "4af09f96",
   "metadata": {},
   "outputs": [
    {
     "data": {
      "text/html": [
       "<div>\n",
       "<style scoped>\n",
       "    .dataframe tbody tr th:only-of-type {\n",
       "        vertical-align: middle;\n",
       "    }\n",
       "\n",
       "    .dataframe tbody tr th {\n",
       "        vertical-align: top;\n",
       "    }\n",
       "\n",
       "    .dataframe thead th {\n",
       "        text-align: right;\n",
       "    }\n",
       "</style>\n",
       "<table border=\"1\" class=\"dataframe\">\n",
       "  <thead>\n",
       "    <tr style=\"text-align: right;\">\n",
       "      <th></th>\n",
       "      <th>Unnamed: 0</th>\n",
       "      <th>Inflation</th>\n",
       "    </tr>\n",
       "  </thead>\n",
       "  <tbody>\n",
       "    <tr>\n",
       "      <th>count</th>\n",
       "      <td>224.000000</td>\n",
       "      <td>224.000000</td>\n",
       "    </tr>\n",
       "    <tr>\n",
       "      <th>mean</th>\n",
       "      <td>161.513393</td>\n",
       "      <td>0.019170</td>\n",
       "    </tr>\n",
       "    <tr>\n",
       "      <th>std</th>\n",
       "      <td>91.840864</td>\n",
       "      <td>0.881863</td>\n",
       "    </tr>\n",
       "    <tr>\n",
       "      <th>min</th>\n",
       "      <td>0.000000</td>\n",
       "      <td>-4.846000</td>\n",
       "    </tr>\n",
       "    <tr>\n",
       "      <th>25%</th>\n",
       "      <td>84.500000</td>\n",
       "      <td>-0.392000</td>\n",
       "    </tr>\n",
       "    <tr>\n",
       "      <th>50%</th>\n",
       "      <td>160.500000</td>\n",
       "      <td>-0.013000</td>\n",
       "    </tr>\n",
       "    <tr>\n",
       "      <th>75%</th>\n",
       "      <td>239.250000</td>\n",
       "      <td>0.380750</td>\n",
       "    </tr>\n",
       "    <tr>\n",
       "      <th>max</th>\n",
       "      <td>320.000000</td>\n",
       "      <td>4.007000</td>\n",
       "    </tr>\n",
       "  </tbody>\n",
       "</table>\n",
       "</div>"
      ],
      "text/plain": [
       "       Unnamed: 0   Inflation\n",
       "count  224.000000  224.000000\n",
       "mean   161.513393    0.019170\n",
       "std     91.840864    0.881863\n",
       "min      0.000000   -4.846000\n",
       "25%     84.500000   -0.392000\n",
       "50%    160.500000   -0.013000\n",
       "75%    239.250000    0.380750\n",
       "max    320.000000    4.007000"
      ]
     },
     "execution_count": 231,
     "metadata": {},
     "output_type": "execute_result"
    }
   ],
   "source": [
    "y_train_LG_y_uns.describe()"
   ]
  },
  {
   "cell_type": "code",
   "execution_count": 232,
   "id": "85563334",
   "metadata": {},
   "outputs": [],
   "source": [
    "y_train_LG_y_uns = y_train_LG_y_uns.drop(['Unnamed: 0'], axis=1)"
   ]
  },
  {
   "cell_type": "code",
   "execution_count": 233,
   "id": "f7126948",
   "metadata": {},
   "outputs": [
    {
     "data": {
      "text/html": [
       "<div>\n",
       "<style scoped>\n",
       "    .dataframe tbody tr th:only-of-type {\n",
       "        vertical-align: middle;\n",
       "    }\n",
       "\n",
       "    .dataframe tbody tr th {\n",
       "        vertical-align: top;\n",
       "    }\n",
       "\n",
       "    .dataframe thead th {\n",
       "        text-align: right;\n",
       "    }\n",
       "</style>\n",
       "<table border=\"1\" class=\"dataframe\">\n",
       "  <thead>\n",
       "    <tr style=\"text-align: right;\">\n",
       "      <th></th>\n",
       "      <th>Unnamed: 0</th>\n",
       "      <th>Wage CPI_LG</th>\n",
       "      <th>WTI_LG</th>\n",
       "      <th>Heating Oil_LG</th>\n",
       "      <th>Copper_LG</th>\n",
       "      <th>Sugar_LG</th>\n",
       "      <th>Natural Gas_LG</th>\n",
       "      <th>Cattle_LG</th>\n",
       "      <th>Lean Hogs_LG</th>\n",
       "      <th>Soybeans_LG</th>\n",
       "      <th>Lumber_LG</th>\n",
       "      <th>Capacity Utilization_LG</th>\n",
       "      <th>Corn_LG</th>\n",
       "      <th>M2 Velocity_LG</th>\n",
       "      <th>GDP_LG</th>\n",
       "      <th>Wheat_LG</th>\n",
       "      <th>PMI_LG</th>\n",
       "      <th>USD Index_LG</th>\n",
       "      <th>Unemployment Rate_LG</th>\n",
       "      <th>Initial Jobless Claims_LG</th>\n",
       "    </tr>\n",
       "  </thead>\n",
       "  <tbody>\n",
       "    <tr>\n",
       "      <th>count</th>\n",
       "      <td>97.000000</td>\n",
       "      <td>97.000000</td>\n",
       "      <td>97.000000</td>\n",
       "      <td>97.000000</td>\n",
       "      <td>97.000000</td>\n",
       "      <td>97.000000</td>\n",
       "      <td>97.000000</td>\n",
       "      <td>97.000000</td>\n",
       "      <td>97.000000</td>\n",
       "      <td>97.000000</td>\n",
       "      <td>97.000000</td>\n",
       "      <td>97.000000</td>\n",
       "      <td>97.000000</td>\n",
       "      <td>97.000000</td>\n",
       "      <td>97.000000</td>\n",
       "      <td>97.000000</td>\n",
       "      <td>97.000000</td>\n",
       "      <td>97.000000</td>\n",
       "      <td>97.000000</td>\n",
       "      <td>97.000000</td>\n",
       "    </tr>\n",
       "    <tr>\n",
       "      <th>mean</th>\n",
       "      <td>156.505155</td>\n",
       "      <td>-0.046636</td>\n",
       "      <td>-0.078665</td>\n",
       "      <td>-0.098212</td>\n",
       "      <td>0.076050</td>\n",
       "      <td>0.106598</td>\n",
       "      <td>0.035295</td>\n",
       "      <td>-0.014618</td>\n",
       "      <td>0.029462</td>\n",
       "      <td>-0.124802</td>\n",
       "      <td>-0.100828</td>\n",
       "      <td>0.015733</td>\n",
       "      <td>-0.073868</td>\n",
       "      <td>-0.096086</td>\n",
       "      <td>-0.037073</td>\n",
       "      <td>-0.110230</td>\n",
       "      <td>-0.028575</td>\n",
       "      <td>0.056781</td>\n",
       "      <td>-0.154516</td>\n",
       "      <td>-0.123960</td>\n",
       "    </tr>\n",
       "    <tr>\n",
       "      <th>std</th>\n",
       "      <td>95.397974</td>\n",
       "      <td>0.834314</td>\n",
       "      <td>0.898156</td>\n",
       "      <td>0.947145</td>\n",
       "      <td>1.085986</td>\n",
       "      <td>1.103089</td>\n",
       "      <td>1.006480</td>\n",
       "      <td>0.976716</td>\n",
       "      <td>0.957134</td>\n",
       "      <td>1.059716</td>\n",
       "      <td>1.121758</td>\n",
       "      <td>0.934702</td>\n",
       "      <td>0.875519</td>\n",
       "      <td>0.721986</td>\n",
       "      <td>0.982118</td>\n",
       "      <td>0.895580</td>\n",
       "      <td>0.920947</td>\n",
       "      <td>0.938660</td>\n",
       "      <td>1.102758</td>\n",
       "      <td>1.057012</td>\n",
       "    </tr>\n",
       "    <tr>\n",
       "      <th>min</th>\n",
       "      <td>3.000000</td>\n",
       "      <td>-2.162452</td>\n",
       "      <td>-2.098595</td>\n",
       "      <td>-2.016102</td>\n",
       "      <td>-1.980641</td>\n",
       "      <td>-2.582866</td>\n",
       "      <td>-2.342269</td>\n",
       "      <td>-2.051346</td>\n",
       "      <td>-2.443708</td>\n",
       "      <td>-3.141354</td>\n",
       "      <td>-3.020605</td>\n",
       "      <td>-2.823674</td>\n",
       "      <td>-2.268634</td>\n",
       "      <td>-2.321082</td>\n",
       "      <td>-3.212336</td>\n",
       "      <td>-2.275316</td>\n",
       "      <td>-1.901866</td>\n",
       "      <td>-2.170658</td>\n",
       "      <td>-4.316233</td>\n",
       "      <td>-2.458991</td>\n",
       "    </tr>\n",
       "    <tr>\n",
       "      <th>25%</th>\n",
       "      <td>76.000000</td>\n",
       "      <td>-0.438770</td>\n",
       "      <td>-0.621590</td>\n",
       "      <td>-0.650585</td>\n",
       "      <td>-0.578141</td>\n",
       "      <td>-0.666137</td>\n",
       "      <td>-0.677232</td>\n",
       "      <td>-0.764841</td>\n",
       "      <td>-0.538529</td>\n",
       "      <td>-0.572856</td>\n",
       "      <td>-0.753599</td>\n",
       "      <td>-0.597546</td>\n",
       "      <td>-0.663723</td>\n",
       "      <td>-0.466145</td>\n",
       "      <td>-0.443879</td>\n",
       "      <td>-0.699526</td>\n",
       "      <td>-0.841290</td>\n",
       "      <td>-0.744868</td>\n",
       "      <td>-0.512725</td>\n",
       "      <td>-0.647038</td>\n",
       "    </tr>\n",
       "    <tr>\n",
       "      <th>50%</th>\n",
       "      <td>158.000000</td>\n",
       "      <td>-0.016031</td>\n",
       "      <td>-0.203637</td>\n",
       "      <td>-0.319752</td>\n",
       "      <td>-0.113569</td>\n",
       "      <td>0.035751</td>\n",
       "      <td>-0.040634</td>\n",
       "      <td>0.113235</td>\n",
       "      <td>0.051396</td>\n",
       "      <td>-0.161299</td>\n",
       "      <td>-0.170405</td>\n",
       "      <td>0.038704</td>\n",
       "      <td>-0.084665</td>\n",
       "      <td>-0.172040</td>\n",
       "      <td>0.036058</td>\n",
       "      <td>-0.141545</td>\n",
       "      <td>0.081623</td>\n",
       "      <td>0.123859</td>\n",
       "      <td>-0.028401</td>\n",
       "      <td>-0.087277</td>\n",
       "    </tr>\n",
       "    <tr>\n",
       "      <th>75%</th>\n",
       "      <td>244.000000</td>\n",
       "      <td>0.302861</td>\n",
       "      <td>0.417349</td>\n",
       "      <td>0.451407</td>\n",
       "      <td>0.611569</td>\n",
       "      <td>1.064501</td>\n",
       "      <td>0.727716</td>\n",
       "      <td>0.832295</td>\n",
       "      <td>0.654674</td>\n",
       "      <td>0.443645</td>\n",
       "      <td>0.594399</td>\n",
       "      <td>0.398966</td>\n",
       "      <td>0.305856</td>\n",
       "      <td>0.385941</td>\n",
       "      <td>0.376103</td>\n",
       "      <td>0.583343</td>\n",
       "      <td>0.579138</td>\n",
       "      <td>0.494139</td>\n",
       "      <td>0.410811</td>\n",
       "      <td>0.433148</td>\n",
       "    </tr>\n",
       "    <tr>\n",
       "      <th>max</th>\n",
       "      <td>318.000000</td>\n",
       "      <td>3.201650</td>\n",
       "      <td>2.960069</td>\n",
       "      <td>2.881403</td>\n",
       "      <td>4.459247</td>\n",
       "      <td>2.419611</td>\n",
       "      <td>1.994915</td>\n",
       "      <td>1.877685</td>\n",
       "      <td>2.187895</td>\n",
       "      <td>2.257408</td>\n",
       "      <td>2.388930</td>\n",
       "      <td>2.950769</td>\n",
       "      <td>2.170058</td>\n",
       "      <td>1.577467</td>\n",
       "      <td>3.277646</td>\n",
       "      <td>1.753302</td>\n",
       "      <td>2.259553</td>\n",
       "      <td>2.304980</td>\n",
       "      <td>2.657603</td>\n",
       "      <td>2.422816</td>\n",
       "    </tr>\n",
       "  </tbody>\n",
       "</table>\n",
       "</div>"
      ],
      "text/plain": [
       "       Unnamed: 0  Wage CPI_LG     WTI_LG  Heating Oil_LG  Copper_LG  \\\n",
       "count   97.000000    97.000000  97.000000       97.000000  97.000000   \n",
       "mean   156.505155    -0.046636  -0.078665       -0.098212   0.076050   \n",
       "std     95.397974     0.834314   0.898156        0.947145   1.085986   \n",
       "min      3.000000    -2.162452  -2.098595       -2.016102  -1.980641   \n",
       "25%     76.000000    -0.438770  -0.621590       -0.650585  -0.578141   \n",
       "50%    158.000000    -0.016031  -0.203637       -0.319752  -0.113569   \n",
       "75%    244.000000     0.302861   0.417349        0.451407   0.611569   \n",
       "max    318.000000     3.201650   2.960069        2.881403   4.459247   \n",
       "\n",
       "        Sugar_LG  Natural Gas_LG  Cattle_LG  Lean Hogs_LG  Soybeans_LG  \\\n",
       "count  97.000000       97.000000  97.000000     97.000000    97.000000   \n",
       "mean    0.106598        0.035295  -0.014618      0.029462    -0.124802   \n",
       "std     1.103089        1.006480   0.976716      0.957134     1.059716   \n",
       "min    -2.582866       -2.342269  -2.051346     -2.443708    -3.141354   \n",
       "25%    -0.666137       -0.677232  -0.764841     -0.538529    -0.572856   \n",
       "50%     0.035751       -0.040634   0.113235      0.051396    -0.161299   \n",
       "75%     1.064501        0.727716   0.832295      0.654674     0.443645   \n",
       "max     2.419611        1.994915   1.877685      2.187895     2.257408   \n",
       "\n",
       "       Lumber_LG  Capacity Utilization_LG    Corn_LG  M2 Velocity_LG  \\\n",
       "count  97.000000                97.000000  97.000000       97.000000   \n",
       "mean   -0.100828                 0.015733  -0.073868       -0.096086   \n",
       "std     1.121758                 0.934702   0.875519        0.721986   \n",
       "min    -3.020605                -2.823674  -2.268634       -2.321082   \n",
       "25%    -0.753599                -0.597546  -0.663723       -0.466145   \n",
       "50%    -0.170405                 0.038704  -0.084665       -0.172040   \n",
       "75%     0.594399                 0.398966   0.305856        0.385941   \n",
       "max     2.388930                 2.950769   2.170058        1.577467   \n",
       "\n",
       "          GDP_LG   Wheat_LG     PMI_LG  USD Index_LG  Unemployment Rate_LG  \\\n",
       "count  97.000000  97.000000  97.000000     97.000000             97.000000   \n",
       "mean   -0.037073  -0.110230  -0.028575      0.056781             -0.154516   \n",
       "std     0.982118   0.895580   0.920947      0.938660              1.102758   \n",
       "min    -3.212336  -2.275316  -1.901866     -2.170658             -4.316233   \n",
       "25%    -0.443879  -0.699526  -0.841290     -0.744868             -0.512725   \n",
       "50%     0.036058  -0.141545   0.081623      0.123859             -0.028401   \n",
       "75%     0.376103   0.583343   0.579138      0.494139              0.410811   \n",
       "max     3.277646   1.753302   2.259553      2.304980              2.657603   \n",
       "\n",
       "       Initial Jobless Claims_LG  \n",
       "count                  97.000000  \n",
       "mean                   -0.123960  \n",
       "std                     1.057012  \n",
       "min                    -2.458991  \n",
       "25%                    -0.647038  \n",
       "50%                    -0.087277  \n",
       "75%                     0.433148  \n",
       "max                     2.422816  "
      ]
     },
     "execution_count": 233,
     "metadata": {},
     "output_type": "execute_result"
    }
   ],
   "source": [
    "X_test_LG_y_uns.describe()"
   ]
  },
  {
   "cell_type": "code",
   "execution_count": 234,
   "id": "14dbfd9e",
   "metadata": {},
   "outputs": [],
   "source": [
    "X_test_LG_y_uns = X_test_LG_y_uns.drop(['Unnamed: 0'], axis=1)"
   ]
  },
  {
   "cell_type": "code",
   "execution_count": 235,
   "id": "8fc797d7",
   "metadata": {},
   "outputs": [
    {
     "data": {
      "text/html": [
       "<div>\n",
       "<style scoped>\n",
       "    .dataframe tbody tr th:only-of-type {\n",
       "        vertical-align: middle;\n",
       "    }\n",
       "\n",
       "    .dataframe tbody tr th {\n",
       "        vertical-align: top;\n",
       "    }\n",
       "\n",
       "    .dataframe thead th {\n",
       "        text-align: right;\n",
       "    }\n",
       "</style>\n",
       "<table border=\"1\" class=\"dataframe\">\n",
       "  <thead>\n",
       "    <tr style=\"text-align: right;\">\n",
       "      <th></th>\n",
       "      <th>Unnamed: 0</th>\n",
       "      <th>Inflation_LG</th>\n",
       "    </tr>\n",
       "  </thead>\n",
       "  <tbody>\n",
       "    <tr>\n",
       "      <th>count</th>\n",
       "      <td>97.000000</td>\n",
       "      <td>97.000000</td>\n",
       "    </tr>\n",
       "    <tr>\n",
       "      <th>mean</th>\n",
       "      <td>156.505155</td>\n",
       "      <td>-0.052555</td>\n",
       "    </tr>\n",
       "    <tr>\n",
       "      <th>std</th>\n",
       "      <td>95.397974</td>\n",
       "      <td>0.972184</td>\n",
       "    </tr>\n",
       "    <tr>\n",
       "      <th>min</th>\n",
       "      <td>3.000000</td>\n",
       "      <td>-3.183950</td>\n",
       "    </tr>\n",
       "    <tr>\n",
       "      <th>25%</th>\n",
       "      <td>76.000000</td>\n",
       "      <td>-0.440548</td>\n",
       "    </tr>\n",
       "    <tr>\n",
       "      <th>50%</th>\n",
       "      <td>158.000000</td>\n",
       "      <td>-0.061656</td>\n",
       "    </tr>\n",
       "    <tr>\n",
       "      <th>75%</th>\n",
       "      <td>244.000000</td>\n",
       "      <td>0.285007</td>\n",
       "    </tr>\n",
       "    <tr>\n",
       "      <th>max</th>\n",
       "      <td>318.000000</td>\n",
       "      <td>3.844523</td>\n",
       "    </tr>\n",
       "  </tbody>\n",
       "</table>\n",
       "</div>"
      ],
      "text/plain": [
       "       Unnamed: 0  Inflation_LG\n",
       "count   97.000000     97.000000\n",
       "mean   156.505155     -0.052555\n",
       "std     95.397974      0.972184\n",
       "min      3.000000     -3.183950\n",
       "25%     76.000000     -0.440548\n",
       "50%    158.000000     -0.061656\n",
       "75%    244.000000      0.285007\n",
       "max    318.000000      3.844523"
      ]
     },
     "execution_count": 235,
     "metadata": {},
     "output_type": "execute_result"
    }
   ],
   "source": [
    "y_test_LG_y_uns.describe()"
   ]
  },
  {
   "cell_type": "code",
   "execution_count": 236,
   "id": "d157696f",
   "metadata": {},
   "outputs": [],
   "source": [
    "y_test_LG_y_uns = y_test_LG_y_uns.drop(['Unnamed: 0'], axis=1)"
   ]
  },
  {
   "cell_type": "markdown",
   "id": "6ab9dede",
   "metadata": {},
   "source": [
    "`Mean` should be 0 `Std` should be 1 for `X` but not `y`"
   ]
  },
  {
   "cell_type": "code",
   "execution_count": 237,
   "id": "3222d07a",
   "metadata": {},
   "outputs": [
    {
     "data": {
      "text/html": [
       "<div>\n",
       "<style scoped>\n",
       "    .dataframe tbody tr th:only-of-type {\n",
       "        vertical-align: middle;\n",
       "    }\n",
       "\n",
       "    .dataframe tbody tr th {\n",
       "        vertical-align: top;\n",
       "    }\n",
       "\n",
       "    .dataframe thead th {\n",
       "        text-align: right;\n",
       "    }\n",
       "</style>\n",
       "<table border=\"1\" class=\"dataframe\">\n",
       "  <thead>\n",
       "    <tr style=\"text-align: right;\">\n",
       "      <th></th>\n",
       "      <th>Unnamed: 0</th>\n",
       "      <th>WTI_SS_yun</th>\n",
       "      <th>Copper_SS_yun</th>\n",
       "      <th>Soybeans_SS_yun</th>\n",
       "      <th>Natural Gas_SS_yun</th>\n",
       "      <th>Heating Oil_SS_yun</th>\n",
       "      <th>Corn_SS_yun</th>\n",
       "      <th>Wheat_SS_yun</th>\n",
       "      <th>Cattle_SS_yun</th>\n",
       "      <th>Lean Hogs_SS_yun</th>\n",
       "      <th>Sugar_SS_yun</th>\n",
       "      <th>Lumber_SS_yun</th>\n",
       "      <th>PMI_SS_yun</th>\n",
       "      <th>USD Index_SS_yun</th>\n",
       "      <th>Wages CPI_LG</th>\n",
       "      <th>Capacity Utilization_LG</th>\n",
       "      <th>GDP_LG</th>\n",
       "      <th>M2 Velocity_LG</th>\n",
       "      <th>Initial Jobless Claims_LG</th>\n",
       "      <th>Unemployment Rate_LG</th>\n",
       "    </tr>\n",
       "  </thead>\n",
       "  <tbody>\n",
       "    <tr>\n",
       "      <th>count</th>\n",
       "      <td>224.000000</td>\n",
       "      <td>2.240000e+02</td>\n",
       "      <td>2.240000e+02</td>\n",
       "      <td>2.240000e+02</td>\n",
       "      <td>2.240000e+02</td>\n",
       "      <td>2.240000e+02</td>\n",
       "      <td>2.240000e+02</td>\n",
       "      <td>2.240000e+02</td>\n",
       "      <td>2.240000e+02</td>\n",
       "      <td>2.240000e+02</td>\n",
       "      <td>2.240000e+02</td>\n",
       "      <td>2.240000e+02</td>\n",
       "      <td>2.240000e+02</td>\n",
       "      <td>2.240000e+02</td>\n",
       "      <td>2.240000e+02</td>\n",
       "      <td>2.240000e+02</td>\n",
       "      <td>2.240000e+02</td>\n",
       "      <td>2.240000e+02</td>\n",
       "      <td>2.240000e+02</td>\n",
       "      <td>2.240000e+02</td>\n",
       "    </tr>\n",
       "    <tr>\n",
       "      <th>mean</th>\n",
       "      <td>161.513393</td>\n",
       "      <td>2.230359e-17</td>\n",
       "      <td>-4.609408e-17</td>\n",
       "      <td>-3.172066e-17</td>\n",
       "      <td>-4.956353e-18</td>\n",
       "      <td>-3.766828e-17</td>\n",
       "      <td>-1.883414e-17</td>\n",
       "      <td>-2.837512e-17</td>\n",
       "      <td>-1.536469e-17</td>\n",
       "      <td>-6.567167e-17</td>\n",
       "      <td>3.023375e-17</td>\n",
       "      <td>-7.806256e-18</td>\n",
       "      <td>2.255141e-17</td>\n",
       "      <td>2.998593e-17</td>\n",
       "      <td>3.221629e-17</td>\n",
       "      <td>2.261336e-18</td>\n",
       "      <td>-6.715858e-17</td>\n",
       "      <td>-1.437342e-17</td>\n",
       "      <td>-3.881444e-17</td>\n",
       "      <td>-3.172066e-17</td>\n",
       "    </tr>\n",
       "    <tr>\n",
       "      <th>std</th>\n",
       "      <td>91.840864</td>\n",
       "      <td>1.002240e+00</td>\n",
       "      <td>1.002240e+00</td>\n",
       "      <td>1.002240e+00</td>\n",
       "      <td>1.002240e+00</td>\n",
       "      <td>1.002240e+00</td>\n",
       "      <td>1.002240e+00</td>\n",
       "      <td>1.002240e+00</td>\n",
       "      <td>1.002240e+00</td>\n",
       "      <td>1.002240e+00</td>\n",
       "      <td>1.002240e+00</td>\n",
       "      <td>1.002240e+00</td>\n",
       "      <td>1.002240e+00</td>\n",
       "      <td>1.002240e+00</td>\n",
       "      <td>1.002240e+00</td>\n",
       "      <td>1.002240e+00</td>\n",
       "      <td>1.002240e+00</td>\n",
       "      <td>1.002240e+00</td>\n",
       "      <td>1.002240e+00</td>\n",
       "      <td>1.002240e+00</td>\n",
       "    </tr>\n",
       "    <tr>\n",
       "      <th>min</th>\n",
       "      <td>0.000000</td>\n",
       "      <td>-3.332127e+00</td>\n",
       "      <td>-3.386154e+00</td>\n",
       "      <td>-4.310457e+00</td>\n",
       "      <td>-1.940694e+00</td>\n",
       "      <td>-2.158512e+00</td>\n",
       "      <td>-3.240904e+00</td>\n",
       "      <td>-2.330984e+00</td>\n",
       "      <td>-3.523597e+00</td>\n",
       "      <td>-2.391266e+00</td>\n",
       "      <td>-2.804955e+00</td>\n",
       "      <td>-2.819227e+00</td>\n",
       "      <td>-3.957684e+00</td>\n",
       "      <td>-2.051576e+00</td>\n",
       "      <td>-3.953252e+00</td>\n",
       "      <td>-2.823674e+00</td>\n",
       "      <td>-3.875809e+00</td>\n",
       "      <td>-3.212336e+00</td>\n",
       "      <td>-4.316233e+00</td>\n",
       "      <td>-2.458991e+00</td>\n",
       "    </tr>\n",
       "    <tr>\n",
       "      <th>25%</th>\n",
       "      <td>84.500000</td>\n",
       "      <td>-4.809661e-01</td>\n",
       "      <td>-5.143811e-01</td>\n",
       "      <td>-5.894124e-01</td>\n",
       "      <td>-6.946725e-01</td>\n",
       "      <td>-6.085606e-01</td>\n",
       "      <td>-6.323248e-01</td>\n",
       "      <td>-6.660726e-01</td>\n",
       "      <td>-6.091566e-01</td>\n",
       "      <td>-7.210567e-01</td>\n",
       "      <td>-5.751711e-01</td>\n",
       "      <td>-6.414855e-01</td>\n",
       "      <td>-5.413748e-01</td>\n",
       "      <td>-6.983481e-01</td>\n",
       "      <td>-3.965705e-01</td>\n",
       "      <td>-4.711956e-01</td>\n",
       "      <td>-3.899656e-01</td>\n",
       "      <td>-4.476507e-01</td>\n",
       "      <td>-5.127249e-01</td>\n",
       "      <td>-3.557340e-01</td>\n",
       "    </tr>\n",
       "    <tr>\n",
       "      <th>50%</th>\n",
       "      <td>160.500000</td>\n",
       "      <td>9.278103e-02</td>\n",
       "      <td>3.140794e-02</td>\n",
       "      <td>-4.334462e-02</td>\n",
       "      <td>-1.855822e-01</td>\n",
       "      <td>-1.274154e-01</td>\n",
       "      <td>7.765653e-02</td>\n",
       "      <td>-1.043324e-01</td>\n",
       "      <td>-7.755773e-02</td>\n",
       "      <td>-6.975767e-02</td>\n",
       "      <td>-9.562681e-02</td>\n",
       "      <td>-8.902961e-02</td>\n",
       "      <td>-7.852001e-02</td>\n",
       "      <td>-1.791613e-02</td>\n",
       "      <td>3.226779e-02</td>\n",
       "      <td>-1.788500e-02</td>\n",
       "      <td>-2.114029e-02</td>\n",
       "      <td>-2.926445e-02</td>\n",
       "      <td>-2.840082e-02</td>\n",
       "      <td>3.547869e-02</td>\n",
       "    </tr>\n",
       "    <tr>\n",
       "      <th>75%</th>\n",
       "      <td>239.250000</td>\n",
       "      <td>6.166601e-01</td>\n",
       "      <td>6.038625e-01</td>\n",
       "      <td>6.114516e-01</td>\n",
       "      <td>5.306842e-01</td>\n",
       "      <td>6.505872e-01</td>\n",
       "      <td>6.754089e-01</td>\n",
       "      <td>7.064737e-01</td>\n",
       "      <td>5.345899e-01</td>\n",
       "      <td>6.240226e-01</td>\n",
       "      <td>5.732496e-01</td>\n",
       "      <td>5.091645e-01</td>\n",
       "      <td>5.110688e-01</td>\n",
       "      <td>6.502723e-01</td>\n",
       "      <td>3.809039e-01</td>\n",
       "      <td>4.575647e-01</td>\n",
       "      <td>4.636519e-01</td>\n",
       "      <td>5.422472e-01</td>\n",
       "      <td>4.108113e-01</td>\n",
       "      <td>3.702692e-01</td>\n",
       "    </tr>\n",
       "    <tr>\n",
       "      <th>max</th>\n",
       "      <td>320.000000</td>\n",
       "      <td>2.468353e+00</td>\n",
       "      <td>2.391802e+00</td>\n",
       "      <td>2.845520e+00</td>\n",
       "      <td>3.233036e+00</td>\n",
       "      <td>2.182962e+00</td>\n",
       "      <td>2.876337e+00</td>\n",
       "      <td>3.032588e+00</td>\n",
       "      <td>2.763127e+00</td>\n",
       "      <td>2.811004e+00</td>\n",
       "      <td>3.539395e+00</td>\n",
       "      <td>3.702891e+00</td>\n",
       "      <td>3.481054e+00</td>\n",
       "      <td>3.402171e+00</td>\n",
       "      <td>4.181340e+00</td>\n",
       "      <td>2.950769e+00</td>\n",
       "      <td>4.903268e+00</td>\n",
       "      <td>3.277646e+00</td>\n",
       "      <td>2.657603e+00</td>\n",
       "      <td>2.422816e+00</td>\n",
       "    </tr>\n",
       "  </tbody>\n",
       "</table>\n",
       "</div>"
      ],
      "text/plain": [
       "       Unnamed: 0    WTI_SS_yun  Copper_SS_yun  Soybeans_SS_yun  \\\n",
       "count  224.000000  2.240000e+02   2.240000e+02     2.240000e+02   \n",
       "mean   161.513393  2.230359e-17  -4.609408e-17    -3.172066e-17   \n",
       "std     91.840864  1.002240e+00   1.002240e+00     1.002240e+00   \n",
       "min      0.000000 -3.332127e+00  -3.386154e+00    -4.310457e+00   \n",
       "25%     84.500000 -4.809661e-01  -5.143811e-01    -5.894124e-01   \n",
       "50%    160.500000  9.278103e-02   3.140794e-02    -4.334462e-02   \n",
       "75%    239.250000  6.166601e-01   6.038625e-01     6.114516e-01   \n",
       "max    320.000000  2.468353e+00   2.391802e+00     2.845520e+00   \n",
       "\n",
       "       Natural Gas_SS_yun  Heating Oil_SS_yun   Corn_SS_yun  Wheat_SS_yun  \\\n",
       "count        2.240000e+02        2.240000e+02  2.240000e+02  2.240000e+02   \n",
       "mean        -4.956353e-18       -3.766828e-17 -1.883414e-17 -2.837512e-17   \n",
       "std          1.002240e+00        1.002240e+00  1.002240e+00  1.002240e+00   \n",
       "min         -1.940694e+00       -2.158512e+00 -3.240904e+00 -2.330984e+00   \n",
       "25%         -6.946725e-01       -6.085606e-01 -6.323248e-01 -6.660726e-01   \n",
       "50%         -1.855822e-01       -1.274154e-01  7.765653e-02 -1.043324e-01   \n",
       "75%          5.306842e-01        6.505872e-01  6.754089e-01  7.064737e-01   \n",
       "max          3.233036e+00        2.182962e+00  2.876337e+00  3.032588e+00   \n",
       "\n",
       "       Cattle_SS_yun  Lean Hogs_SS_yun  Sugar_SS_yun  Lumber_SS_yun  \\\n",
       "count   2.240000e+02      2.240000e+02  2.240000e+02   2.240000e+02   \n",
       "mean   -1.536469e-17     -6.567167e-17  3.023375e-17  -7.806256e-18   \n",
       "std     1.002240e+00      1.002240e+00  1.002240e+00   1.002240e+00   \n",
       "min    -3.523597e+00     -2.391266e+00 -2.804955e+00  -2.819227e+00   \n",
       "25%    -6.091566e-01     -7.210567e-01 -5.751711e-01  -6.414855e-01   \n",
       "50%    -7.755773e-02     -6.975767e-02 -9.562681e-02  -8.902961e-02   \n",
       "75%     5.345899e-01      6.240226e-01  5.732496e-01   5.091645e-01   \n",
       "max     2.763127e+00      2.811004e+00  3.539395e+00   3.702891e+00   \n",
       "\n",
       "         PMI_SS_yun  USD Index_SS_yun  Wages CPI_LG  Capacity Utilization_LG  \\\n",
       "count  2.240000e+02      2.240000e+02  2.240000e+02             2.240000e+02   \n",
       "mean   2.255141e-17      2.998593e-17  3.221629e-17             2.261336e-18   \n",
       "std    1.002240e+00      1.002240e+00  1.002240e+00             1.002240e+00   \n",
       "min   -3.957684e+00     -2.051576e+00 -3.953252e+00            -2.823674e+00   \n",
       "25%   -5.413748e-01     -6.983481e-01 -3.965705e-01            -4.711956e-01   \n",
       "50%   -7.852001e-02     -1.791613e-02  3.226779e-02            -1.788500e-02   \n",
       "75%    5.110688e-01      6.502723e-01  3.809039e-01             4.575647e-01   \n",
       "max    3.481054e+00      3.402171e+00  4.181340e+00             2.950769e+00   \n",
       "\n",
       "             GDP_LG  M2 Velocity_LG  Initial Jobless Claims_LG  \\\n",
       "count  2.240000e+02    2.240000e+02               2.240000e+02   \n",
       "mean  -6.715858e-17   -1.437342e-17              -3.881444e-17   \n",
       "std    1.002240e+00    1.002240e+00               1.002240e+00   \n",
       "min   -3.875809e+00   -3.212336e+00              -4.316233e+00   \n",
       "25%   -3.899656e-01   -4.476507e-01              -5.127249e-01   \n",
       "50%   -2.114029e-02   -2.926445e-02              -2.840082e-02   \n",
       "75%    4.636519e-01    5.422472e-01               4.108113e-01   \n",
       "max    4.903268e+00    3.277646e+00               2.657603e+00   \n",
       "\n",
       "       Unemployment Rate_LG  \n",
       "count          2.240000e+02  \n",
       "mean          -3.172066e-17  \n",
       "std            1.002240e+00  \n",
       "min           -2.458991e+00  \n",
       "25%           -3.557340e-01  \n",
       "50%            3.547869e-02  \n",
       "75%            3.702692e-01  \n",
       "max            2.422816e+00  "
      ]
     },
     "execution_count": 237,
     "metadata": {},
     "output_type": "execute_result"
    }
   ],
   "source": [
    "X_tr_SS_LG.describe()"
   ]
  },
  {
   "cell_type": "code",
   "execution_count": 238,
   "id": "6c7fadd8",
   "metadata": {},
   "outputs": [],
   "source": [
    "X_tr_SS_LG = X_tr_SS_LG.drop(['Unnamed: 0'], axis=1)"
   ]
  },
  {
   "cell_type": "code",
   "execution_count": 239,
   "id": "b2ef8986",
   "metadata": {},
   "outputs": [
    {
     "data": {
      "text/html": [
       "<div>\n",
       "<style scoped>\n",
       "    .dataframe tbody tr th:only-of-type {\n",
       "        vertical-align: middle;\n",
       "    }\n",
       "\n",
       "    .dataframe tbody tr th {\n",
       "        vertical-align: top;\n",
       "    }\n",
       "\n",
       "    .dataframe thead th {\n",
       "        text-align: right;\n",
       "    }\n",
       "</style>\n",
       "<table border=\"1\" class=\"dataframe\">\n",
       "  <thead>\n",
       "    <tr style=\"text-align: right;\">\n",
       "      <th></th>\n",
       "      <th>Unnamed: 0</th>\n",
       "      <th>Inflation</th>\n",
       "    </tr>\n",
       "  </thead>\n",
       "  <tbody>\n",
       "    <tr>\n",
       "      <th>count</th>\n",
       "      <td>224.000000</td>\n",
       "      <td>224.000000</td>\n",
       "    </tr>\n",
       "    <tr>\n",
       "      <th>mean</th>\n",
       "      <td>161.513393</td>\n",
       "      <td>0.019170</td>\n",
       "    </tr>\n",
       "    <tr>\n",
       "      <th>std</th>\n",
       "      <td>91.840864</td>\n",
       "      <td>0.881863</td>\n",
       "    </tr>\n",
       "    <tr>\n",
       "      <th>min</th>\n",
       "      <td>0.000000</td>\n",
       "      <td>-4.846000</td>\n",
       "    </tr>\n",
       "    <tr>\n",
       "      <th>25%</th>\n",
       "      <td>84.500000</td>\n",
       "      <td>-0.392000</td>\n",
       "    </tr>\n",
       "    <tr>\n",
       "      <th>50%</th>\n",
       "      <td>160.500000</td>\n",
       "      <td>-0.013000</td>\n",
       "    </tr>\n",
       "    <tr>\n",
       "      <th>75%</th>\n",
       "      <td>239.250000</td>\n",
       "      <td>0.380750</td>\n",
       "    </tr>\n",
       "    <tr>\n",
       "      <th>max</th>\n",
       "      <td>320.000000</td>\n",
       "      <td>4.007000</td>\n",
       "    </tr>\n",
       "  </tbody>\n",
       "</table>\n",
       "</div>"
      ],
      "text/plain": [
       "       Unnamed: 0   Inflation\n",
       "count  224.000000  224.000000\n",
       "mean   161.513393    0.019170\n",
       "std     91.840864    0.881863\n",
       "min      0.000000   -4.846000\n",
       "25%     84.500000   -0.392000\n",
       "50%    160.500000   -0.013000\n",
       "75%    239.250000    0.380750\n",
       "max    320.000000    4.007000"
      ]
     },
     "execution_count": 239,
     "metadata": {},
     "output_type": "execute_result"
    }
   ],
   "source": [
    "y_tr_y_uns.describe()"
   ]
  },
  {
   "cell_type": "code",
   "execution_count": 240,
   "id": "3e2219aa",
   "metadata": {},
   "outputs": [],
   "source": [
    "y_tr_y_uns = y_tr_y_uns.drop(['Unnamed: 0'], axis=1)"
   ]
  },
  {
   "cell_type": "code",
   "execution_count": 241,
   "id": "022a16df",
   "metadata": {},
   "outputs": [
    {
     "data": {
      "text/html": [
       "<div>\n",
       "<style scoped>\n",
       "    .dataframe tbody tr th:only-of-type {\n",
       "        vertical-align: middle;\n",
       "    }\n",
       "\n",
       "    .dataframe tbody tr th {\n",
       "        vertical-align: top;\n",
       "    }\n",
       "\n",
       "    .dataframe thead th {\n",
       "        text-align: right;\n",
       "    }\n",
       "</style>\n",
       "<table border=\"1\" class=\"dataframe\">\n",
       "  <thead>\n",
       "    <tr style=\"text-align: right;\">\n",
       "      <th></th>\n",
       "      <th>Unnamed: 0</th>\n",
       "      <th>WTI_SS_yun</th>\n",
       "      <th>Copper_SS_yun</th>\n",
       "      <th>Soybeans_SS_yun</th>\n",
       "      <th>Natural Gas_SS_yun</th>\n",
       "      <th>Heating Oil_SS_yun</th>\n",
       "      <th>Corn_SS_yun</th>\n",
       "      <th>Wheat_SS_yun</th>\n",
       "      <th>Cattle_SS_yun</th>\n",
       "      <th>Lean Hogs_SS_yun</th>\n",
       "      <th>Sugar_SS_yun</th>\n",
       "      <th>Lumber_SS_yun</th>\n",
       "      <th>PMI_SS_yun</th>\n",
       "      <th>USD Index_SS_yun</th>\n",
       "      <th>Wages CPI_LG</th>\n",
       "      <th>Capacity Utilization_LG</th>\n",
       "      <th>GDP_LG</th>\n",
       "      <th>M2 Velocity_LG</th>\n",
       "      <th>Initial Jobless Claims_LG</th>\n",
       "      <th>Unemployment Rate_LG</th>\n",
       "    </tr>\n",
       "  </thead>\n",
       "  <tbody>\n",
       "    <tr>\n",
       "      <th>count</th>\n",
       "      <td>97.000000</td>\n",
       "      <td>97.000000</td>\n",
       "      <td>97.000000</td>\n",
       "      <td>97.000000</td>\n",
       "      <td>97.000000</td>\n",
       "      <td>97.000000</td>\n",
       "      <td>97.000000</td>\n",
       "      <td>97.000000</td>\n",
       "      <td>97.000000</td>\n",
       "      <td>97.000000</td>\n",
       "      <td>97.000000</td>\n",
       "      <td>97.000000</td>\n",
       "      <td>97.000000</td>\n",
       "      <td>97.000000</td>\n",
       "      <td>97.000000</td>\n",
       "      <td>97.000000</td>\n",
       "      <td>97.000000</td>\n",
       "      <td>97.000000</td>\n",
       "      <td>97.000000</td>\n",
       "      <td>97.000000</td>\n",
       "    </tr>\n",
       "    <tr>\n",
       "      <th>mean</th>\n",
       "      <td>156.505155</td>\n",
       "      <td>-0.059347</td>\n",
       "      <td>-0.082202</td>\n",
       "      <td>0.073220</td>\n",
       "      <td>0.130749</td>\n",
       "      <td>0.035497</td>\n",
       "      <td>-0.012833</td>\n",
       "      <td>0.023797</td>\n",
       "      <td>-0.122300</td>\n",
       "      <td>-0.078476</td>\n",
       "      <td>-0.083010</td>\n",
       "      <td>-0.131335</td>\n",
       "      <td>-0.030235</td>\n",
       "      <td>0.051016</td>\n",
       "      <td>-0.046636</td>\n",
       "      <td>0.015733</td>\n",
       "      <td>-0.096086</td>\n",
       "      <td>-0.037073</td>\n",
       "      <td>-0.154516</td>\n",
       "      <td>-0.123960</td>\n",
       "    </tr>\n",
       "    <tr>\n",
       "      <th>std</th>\n",
       "      <td>95.397974</td>\n",
       "      <td>0.858036</td>\n",
       "      <td>0.905700</td>\n",
       "      <td>1.037702</td>\n",
       "      <td>1.112417</td>\n",
       "      <td>1.009757</td>\n",
       "      <td>0.979557</td>\n",
       "      <td>0.950832</td>\n",
       "      <td>1.048282</td>\n",
       "      <td>1.122470</td>\n",
       "      <td>0.872136</td>\n",
       "      <td>0.830178</td>\n",
       "      <td>0.924028</td>\n",
       "      <td>0.950501</td>\n",
       "      <td>0.834314</td>\n",
       "      <td>0.934702</td>\n",
       "      <td>0.721986</td>\n",
       "      <td>0.982118</td>\n",
       "      <td>1.102758</td>\n",
       "      <td>1.057012</td>\n",
       "    </tr>\n",
       "    <tr>\n",
       "      <th>min</th>\n",
       "      <td>3.000000</td>\n",
       "      <td>-2.348070</td>\n",
       "      <td>-2.285622</td>\n",
       "      <td>-2.059683</td>\n",
       "      <td>-1.940694</td>\n",
       "      <td>-2.087872</td>\n",
       "      <td>-2.172958</td>\n",
       "      <td>-2.194097</td>\n",
       "      <td>-2.970895</td>\n",
       "      <td>-2.465595</td>\n",
       "      <td>-2.097836</td>\n",
       "      <td>-1.836079</td>\n",
       "      <td>-1.775654</td>\n",
       "      <td>-1.998456</td>\n",
       "      <td>-2.162452</td>\n",
       "      <td>-2.823674</td>\n",
       "      <td>-2.321082</td>\n",
       "      <td>-3.212336</td>\n",
       "      <td>-4.316233</td>\n",
       "      <td>-2.458991</td>\n",
       "    </tr>\n",
       "    <tr>\n",
       "      <th>25%</th>\n",
       "      <td>76.000000</td>\n",
       "      <td>-0.557343</td>\n",
       "      <td>-0.574811</td>\n",
       "      <td>-0.556546</td>\n",
       "      <td>-0.691355</td>\n",
       "      <td>-0.701725</td>\n",
       "      <td>-0.744486</td>\n",
       "      <td>-0.571481</td>\n",
       "      <td>-0.585482</td>\n",
       "      <td>-0.769273</td>\n",
       "      <td>-0.681218</td>\n",
       "      <td>-0.715256</td>\n",
       "      <td>-0.838924</td>\n",
       "      <td>-0.759423</td>\n",
       "      <td>-0.438770</td>\n",
       "      <td>-0.597546</td>\n",
       "      <td>-0.466145</td>\n",
       "      <td>-0.443879</td>\n",
       "      <td>-0.512725</td>\n",
       "      <td>-0.647038</td>\n",
       "    </tr>\n",
       "    <tr>\n",
       "      <th>50%</th>\n",
       "      <td>158.000000</td>\n",
       "      <td>-0.126041</td>\n",
       "      <td>-0.227636</td>\n",
       "      <td>-0.085251</td>\n",
       "      <td>-0.099503</td>\n",
       "      <td>-0.102963</td>\n",
       "      <td>0.149608</td>\n",
       "      <td>-0.004860</td>\n",
       "      <td>-0.181181</td>\n",
       "      <td>-0.245535</td>\n",
       "      <td>-0.125970</td>\n",
       "      <td>-0.238628</td>\n",
       "      <td>0.031684</td>\n",
       "      <td>0.074921</td>\n",
       "      <td>-0.016031</td>\n",
       "      <td>0.038704</td>\n",
       "      <td>-0.172040</td>\n",
       "      <td>0.036058</td>\n",
       "      <td>-0.028401</td>\n",
       "      <td>-0.087277</td>\n",
       "    </tr>\n",
       "    <tr>\n",
       "      <th>75%</th>\n",
       "      <td>244.000000</td>\n",
       "      <td>0.464101</td>\n",
       "      <td>0.502253</td>\n",
       "      <td>0.625169</td>\n",
       "      <td>1.010831</td>\n",
       "      <td>0.690035</td>\n",
       "      <td>0.838495</td>\n",
       "      <td>0.616294</td>\n",
       "      <td>0.426255</td>\n",
       "      <td>0.524656</td>\n",
       "      <td>0.264837</td>\n",
       "      <td>0.475260</td>\n",
       "      <td>0.549640</td>\n",
       "      <td>0.452498</td>\n",
       "      <td>0.302861</td>\n",
       "      <td>0.398966</td>\n",
       "      <td>0.385941</td>\n",
       "      <td>0.376103</td>\n",
       "      <td>0.410811</td>\n",
       "      <td>0.433148</td>\n",
       "    </tr>\n",
       "    <tr>\n",
       "      <th>max</th>\n",
       "      <td>318.000000</td>\n",
       "      <td>2.468353</td>\n",
       "      <td>2.344015</td>\n",
       "      <td>4.017980</td>\n",
       "      <td>3.233036</td>\n",
       "      <td>2.182962</td>\n",
       "      <td>1.781581</td>\n",
       "      <td>2.403488</td>\n",
       "      <td>2.341499</td>\n",
       "      <td>2.811004</td>\n",
       "      <td>2.325615</td>\n",
       "      <td>1.939893</td>\n",
       "      <td>2.434120</td>\n",
       "      <td>2.526111</td>\n",
       "      <td>3.201650</td>\n",
       "      <td>2.950769</td>\n",
       "      <td>1.577467</td>\n",
       "      <td>3.277646</td>\n",
       "      <td>2.657603</td>\n",
       "      <td>2.422816</td>\n",
       "    </tr>\n",
       "  </tbody>\n",
       "</table>\n",
       "</div>"
      ],
      "text/plain": [
       "       Unnamed: 0  WTI_SS_yun  Copper_SS_yun  Soybeans_SS_yun  \\\n",
       "count   97.000000   97.000000      97.000000        97.000000   \n",
       "mean   156.505155   -0.059347      -0.082202         0.073220   \n",
       "std     95.397974    0.858036       0.905700         1.037702   \n",
       "min      3.000000   -2.348070      -2.285622        -2.059683   \n",
       "25%     76.000000   -0.557343      -0.574811        -0.556546   \n",
       "50%    158.000000   -0.126041      -0.227636        -0.085251   \n",
       "75%    244.000000    0.464101       0.502253         0.625169   \n",
       "max    318.000000    2.468353       2.344015         4.017980   \n",
       "\n",
       "       Natural Gas_SS_yun  Heating Oil_SS_yun  Corn_SS_yun  Wheat_SS_yun  \\\n",
       "count           97.000000           97.000000    97.000000     97.000000   \n",
       "mean             0.130749            0.035497    -0.012833      0.023797   \n",
       "std              1.112417            1.009757     0.979557      0.950832   \n",
       "min             -1.940694           -2.087872    -2.172958     -2.194097   \n",
       "25%             -0.691355           -0.701725    -0.744486     -0.571481   \n",
       "50%             -0.099503           -0.102963     0.149608     -0.004860   \n",
       "75%              1.010831            0.690035     0.838495      0.616294   \n",
       "max              3.233036            2.182962     1.781581      2.403488   \n",
       "\n",
       "       Cattle_SS_yun  Lean Hogs_SS_yun  Sugar_SS_yun  Lumber_SS_yun  \\\n",
       "count      97.000000         97.000000     97.000000      97.000000   \n",
       "mean       -0.122300         -0.078476     -0.083010      -0.131335   \n",
       "std         1.048282          1.122470      0.872136       0.830178   \n",
       "min        -2.970895         -2.465595     -2.097836      -1.836079   \n",
       "25%        -0.585482         -0.769273     -0.681218      -0.715256   \n",
       "50%        -0.181181         -0.245535     -0.125970      -0.238628   \n",
       "75%         0.426255          0.524656      0.264837       0.475260   \n",
       "max         2.341499          2.811004      2.325615       1.939893   \n",
       "\n",
       "       PMI_SS_yun  USD Index_SS_yun  Wages CPI_LG  Capacity Utilization_LG  \\\n",
       "count   97.000000         97.000000     97.000000                97.000000   \n",
       "mean    -0.030235          0.051016     -0.046636                 0.015733   \n",
       "std      0.924028          0.950501      0.834314                 0.934702   \n",
       "min     -1.775654         -1.998456     -2.162452                -2.823674   \n",
       "25%     -0.838924         -0.759423     -0.438770                -0.597546   \n",
       "50%      0.031684          0.074921     -0.016031                 0.038704   \n",
       "75%      0.549640          0.452498      0.302861                 0.398966   \n",
       "max      2.434120          2.526111      3.201650                 2.950769   \n",
       "\n",
       "          GDP_LG  M2 Velocity_LG  Initial Jobless Claims_LG  \\\n",
       "count  97.000000       97.000000                  97.000000   \n",
       "mean   -0.096086       -0.037073                  -0.154516   \n",
       "std     0.721986        0.982118                   1.102758   \n",
       "min    -2.321082       -3.212336                  -4.316233   \n",
       "25%    -0.466145       -0.443879                  -0.512725   \n",
       "50%    -0.172040        0.036058                  -0.028401   \n",
       "75%     0.385941        0.376103                   0.410811   \n",
       "max     1.577467        3.277646                   2.657603   \n",
       "\n",
       "       Unemployment Rate_LG  \n",
       "count             97.000000  \n",
       "mean              -0.123960  \n",
       "std                1.057012  \n",
       "min               -2.458991  \n",
       "25%               -0.647038  \n",
       "50%               -0.087277  \n",
       "75%                0.433148  \n",
       "max                2.422816  "
      ]
     },
     "execution_count": 241,
     "metadata": {},
     "output_type": "execute_result"
    }
   ],
   "source": [
    "X_te_SS_LG.describe()"
   ]
  },
  {
   "cell_type": "code",
   "execution_count": 242,
   "id": "40cd33f5",
   "metadata": {},
   "outputs": [],
   "source": [
    "X_te_SS_LG = X_te_SS_LG.drop(['Unnamed: 0'], axis=1)"
   ]
  },
  {
   "cell_type": "code",
   "execution_count": 243,
   "id": "ba284e57",
   "metadata": {},
   "outputs": [
    {
     "data": {
      "text/html": [
       "<div>\n",
       "<style scoped>\n",
       "    .dataframe tbody tr th:only-of-type {\n",
       "        vertical-align: middle;\n",
       "    }\n",
       "\n",
       "    .dataframe tbody tr th {\n",
       "        vertical-align: top;\n",
       "    }\n",
       "\n",
       "    .dataframe thead th {\n",
       "        text-align: right;\n",
       "    }\n",
       "</style>\n",
       "<table border=\"1\" class=\"dataframe\">\n",
       "  <thead>\n",
       "    <tr style=\"text-align: right;\">\n",
       "      <th></th>\n",
       "      <th>Unnamed: 0</th>\n",
       "      <th>Inflation</th>\n",
       "    </tr>\n",
       "  </thead>\n",
       "  <tbody>\n",
       "    <tr>\n",
       "      <th>count</th>\n",
       "      <td>97.000000</td>\n",
       "      <td>97.000000</td>\n",
       "    </tr>\n",
       "    <tr>\n",
       "      <th>mean</th>\n",
       "      <td>156.505155</td>\n",
       "      <td>-0.026856</td>\n",
       "    </tr>\n",
       "    <tr>\n",
       "      <th>std</th>\n",
       "      <td>95.397974</td>\n",
       "      <td>0.852462</td>\n",
       "    </tr>\n",
       "    <tr>\n",
       "      <th>min</th>\n",
       "      <td>3.000000</td>\n",
       "      <td>-2.840000</td>\n",
       "    </tr>\n",
       "    <tr>\n",
       "      <th>25%</th>\n",
       "      <td>76.000000</td>\n",
       "      <td>-0.363000</td>\n",
       "    </tr>\n",
       "    <tr>\n",
       "      <th>50%</th>\n",
       "      <td>158.000000</td>\n",
       "      <td>-0.028000</td>\n",
       "    </tr>\n",
       "    <tr>\n",
       "      <th>75%</th>\n",
       "      <td>244.000000</td>\n",
       "      <td>0.276000</td>\n",
       "    </tr>\n",
       "    <tr>\n",
       "      <th>max</th>\n",
       "      <td>318.000000</td>\n",
       "      <td>3.322000</td>\n",
       "    </tr>\n",
       "  </tbody>\n",
       "</table>\n",
       "</div>"
      ],
      "text/plain": [
       "       Unnamed: 0  Inflation\n",
       "count   97.000000  97.000000\n",
       "mean   156.505155  -0.026856\n",
       "std     95.397974   0.852462\n",
       "min      3.000000  -2.840000\n",
       "25%     76.000000  -0.363000\n",
       "50%    158.000000  -0.028000\n",
       "75%    244.000000   0.276000\n",
       "max    318.000000   3.322000"
      ]
     },
     "execution_count": 243,
     "metadata": {},
     "output_type": "execute_result"
    }
   ],
   "source": [
    "y_te_y_uns.describe()"
   ]
  },
  {
   "cell_type": "code",
   "execution_count": 244,
   "id": "f7f5b763",
   "metadata": {},
   "outputs": [],
   "source": [
    "y_te_y_uns = y_te_y_uns.drop(['Unnamed: 0'], axis=1)"
   ]
  },
  {
   "cell_type": "markdown",
   "id": "92fc4cce",
   "metadata": {},
   "source": [
    "They all look correct; we will proceed to modelling."
   ]
  },
  {
   "cell_type": "markdown",
   "id": "749ec91b",
   "metadata": {},
   "source": [
    "## 5.4 Modelling<a id='modeling'></a>"
   ]
  },
  {
   "cell_type": "markdown",
   "id": "e0115006",
   "metadata": {},
   "source": [
    "We will now proceed modeling with all five (5) scaling approaches; notably the below:\n",
    "   * StandardScaler ( `_SS` )\n",
    "      * `X` & `y`\n",
    "   * StandardScaler ( `_SS_y_uns` )\n",
    "      * `X` only\n",
    "   * Log Transformation ( `_LG` )\n",
    "      * `X` & `y`\n",
    "   * Log Transformation ( `_LG_y_uns` )\n",
    "      * `X` only   \n",
    "   * Combination of `SS` & `LG` ( `_SS_LG` )\n",
    "      * `X` only\n",
    "\n",
    "The modeling approach is described below:\n",
    "   * GridSearch\n",
    "   * RandomForest\n",
    "   * Hyperparameter search using GridSearchCV\n",
    "   * Final Outcome(s)\n"
   ]
  },
  {
   "cell_type": "markdown",
   "id": "e86650a8",
   "metadata": {},
   "source": [
    "**5.4.1 X & y ( `_SS` )**<a id='ss_both'></a>"
   ]
  },
  {
   "cell_type": "code",
   "execution_count": 245,
   "id": "8d5f3806",
   "metadata": {},
   "outputs": [],
   "source": [
    "pipe = make_pipeline(\n",
    "    SimpleImputer(strategy='median'), \n",
    "    StandardScaler(),\n",
    "    SelectKBest(f_regression),\n",
    "    LinearRegression()\n",
    ")"
   ]
  },
  {
   "cell_type": "code",
   "execution_count": 246,
   "id": "78f68baf",
   "metadata": {},
   "outputs": [],
   "source": [
    "k_SS = [k_SS+1 for k_SS in range(len(X_train_SS.columns))]\n",
    "grid_params_SS = {'selectkbest__k': k_SS}"
   ]
  },
  {
   "cell_type": "code",
   "execution_count": 247,
   "id": "4271b487",
   "metadata": {},
   "outputs": [],
   "source": [
    "lr_grid_cv_SS = GridSearchCV(pipe, param_grid=grid_params_SS, cv=5, n_jobs=-1)"
   ]
  },
  {
   "cell_type": "code",
   "execution_count": 248,
   "id": "89810cf4",
   "metadata": {},
   "outputs": [
    {
     "name": "stderr",
     "output_type": "stream",
     "text": [
      "C:\\Users\\rands\\anaconda3\\lib\\site-packages\\sklearn\\utils\\validation.py:63: DataConversionWarning: A column-vector y was passed when a 1d array was expected. Please change the shape of y to (n_samples, ), for example using ravel().\n",
      "  return f(*args, **kwargs)\n"
     ]
    },
    {
     "data": {
      "text/plain": [
       "GridSearchCV(cv=5,\n",
       "             estimator=Pipeline(steps=[('simpleimputer',\n",
       "                                        SimpleImputer(strategy='median')),\n",
       "                                       ('standardscaler', StandardScaler()),\n",
       "                                       ('selectkbest',\n",
       "                                        SelectKBest(score_func=<function f_regression at 0x0000011D34432F70>)),\n",
       "                                       ('linearregression',\n",
       "                                        LinearRegression())]),\n",
       "             n_jobs=-1,\n",
       "             param_grid={'selectkbest__k': [1, 2, 3, 4, 5, 6, 7, 8, 9, 10, 11,\n",
       "                                            12, 13, 14, 15, 16, 17, 18, 19]})"
      ]
     },
     "execution_count": 248,
     "metadata": {},
     "output_type": "execute_result"
    }
   ],
   "source": [
    "lr_grid_cv_SS.fit(X_train_SS, y_train_SS)"
   ]
  },
  {
   "cell_type": "code",
   "execution_count": 249,
   "id": "cf40557b",
   "metadata": {},
   "outputs": [],
   "source": [
    "score_mean_SS = lr_grid_cv_SS.cv_results_['mean_test_score']\n",
    "score_std_SS = lr_grid_cv_SS.cv_results_['std_test_score']\n",
    "cv_k_SS = [k_SS for k_SS in lr_grid_cv_SS.cv_results_['param_selectkbest__k']]"
   ]
  },
  {
   "cell_type": "code",
   "execution_count": 250,
   "id": "c963ddcc",
   "metadata": {},
   "outputs": [
    {
     "data": {
      "text/plain": [
       "{'selectkbest__k': 11}"
      ]
     },
     "execution_count": 250,
     "metadata": {},
     "output_type": "execute_result"
    }
   ],
   "source": [
    "lr_grid_cv_SS.best_params_"
   ]
  },
  {
   "cell_type": "code",
   "execution_count": 251,
   "id": "8a9f610f",
   "metadata": {},
   "outputs": [
    {
     "data": {
      "image/png": "[encoded data removed]",
      "text/plain": [
       "<Figure size 720x360 with 1 Axes>"
      ]
     },
     "metadata": {
      "needs_background": "light"
     },
     "output_type": "display_data"
    }
   ],
   "source": [
    "best_k_SS = lr_grid_cv_SS.best_params_['selectkbest__k']\n",
    "plt.subplots(figsize=(10, 5))\n",
    "plt.errorbar(cv_k_SS, score_mean_SS, yerr=score_std_SS)\n",
    "plt.axvline(x=best_k_SS, c='r', ls='--', alpha=.5)\n",
    "plt.xlabel('k')\n",
    "plt.ylabel('SS ( X & y )  |  CV score (r-squared)')\n",
    "plt.title('SS ( X & y )  |  Pipeline mean CV score (error bars +/- 1sd)');"
   ]
  },
  {
   "cell_type": "code",
   "execution_count": null,
   "id": "67537733",
   "metadata": {},
   "outputs": [],
   "source": []
  },
  {
   "cell_type": "markdown",
   "id": "bc4ff0e6",
   "metadata": {},
   "source": [
    "**Fit & assess performance using cross-validation**"
   ]
  },
  {
   "cell_type": "code",
   "execution_count": 252,
   "id": "b238ab2a",
   "metadata": {},
   "outputs": [],
   "source": [
    "RF_pipe = make_pipeline(\n",
    "    SimpleImputer(strategy='median'),\n",
    "    StandardScaler(),\n",
    "    RandomForestRegressor(random_state=47)\n",
    ")"
   ]
  },
  {
   "cell_type": "code",
   "execution_count": 253,
   "id": "44f3f185",
   "metadata": {},
   "outputs": [
    {
     "name": "stderr",
     "output_type": "stream",
     "text": [
      "C:\\Users\\rands\\anaconda3\\lib\\site-packages\\sklearn\\pipeline.py:346: DataConversionWarning: A column-vector y was passed when a 1d array was expected. Please change the shape of y to (n_samples,), for example using ravel().\n",
      "  self._final_estimator.fit(Xt, y, **fit_params_last_step)\n",
      "C:\\Users\\rands\\anaconda3\\lib\\site-packages\\sklearn\\pipeline.py:346: DataConversionWarning: A column-vector y was passed when a 1d array was expected. Please change the shape of y to (n_samples,), for example using ravel().\n",
      "  self._final_estimator.fit(Xt, y, **fit_params_last_step)\n",
      "C:\\Users\\rands\\anaconda3\\lib\\site-packages\\sklearn\\pipeline.py:346: DataConversionWarning: A column-vector y was passed when a 1d array was expected. Please change the shape of y to (n_samples,), for example using ravel().\n",
      "  self._final_estimator.fit(Xt, y, **fit_params_last_step)\n",
      "C:\\Users\\rands\\anaconda3\\lib\\site-packages\\sklearn\\pipeline.py:346: DataConversionWarning: A column-vector y was passed when a 1d array was expected. Please change the shape of y to (n_samples,), for example using ravel().\n",
      "  self._final_estimator.fit(Xt, y, **fit_params_last_step)\n",
      "C:\\Users\\rands\\anaconda3\\lib\\site-packages\\sklearn\\pipeline.py:346: DataConversionWarning: A column-vector y was passed when a 1d array was expected. Please change the shape of y to (n_samples,), for example using ravel().\n",
      "  self._final_estimator.fit(Xt, y, **fit_params_last_step)\n"
     ]
    }
   ],
   "source": [
    "rf_default_cv_results = cross_validate(RF_pipe, X_train_SS, y_train_SS, cv=5)"
   ]
  },
  {
   "cell_type": "code",
   "execution_count": 254,
   "id": "d50bc6e0",
   "metadata": {},
   "outputs": [
    {
     "data": {
      "text/plain": [
       "array([0.29018556, 0.35654933, 0.43844738, 0.52336298, 0.40502397])"
      ]
     },
     "execution_count": 254,
     "metadata": {},
     "output_type": "execute_result"
    }
   ],
   "source": [
    "rf_cv_scores = rf_default_cv_results['test_score']\n",
    "rf_cv_scores"
   ]
  },
  {
   "cell_type": "code",
   "execution_count": 255,
   "id": "646abec7",
   "metadata": {},
   "outputs": [
    {
     "data": {
      "text/plain": [
       "(0.4027138463982789, 0.07827159605642368)"
      ]
     },
     "execution_count": 255,
     "metadata": {},
     "output_type": "execute_result"
    }
   ],
   "source": [
    "np.mean(rf_cv_scores), np.std(rf_cv_scores)"
   ]
  },
  {
   "cell_type": "markdown",
   "id": "b5136ecd",
   "metadata": {},
   "source": [
    "**Hyperparameter search using GridSearchCV**"
   ]
  },
  {
   "cell_type": "code",
   "execution_count": 256,
   "id": "64ff6e7e",
   "metadata": {},
   "outputs": [
    {
     "data": {
      "text/plain": [
       "{'randomforestregressor__n_estimators': [10,\n",
       "  12,\n",
       "  16,\n",
       "  20,\n",
       "  26,\n",
       "  33,\n",
       "  42,\n",
       "  54,\n",
       "  69,\n",
       "  88,\n",
       "  112,\n",
       "  143,\n",
       "  183,\n",
       "  233,\n",
       "  297,\n",
       "  379,\n",
       "  483,\n",
       "  615,\n",
       "  784,\n",
       "  1000],\n",
       " 'standardscaler': [StandardScaler(), None],\n",
       " 'simpleimputer__strategy': ['mean', 'median']}"
      ]
     },
     "execution_count": 256,
     "metadata": {},
     "output_type": "execute_result"
    }
   ],
   "source": [
    "n_est = [int(n) for n in np.logspace(start=1, stop=3, num=20)]\n",
    "grid_params = {\n",
    "        'randomforestregressor__n_estimators': n_est,\n",
    "        'standardscaler': [StandardScaler(), None],\n",
    "        'simpleimputer__strategy': ['mean', 'median']\n",
    "}\n",
    "grid_params"
   ]
  },
  {
   "cell_type": "code",
   "execution_count": 257,
   "id": "0e352d08",
   "metadata": {},
   "outputs": [],
   "source": [
    "rf_grid_cv = GridSearchCV(RF_pipe, param_grid=grid_params, cv=5, n_jobs=-1)"
   ]
  },
  {
   "cell_type": "code",
   "execution_count": 258,
   "id": "363dfb01",
   "metadata": {},
   "outputs": [
    {
     "name": "stderr",
     "output_type": "stream",
     "text": [
      "C:\\Users\\rands\\anaconda3\\lib\\site-packages\\sklearn\\pipeline.py:346: DataConversionWarning: A column-vector y was passed when a 1d array was expected. Please change the shape of y to (n_samples,), for example using ravel().\n",
      "  self._final_estimator.fit(Xt, y, **fit_params_last_step)\n"
     ]
    },
    {
     "data": {
      "text/plain": [
       "GridSearchCV(cv=5,\n",
       "             estimator=Pipeline(steps=[('simpleimputer',\n",
       "                                        SimpleImputer(strategy='median')),\n",
       "                                       ('standardscaler', StandardScaler()),\n",
       "                                       ('randomforestregressor',\n",
       "                                        RandomForestRegressor(random_state=47))]),\n",
       "             n_jobs=-1,\n",
       "             param_grid={'randomforestregressor__n_estimators': [10, 12, 16, 20,\n",
       "                                                                 26, 33, 42, 54,\n",
       "                                                                 69, 88, 112,\n",
       "                                                                 143, 183, 233,\n",
       "                                                                 297, 379, 483,\n",
       "                                                                 615, 784,\n",
       "                                                                 1000],\n",
       "                         'simpleimputer__strategy': ['mean', 'median'],\n",
       "                         'standardscaler': [StandardScaler(), None]})"
      ]
     },
     "execution_count": 258,
     "metadata": {},
     "output_type": "execute_result"
    }
   ],
   "source": [
    "rf_grid_cv.fit(X_train_SS, y_train_SS)"
   ]
  },
  {
   "cell_type": "code",
   "execution_count": 259,
   "id": "0db7c893",
   "metadata": {},
   "outputs": [
    {
     "data": {
      "text/plain": [
       "{'randomforestregressor__n_estimators': 1000,\n",
       " 'simpleimputer__strategy': 'mean',\n",
       " 'standardscaler': None}"
      ]
     },
     "execution_count": 259,
     "metadata": {},
     "output_type": "execute_result"
    }
   ],
   "source": [
    "rf_grid_cv.best_params_"
   ]
  },
  {
   "cell_type": "code",
   "execution_count": 260,
   "id": "8b3ee503",
   "metadata": {},
   "outputs": [
    {
     "name": "stderr",
     "output_type": "stream",
     "text": [
      "C:\\Users\\rands\\anaconda3\\lib\\site-packages\\sklearn\\pipeline.py:346: DataConversionWarning: A column-vector y was passed when a 1d array was expected. Please change the shape of y to (n_samples,), for example using ravel().\n",
      "  self._final_estimator.fit(Xt, y, **fit_params_last_step)\n",
      "C:\\Users\\rands\\anaconda3\\lib\\site-packages\\sklearn\\pipeline.py:346: DataConversionWarning: A column-vector y was passed when a 1d array was expected. Please change the shape of y to (n_samples,), for example using ravel().\n",
      "  self._final_estimator.fit(Xt, y, **fit_params_last_step)\n",
      "C:\\Users\\rands\\anaconda3\\lib\\site-packages\\sklearn\\pipeline.py:346: DataConversionWarning: A column-vector y was passed when a 1d array was expected. Please change the shape of y to (n_samples,), for example using ravel().\n",
      "  self._final_estimator.fit(Xt, y, **fit_params_last_step)\n",
      "C:\\Users\\rands\\anaconda3\\lib\\site-packages\\sklearn\\pipeline.py:346: DataConversionWarning: A column-vector y was passed when a 1d array was expected. Please change the shape of y to (n_samples,), for example using ravel().\n",
      "  self._final_estimator.fit(Xt, y, **fit_params_last_step)\n",
      "C:\\Users\\rands\\anaconda3\\lib\\site-packages\\sklearn\\pipeline.py:346: DataConversionWarning: A column-vector y was passed when a 1d array was expected. Please change the shape of y to (n_samples,), for example using ravel().\n",
      "  self._final_estimator.fit(Xt, y, **fit_params_last_step)\n"
     ]
    },
    {
     "data": {
      "text/plain": [
       "array([0.33212919, 0.37091815, 0.43599197, 0.576558  , 0.38570605])"
      ]
     },
     "execution_count": 260,
     "metadata": {},
     "output_type": "execute_result"
    }
   ],
   "source": [
    "rf_best_cv_results = cross_validate(rf_grid_cv.best_estimator_, X_train_SS, y_train_SS, cv=5)\n",
    "rf_best_scores = rf_best_cv_results['test_score']\n",
    "rf_best_scores"
   ]
  },
  {
   "cell_type": "code",
   "execution_count": 261,
   "id": "3ea29968",
   "metadata": {},
   "outputs": [
    {
     "data": {
      "text/plain": [
       "(0.4202606696085856, 0.08493785018316498)"
      ]
     },
     "execution_count": 261,
     "metadata": {},
     "output_type": "execute_result"
    }
   ],
   "source": [
    "np.mean(rf_best_scores), np.std(rf_best_scores)"
   ]
  },
  {
   "cell_type": "code",
   "execution_count": 262,
   "id": "f73325ea",
   "metadata": {},
   "outputs": [
    {
     "data": {
      "image/png": "[encoded data removed]",
      "text/plain": [
       "<Figure size 720x360 with 1 Axes>"
      ]
     },
     "metadata": {
      "needs_background": "light"
     },
     "output_type": "display_data"
    }
   ],
   "source": [
    "plt.subplots(figsize=(10, 5))\n",
    "imps = rf_grid_cv.best_estimator_.named_steps.randomforestregressor.feature_importances_\n",
    "rf_feat_imps = pd.Series(imps, index=X_train_SS.columns).sort_values(ascending=False)\n",
    "rf_feat_imps.plot(kind='bar')\n",
    "plt.xlabel('Variables')\n",
    "plt.ylabel('SS ( X & y )  |  Importance')\n",
    "plt.title('Best random forest regressor of variable importances');"
   ]
  },
  {
   "cell_type": "markdown",
   "id": "8111258a",
   "metadata": {},
   "source": [
    "**5.4.2 X only ( `_SS_y_uns` )**<a id='ss_y_un'></a>"
   ]
  },
  {
   "cell_type": "code",
   "execution_count": 263,
   "id": "4bb1b2d8",
   "metadata": {},
   "outputs": [],
   "source": [
    "pipe_SS_y_uns = make_pipeline(\n",
    "    SimpleImputer(strategy='median'), \n",
    "    StandardScaler(),\n",
    "    SelectKBest(f_regression),\n",
    "    LinearRegression()\n",
    ")"
   ]
  },
  {
   "cell_type": "code",
   "execution_count": 264,
   "id": "24de06b8",
   "metadata": {},
   "outputs": [],
   "source": [
    "k_SS_y_uns = [k_SS_y_uns+1 for k_SS_y_uns in range(len(X_train_SS_y_uns.columns))]\n",
    "grid_params_SS_y_uns = {'selectkbest__k': k_SS_y_uns}"
   ]
  },
  {
   "cell_type": "code",
   "execution_count": 265,
   "id": "dd3b9689",
   "metadata": {},
   "outputs": [],
   "source": [
    "lr_grid_cv_SS_y_uns = GridSearchCV(pipe_SS_y_uns, param_grid=grid_params_SS_y_uns, cv=5, n_jobs=-1)"
   ]
  },
  {
   "cell_type": "code",
   "execution_count": 266,
   "id": "4e393d5e",
   "metadata": {},
   "outputs": [
    {
     "name": "stderr",
     "output_type": "stream",
     "text": [
      "C:\\Users\\rands\\anaconda3\\lib\\site-packages\\sklearn\\utils\\validation.py:63: DataConversionWarning: A column-vector y was passed when a 1d array was expected. Please change the shape of y to (n_samples, ), for example using ravel().\n",
      "  return f(*args, **kwargs)\n"
     ]
    },
    {
     "data": {
      "text/plain": [
       "GridSearchCV(cv=5,\n",
       "             estimator=Pipeline(steps=[('simpleimputer',\n",
       "                                        SimpleImputer(strategy='median')),\n",
       "                                       ('standardscaler', StandardScaler()),\n",
       "                                       ('selectkbest',\n",
       "                                        SelectKBest(score_func=<function f_regression at 0x0000011D34432F70>)),\n",
       "                                       ('linearregression',\n",
       "                                        LinearRegression())]),\n",
       "             n_jobs=-1,\n",
       "             param_grid={'selectkbest__k': [1, 2, 3, 4, 5, 6, 7, 8, 9, 10, 11,\n",
       "                                            12, 13, 14, 15, 16, 17, 18, 19]})"
      ]
     },
     "execution_count": 266,
     "metadata": {},
     "output_type": "execute_result"
    }
   ],
   "source": [
    "lr_grid_cv_SS_y_uns.fit(X_train_SS_y_uns, y_train_SS_y_uns)"
   ]
  },
  {
   "cell_type": "code",
   "execution_count": 267,
   "id": "1ec37ce4",
   "metadata": {},
   "outputs": [],
   "source": [
    "score_mean_SS_y_uns = lr_grid_cv_SS_y_uns.cv_results_['mean_test_score']\n",
    "score_std_SS_y_uns = lr_grid_cv_SS_y_uns.cv_results_['std_test_score']\n",
    "cv_k_SS_y_uns = [k_SS_y_uns for k_SS_y_uns in lr_grid_cv_SS_y_uns.cv_results_['param_selectkbest__k']]"
   ]
  },
  {
   "cell_type": "code",
   "execution_count": 268,
   "id": "34b7f8eb",
   "metadata": {},
   "outputs": [
    {
     "data": {
      "text/plain": [
       "{'selectkbest__k': 11}"
      ]
     },
     "execution_count": 268,
     "metadata": {},
     "output_type": "execute_result"
    }
   ],
   "source": [
    "lr_grid_cv_SS_y_uns.best_params_"
   ]
  },
  {
   "cell_type": "code",
   "execution_count": 269,
   "id": "73015f3d",
   "metadata": {},
   "outputs": [
    {
     "data": {
      "image/png": "[encoded data removed]",
      "text/plain": [
       "<Figure size 720x360 with 1 Axes>"
      ]
     },
     "metadata": {
      "needs_background": "light"
     },
     "output_type": "display_data"
    }
   ],
   "source": [
    "best_k_SS_y_uns = lr_grid_cv_SS_y_uns.best_params_['selectkbest__k']\n",
    "plt.subplots(figsize=(10, 5))\n",
    "plt.errorbar(cv_k_SS_y_uns, score_mean_SS_y_uns, yerr=score_std_SS_y_uns)\n",
    "plt.axvline(x=best_k_SS_y_uns, c='r', ls='--', alpha=.5)\n",
    "plt.xlabel('k')\n",
    "plt.ylabel('SS ( X only )  |  CV score (r-squared)')\n",
    "plt.title('SS ( X only )  |  Pipeline mean CV score (error bars +/- 1sd)');"
   ]
  },
  {
   "cell_type": "code",
   "execution_count": 270,
   "id": "49991360",
   "metadata": {},
   "outputs": [],
   "source": [
    "RF_pipe_y_uns = make_pipeline(\n",
    "    SimpleImputer(strategy='median'),\n",
    "    StandardScaler(),\n",
    "    RandomForestRegressor(random_state=47)\n",
    ")"
   ]
  },
  {
   "cell_type": "markdown",
   "id": "f8619607",
   "metadata": {},
   "source": [
    "**Fit & assess performance using cross-validation**"
   ]
  },
  {
   "cell_type": "code",
   "execution_count": 271,
   "id": "f956aca3",
   "metadata": {},
   "outputs": [
    {
     "name": "stderr",
     "output_type": "stream",
     "text": [
      "C:\\Users\\rands\\anaconda3\\lib\\site-packages\\sklearn\\pipeline.py:346: DataConversionWarning: A column-vector y was passed when a 1d array was expected. Please change the shape of y to (n_samples,), for example using ravel().\n",
      "  self._final_estimator.fit(Xt, y, **fit_params_last_step)\n",
      "C:\\Users\\rands\\anaconda3\\lib\\site-packages\\sklearn\\pipeline.py:346: DataConversionWarning: A column-vector y was passed when a 1d array was expected. Please change the shape of y to (n_samples,), for example using ravel().\n",
      "  self._final_estimator.fit(Xt, y, **fit_params_last_step)\n",
      "C:\\Users\\rands\\anaconda3\\lib\\site-packages\\sklearn\\pipeline.py:346: DataConversionWarning: A column-vector y was passed when a 1d array was expected. Please change the shape of y to (n_samples,), for example using ravel().\n",
      "  self._final_estimator.fit(Xt, y, **fit_params_last_step)\n",
      "C:\\Users\\rands\\anaconda3\\lib\\site-packages\\sklearn\\pipeline.py:346: DataConversionWarning: A column-vector y was passed when a 1d array was expected. Please change the shape of y to (n_samples,), for example using ravel().\n",
      "  self._final_estimator.fit(Xt, y, **fit_params_last_step)\n",
      "C:\\Users\\rands\\anaconda3\\lib\\site-packages\\sklearn\\pipeline.py:346: DataConversionWarning: A column-vector y was passed when a 1d array was expected. Please change the shape of y to (n_samples,), for example using ravel().\n",
      "  self._final_estimator.fit(Xt, y, **fit_params_last_step)\n"
     ]
    }
   ],
   "source": [
    "rf_default_cv_results_y_uns = cross_validate(RF_pipe_y_uns, X_train_SS_y_uns, y_train_SS_y_uns, cv=5)"
   ]
  },
  {
   "cell_type": "code",
   "execution_count": 272,
   "id": "0102bdd2",
   "metadata": {},
   "outputs": [
    {
     "data": {
      "text/plain": [
       "array([0.28148676, 0.38588461, 0.45127977, 0.54533618, 0.39533084])"
      ]
     },
     "execution_count": 272,
     "metadata": {},
     "output_type": "execute_result"
    }
   ],
   "source": [
    "rf_cv_scores_y_uns = rf_default_cv_results_y_uns['test_score']\n",
    "rf_cv_scores_y_uns"
   ]
  },
  {
   "cell_type": "code",
   "execution_count": 273,
   "id": "83fbefb8",
   "metadata": {},
   "outputs": [
    {
     "data": {
      "text/plain": [
       "(0.41186363178845464, 0.08638856766395665)"
      ]
     },
     "execution_count": 273,
     "metadata": {},
     "output_type": "execute_result"
    }
   ],
   "source": [
    "np.mean(rf_cv_scores_y_uns), np.std(rf_cv_scores_y_uns)"
   ]
  },
  {
   "cell_type": "markdown",
   "id": "1529fe24",
   "metadata": {},
   "source": [
    "**Hyperparameter search using GridSearchCV**"
   ]
  },
  {
   "cell_type": "code",
   "execution_count": 274,
   "id": "a0508a22",
   "metadata": {},
   "outputs": [
    {
     "data": {
      "text/plain": [
       "{'randomforestregressor__n_estimators': [10,\n",
       "  12,\n",
       "  16,\n",
       "  20,\n",
       "  26,\n",
       "  33,\n",
       "  42,\n",
       "  54,\n",
       "  69,\n",
       "  88,\n",
       "  112,\n",
       "  143,\n",
       "  183,\n",
       "  233,\n",
       "  297,\n",
       "  379,\n",
       "  483,\n",
       "  615,\n",
       "  784,\n",
       "  1000],\n",
       " 'standardscaler': [StandardScaler(), None],\n",
       " 'simpleimputer__strategy': ['mean', 'median']}"
      ]
     },
     "execution_count": 274,
     "metadata": {},
     "output_type": "execute_result"
    }
   ],
   "source": [
    "n_est_y_uns = [int(n) for n in np.logspace(start=1, stop=3, num=20)]\n",
    "grid_params_y_uns = {\n",
    "        'randomforestregressor__n_estimators': n_est,\n",
    "        'standardscaler': [StandardScaler(), None],\n",
    "        'simpleimputer__strategy': ['mean', 'median']\n",
    "}\n",
    "grid_params_y_uns"
   ]
  },
  {
   "cell_type": "code",
   "execution_count": 275,
   "id": "471ed351",
   "metadata": {},
   "outputs": [],
   "source": [
    "rf_grid_cv_y_uns = GridSearchCV(RF_pipe_y_uns, param_grid=grid_params_y_uns, cv=5, n_jobs=-1)"
   ]
  },
  {
   "cell_type": "code",
   "execution_count": 276,
   "id": "fdddbfcb",
   "metadata": {},
   "outputs": [
    {
     "name": "stderr",
     "output_type": "stream",
     "text": [
      "C:\\Users\\rands\\anaconda3\\lib\\site-packages\\sklearn\\pipeline.py:346: DataConversionWarning: A column-vector y was passed when a 1d array was expected. Please change the shape of y to (n_samples,), for example using ravel().\n",
      "  self._final_estimator.fit(Xt, y, **fit_params_last_step)\n"
     ]
    },
    {
     "data": {
      "text/plain": [
       "GridSearchCV(cv=5,\n",
       "             estimator=Pipeline(steps=[('simpleimputer',\n",
       "                                        SimpleImputer(strategy='median')),\n",
       "                                       ('standardscaler', StandardScaler()),\n",
       "                                       ('randomforestregressor',\n",
       "                                        RandomForestRegressor(random_state=47))]),\n",
       "             n_jobs=-1,\n",
       "             param_grid={'randomforestregressor__n_estimators': [10, 12, 16, 20,\n",
       "                                                                 26, 33, 42, 54,\n",
       "                                                                 69, 88, 112,\n",
       "                                                                 143, 183, 233,\n",
       "                                                                 297, 379, 483,\n",
       "                                                                 615, 784,\n",
       "                                                                 1000],\n",
       "                         'simpleimputer__strategy': ['mean', 'median'],\n",
       "                         'standardscaler': [StandardScaler(), None]})"
      ]
     },
     "execution_count": 276,
     "metadata": {},
     "output_type": "execute_result"
    }
   ],
   "source": [
    "rf_grid_cv_y_uns.fit(X_train_SS_y_uns, y_train_SS_y_uns)"
   ]
  },
  {
   "cell_type": "code",
   "execution_count": 277,
   "id": "804ca893",
   "metadata": {},
   "outputs": [
    {
     "data": {
      "text/plain": [
       "{'randomforestregressor__n_estimators': 297,\n",
       " 'simpleimputer__strategy': 'mean',\n",
       " 'standardscaler': None}"
      ]
     },
     "execution_count": 277,
     "metadata": {},
     "output_type": "execute_result"
    }
   ],
   "source": [
    "rf_grid_cv_y_uns.best_params_"
   ]
  },
  {
   "cell_type": "code",
   "execution_count": 278,
   "id": "539046f2",
   "metadata": {},
   "outputs": [
    {
     "name": "stderr",
     "output_type": "stream",
     "text": [
      "C:\\Users\\rands\\anaconda3\\lib\\site-packages\\sklearn\\pipeline.py:346: DataConversionWarning: A column-vector y was passed when a 1d array was expected. Please change the shape of y to (n_samples,), for example using ravel().\n",
      "  self._final_estimator.fit(Xt, y, **fit_params_last_step)\n",
      "C:\\Users\\rands\\anaconda3\\lib\\site-packages\\sklearn\\pipeline.py:346: DataConversionWarning: A column-vector y was passed when a 1d array was expected. Please change the shape of y to (n_samples,), for example using ravel().\n",
      "  self._final_estimator.fit(Xt, y, **fit_params_last_step)\n",
      "C:\\Users\\rands\\anaconda3\\lib\\site-packages\\sklearn\\pipeline.py:346: DataConversionWarning: A column-vector y was passed when a 1d array was expected. Please change the shape of y to (n_samples,), for example using ravel().\n",
      "  self._final_estimator.fit(Xt, y, **fit_params_last_step)\n",
      "C:\\Users\\rands\\anaconda3\\lib\\site-packages\\sklearn\\pipeline.py:346: DataConversionWarning: A column-vector y was passed when a 1d array was expected. Please change the shape of y to (n_samples,), for example using ravel().\n",
      "  self._final_estimator.fit(Xt, y, **fit_params_last_step)\n",
      "C:\\Users\\rands\\anaconda3\\lib\\site-packages\\sklearn\\pipeline.py:346: DataConversionWarning: A column-vector y was passed when a 1d array was expected. Please change the shape of y to (n_samples,), for example using ravel().\n",
      "  self._final_estimator.fit(Xt, y, **fit_params_last_step)\n"
     ]
    },
    {
     "data": {
      "text/plain": [
       "array([0.33725791, 0.35602023, 0.44562106, 0.58034189, 0.39321565])"
      ]
     },
     "execution_count": 278,
     "metadata": {},
     "output_type": "execute_result"
    }
   ],
   "source": [
    "rf_best_cv_results_y_uns = cross_validate(rf_grid_cv_y_uns.best_estimator_, X_train_SS_y_uns, y_train_SS_y_uns, cv=5)\n",
    "rf_best_scores_y_uns = rf_best_cv_results_y_uns['test_score']\n",
    "rf_best_scores_y_uns"
   ]
  },
  {
   "cell_type": "code",
   "execution_count": 279,
   "id": "8d1f122a",
   "metadata": {},
   "outputs": [
    {
     "data": {
      "text/plain": [
       "(0.4224913481974342, 0.0871687922310932)"
      ]
     },
     "execution_count": 279,
     "metadata": {},
     "output_type": "execute_result"
    }
   ],
   "source": [
    "np.mean(rf_best_scores_y_uns), np.std(rf_best_scores_y_uns)"
   ]
  },
  {
   "cell_type": "code",
   "execution_count": 280,
   "id": "d681afd1",
   "metadata": {},
   "outputs": [
    {
     "data": {
      "image/png": "[encoded data removed]",
      "text/plain": [
       "<Figure size 720x360 with 1 Axes>"
      ]
     },
     "metadata": {
      "needs_background": "light"
     },
     "output_type": "display_data"
    }
   ],
   "source": [
    "plt.subplots(figsize=(10, 5))\n",
    "imps_y_uns = rf_grid_cv.best_estimator_.named_steps.randomforestregressor.feature_importances_\n",
    "rf_feat_imps_y_uns = pd.Series(imps_y_uns, index=X_train_SS_y_uns.columns).sort_values(ascending=False)\n",
    "rf_feat_imps_y_uns.plot(kind='bar')\n",
    "plt.xlabel('variables')\n",
    "plt.ylabel('SS ( X only )  |  Importance')\n",
    "plt.title('Best random forest regressor of variable importances');"
   ]
  },
  {
   "cell_type": "code",
   "execution_count": null,
   "id": "7495993f",
   "metadata": {},
   "outputs": [],
   "source": []
  },
  {
   "cell_type": "markdown",
   "id": "58d7943c",
   "metadata": {},
   "source": [
    "**5.4.3 X & y ( `_LG` )**<a id='lg_both'></a>"
   ]
  },
  {
   "cell_type": "code",
   "execution_count": 281,
   "id": "9ce57f85",
   "metadata": {},
   "outputs": [],
   "source": [
    "pipe_LG = make_pipeline(\n",
    "    SimpleImputer(strategy='median'), \n",
    "    PowerTransformer(),\n",
    "    SelectKBest(f_regression),\n",
    "    LinearRegression() # LogisticRegression() is for predicting 0 & 1\n",
    ")"
   ]
  },
  {
   "cell_type": "code",
   "execution_count": 282,
   "id": "3fa2ed0d",
   "metadata": {},
   "outputs": [],
   "source": [
    "k_LG = [k_LG+1 for k_LG in range(len(X_train_LG.columns))]\n",
    "grid_params_LG = {'selectkbest__k': k_LG}"
   ]
  },
  {
   "cell_type": "code",
   "execution_count": 283,
   "id": "21afc7f8",
   "metadata": {},
   "outputs": [],
   "source": [
    "lr_grid_cv_LG = GridSearchCV(pipe_LG, param_grid=grid_params_LG, cv=5, n_jobs=-1)"
   ]
  },
  {
   "cell_type": "code",
   "execution_count": 284,
   "id": "1d91b0fd",
   "metadata": {},
   "outputs": [
    {
     "name": "stderr",
     "output_type": "stream",
     "text": [
      "C:\\Users\\rands\\anaconda3\\lib\\site-packages\\sklearn\\utils\\validation.py:63: DataConversionWarning: A column-vector y was passed when a 1d array was expected. Please change the shape of y to (n_samples, ), for example using ravel().\n",
      "  return f(*args, **kwargs)\n"
     ]
    },
    {
     "data": {
      "text/plain": [
       "GridSearchCV(cv=5,\n",
       "             estimator=Pipeline(steps=[('simpleimputer',\n",
       "                                        SimpleImputer(strategy='median')),\n",
       "                                       ('powertransformer', PowerTransformer()),\n",
       "                                       ('selectkbest',\n",
       "                                        SelectKBest(score_func=<function f_regression at 0x0000011D34432F70>)),\n",
       "                                       ('linearregression',\n",
       "                                        LinearRegression())]),\n",
       "             n_jobs=-1,\n",
       "             param_grid={'selectkbest__k': [1, 2, 3, 4, 5, 6, 7, 8, 9, 10, 11,\n",
       "                                            12, 13, 14, 15, 16, 17, 18, 19]})"
      ]
     },
     "execution_count": 284,
     "metadata": {},
     "output_type": "execute_result"
    }
   ],
   "source": [
    "lr_grid_cv_LG.fit(X_train_LG, y_train_LG)"
   ]
  },
  {
   "cell_type": "code",
   "execution_count": 285,
   "id": "037ebf0e",
   "metadata": {},
   "outputs": [],
   "source": [
    "score_mean_LG = lr_grid_cv_LG.cv_results_['mean_test_score']\n",
    "score_std_LG = lr_grid_cv_LG.cv_results_['std_test_score']\n",
    "cv_k_LG = [k_LG for k_LG in lr_grid_cv_LG.cv_results_['param_selectkbest__k']]"
   ]
  },
  {
   "cell_type": "code",
   "execution_count": 286,
   "id": "b5157b28",
   "metadata": {},
   "outputs": [
    {
     "data": {
      "text/plain": [
       "{'selectkbest__k': 9}"
      ]
     },
     "execution_count": 286,
     "metadata": {},
     "output_type": "execute_result"
    }
   ],
   "source": [
    "lr_grid_cv_LG.best_params_"
   ]
  },
  {
   "cell_type": "code",
   "execution_count": 287,
   "id": "5e3ac547",
   "metadata": {},
   "outputs": [
    {
     "data": {
      "image/png": "[encoded data removed]",
      "text/plain": [
       "<Figure size 720x360 with 1 Axes>"
      ]
     },
     "metadata": {
      "needs_background": "light"
     },
     "output_type": "display_data"
    }
   ],
   "source": [
    "best_k_LG = lr_grid_cv_LG.best_params_['selectkbest__k']\n",
    "plt.subplots(figsize=(10, 5))\n",
    "plt.errorbar(cv_k_LG, score_mean_LG, yerr=score_std_LG)\n",
    "plt.axvline(x=best_k_LG, c='r', ls='--', alpha=.5)\n",
    "plt.xlabel('k')\n",
    "plt.ylabel('LG ( X & y )  |  CV score (r-squared)')\n",
    "plt.title('LG ( X & y )  |  Pipeline mean CV score (error bars +/- 1sd)');"
   ]
  },
  {
   "cell_type": "code",
   "execution_count": 288,
   "id": "221c136d",
   "metadata": {},
   "outputs": [],
   "source": [
    "RF_pipe_LG = make_pipeline(\n",
    "    SimpleImputer(strategy='median'),\n",
    "    PowerTransformer(),\n",
    "    RandomForestRegressor(random_state=47)\n",
    ")"
   ]
  },
  {
   "cell_type": "markdown",
   "id": "74e12a78",
   "metadata": {},
   "source": [
    "**Fit & assess performance using cross-validation**"
   ]
  },
  {
   "cell_type": "code",
   "execution_count": 289,
   "id": "9eb5bc7c",
   "metadata": {},
   "outputs": [
    {
     "name": "stderr",
     "output_type": "stream",
     "text": [
      "C:\\Users\\rands\\anaconda3\\lib\\site-packages\\sklearn\\pipeline.py:346: DataConversionWarning: A column-vector y was passed when a 1d array was expected. Please change the shape of y to (n_samples,), for example using ravel().\n",
      "  self._final_estimator.fit(Xt, y, **fit_params_last_step)\n",
      "C:\\Users\\rands\\anaconda3\\lib\\site-packages\\sklearn\\pipeline.py:346: DataConversionWarning: A column-vector y was passed when a 1d array was expected. Please change the shape of y to (n_samples,), for example using ravel().\n",
      "  self._final_estimator.fit(Xt, y, **fit_params_last_step)\n",
      "C:\\Users\\rands\\anaconda3\\lib\\site-packages\\sklearn\\pipeline.py:346: DataConversionWarning: A column-vector y was passed when a 1d array was expected. Please change the shape of y to (n_samples,), for example using ravel().\n",
      "  self._final_estimator.fit(Xt, y, **fit_params_last_step)\n",
      "C:\\Users\\rands\\anaconda3\\lib\\site-packages\\sklearn\\pipeline.py:346: DataConversionWarning: A column-vector y was passed when a 1d array was expected. Please change the shape of y to (n_samples,), for example using ravel().\n",
      "  self._final_estimator.fit(Xt, y, **fit_params_last_step)\n",
      "C:\\Users\\rands\\anaconda3\\lib\\site-packages\\sklearn\\pipeline.py:346: DataConversionWarning: A column-vector y was passed when a 1d array was expected. Please change the shape of y to (n_samples,), for example using ravel().\n",
      "  self._final_estimator.fit(Xt, y, **fit_params_last_step)\n"
     ]
    }
   ],
   "source": [
    "rf_default_cv_results_LG = cross_validate(RF_pipe_LG, X_train_LG, y_train_LG, cv=5)"
   ]
  },
  {
   "cell_type": "code",
   "execution_count": 290,
   "id": "b14994ec",
   "metadata": {},
   "outputs": [
    {
     "data": {
      "text/plain": [
       "array([0.30544563, 0.36400411, 0.45324093, 0.51507354, 0.41496597])"
      ]
     },
     "execution_count": 290,
     "metadata": {},
     "output_type": "execute_result"
    }
   ],
   "source": [
    "rf_cv_scores_LG = rf_default_cv_results_LG['test_score']\n",
    "rf_cv_scores_LG"
   ]
  },
  {
   "cell_type": "code",
   "execution_count": 291,
   "id": "aa58176a",
   "metadata": {},
   "outputs": [
    {
     "data": {
      "text/plain": [
       "(0.41054603533909184, 0.07208416740986381)"
      ]
     },
     "execution_count": 291,
     "metadata": {},
     "output_type": "execute_result"
    }
   ],
   "source": [
    "np.mean(rf_cv_scores_LG), np.std(rf_cv_scores_LG)"
   ]
  },
  {
   "cell_type": "markdown",
   "id": "74c81f7a",
   "metadata": {},
   "source": [
    "**Hyperparameter search using GridSearchCV**"
   ]
  },
  {
   "cell_type": "code",
   "execution_count": 292,
   "id": "a67588f4",
   "metadata": {},
   "outputs": [
    {
     "data": {
      "text/plain": [
       "{'randomforestregressor__n_estimators': [10,\n",
       "  12,\n",
       "  16,\n",
       "  20,\n",
       "  26,\n",
       "  33,\n",
       "  42,\n",
       "  54,\n",
       "  69,\n",
       "  88,\n",
       "  112,\n",
       "  143,\n",
       "  183,\n",
       "  233,\n",
       "  297,\n",
       "  379,\n",
       "  483,\n",
       "  615,\n",
       "  784,\n",
       "  1000],\n",
       " 'powertransformer': [PowerTransformer(), None],\n",
       " 'simpleimputer__strategy': ['mean', 'median']}"
      ]
     },
     "execution_count": 292,
     "metadata": {},
     "output_type": "execute_result"
    }
   ],
   "source": [
    "n_est_LG = [int(n) for n in np.logspace(start=1, stop=3, num=20)]\n",
    "grid_params_LG = {\n",
    "        'randomforestregressor__n_estimators': n_est,\n",
    "        'powertransformer': [PowerTransformer(), None],\n",
    "        'simpleimputer__strategy': ['mean', 'median']\n",
    "}\n",
    "grid_params_LG"
   ]
  },
  {
   "cell_type": "code",
   "execution_count": 293,
   "id": "477c9045",
   "metadata": {},
   "outputs": [],
   "source": [
    "rf_grid_cv_LG = GridSearchCV(RF_pipe_LG, param_grid=grid_params_LG, cv=5, n_jobs=-1)"
   ]
  },
  {
   "cell_type": "code",
   "execution_count": 294,
   "id": "88d40d21",
   "metadata": {},
   "outputs": [
    {
     "name": "stderr",
     "output_type": "stream",
     "text": [
      "C:\\Users\\rands\\anaconda3\\lib\\site-packages\\sklearn\\pipeline.py:346: DataConversionWarning: A column-vector y was passed when a 1d array was expected. Please change the shape of y to (n_samples,), for example using ravel().\n",
      "  self._final_estimator.fit(Xt, y, **fit_params_last_step)\n"
     ]
    },
    {
     "data": {
      "text/plain": [
       "GridSearchCV(cv=5,\n",
       "             estimator=Pipeline(steps=[('simpleimputer',\n",
       "                                        SimpleImputer(strategy='median')),\n",
       "                                       ('powertransformer', PowerTransformer()),\n",
       "                                       ('randomforestregressor',\n",
       "                                        RandomForestRegressor(random_state=47))]),\n",
       "             n_jobs=-1,\n",
       "             param_grid={'powertransformer': [PowerTransformer(), None],\n",
       "                         'randomforestregressor__n_estimators': [10, 12, 16, 20,\n",
       "                                                                 26, 33, 42, 54,\n",
       "                                                                 69, 88, 112,\n",
       "                                                                 143, 183, 233,\n",
       "                                                                 297, 379, 483,\n",
       "                                                                 615, 784,\n",
       "                                                                 1000],\n",
       "                         'simpleimputer__strategy': ['mean', 'median']})"
      ]
     },
     "execution_count": 294,
     "metadata": {},
     "output_type": "execute_result"
    }
   ],
   "source": [
    "rf_grid_cv_LG.fit(X_train_LG, y_train_LG)"
   ]
  },
  {
   "cell_type": "code",
   "execution_count": 295,
   "id": "2b6c703a",
   "metadata": {},
   "outputs": [
    {
     "data": {
      "text/plain": [
       "{'powertransformer': None,\n",
       " 'randomforestregressor__n_estimators': 1000,\n",
       " 'simpleimputer__strategy': 'mean'}"
      ]
     },
     "execution_count": 295,
     "metadata": {},
     "output_type": "execute_result"
    }
   ],
   "source": [
    "rf_grid_cv_LG.best_params_"
   ]
  },
  {
   "cell_type": "code",
   "execution_count": 296,
   "id": "64937a65",
   "metadata": {},
   "outputs": [
    {
     "name": "stderr",
     "output_type": "stream",
     "text": [
      "C:\\Users\\rands\\anaconda3\\lib\\site-packages\\sklearn\\pipeline.py:346: DataConversionWarning: A column-vector y was passed when a 1d array was expected. Please change the shape of y to (n_samples,), for example using ravel().\n",
      "  self._final_estimator.fit(Xt, y, **fit_params_last_step)\n",
      "C:\\Users\\rands\\anaconda3\\lib\\site-packages\\sklearn\\pipeline.py:346: DataConversionWarning: A column-vector y was passed when a 1d array was expected. Please change the shape of y to (n_samples,), for example using ravel().\n",
      "  self._final_estimator.fit(Xt, y, **fit_params_last_step)\n",
      "C:\\Users\\rands\\anaconda3\\lib\\site-packages\\sklearn\\pipeline.py:346: DataConversionWarning: A column-vector y was passed when a 1d array was expected. Please change the shape of y to (n_samples,), for example using ravel().\n",
      "  self._final_estimator.fit(Xt, y, **fit_params_last_step)\n",
      "C:\\Users\\rands\\anaconda3\\lib\\site-packages\\sklearn\\pipeline.py:346: DataConversionWarning: A column-vector y was passed when a 1d array was expected. Please change the shape of y to (n_samples,), for example using ravel().\n",
      "  self._final_estimator.fit(Xt, y, **fit_params_last_step)\n",
      "C:\\Users\\rands\\anaconda3\\lib\\site-packages\\sklearn\\pipeline.py:346: DataConversionWarning: A column-vector y was passed when a 1d array was expected. Please change the shape of y to (n_samples,), for example using ravel().\n",
      "  self._final_estimator.fit(Xt, y, **fit_params_last_step)\n"
     ]
    },
    {
     "data": {
      "text/plain": [
       "array([0.3368261 , 0.37892975, 0.44635381, 0.57518199, 0.38741163])"
      ]
     },
     "execution_count": 296,
     "metadata": {},
     "output_type": "execute_result"
    }
   ],
   "source": [
    "rf_best_cv_results_LG = cross_validate(rf_grid_cv_LG.best_estimator_, X_train_LG, y_train_LG, cv=5)\n",
    "rf_best_scores_LG = rf_best_cv_results_LG['test_score']\n",
    "rf_best_scores_LG"
   ]
  },
  {
   "cell_type": "code",
   "execution_count": 297,
   "id": "6780a234",
   "metadata": {},
   "outputs": [
    {
     "data": {
      "text/plain": [
       "(0.4249406535138268, 0.08284996972770561)"
      ]
     },
     "execution_count": 297,
     "metadata": {},
     "output_type": "execute_result"
    }
   ],
   "source": [
    "np.mean(rf_best_scores_LG), np.std(rf_best_scores_LG)"
   ]
  },
  {
   "cell_type": "code",
   "execution_count": 298,
   "id": "5fb708f1",
   "metadata": {},
   "outputs": [
    {
     "data": {
      "image/png": "[encoded data removed]",
      "text/plain": [
       "<Figure size 720x360 with 1 Axes>"
      ]
     },
     "metadata": {
      "needs_background": "light"
     },
     "output_type": "display_data"
    }
   ],
   "source": [
    "plt.subplots(figsize=(10, 5))\n",
    "imps_LG = rf_grid_cv_LG.best_estimator_.named_steps.randomforestregressor.feature_importances_\n",
    "rf_feat_imps_LG = pd.Series(imps_LG, index=X_train_LG.columns).sort_values(ascending=False)\n",
    "rf_feat_imps_LG.plot(kind='bar')\n",
    "plt.xlabel('variables')\n",
    "plt.ylabel('LG ( X & y )  |  Importance')\n",
    "plt.title('Best random forest regressor of variable importances');"
   ]
  },
  {
   "cell_type": "code",
   "execution_count": null,
   "id": "bf3a7dd9",
   "metadata": {},
   "outputs": [],
   "source": []
  },
  {
   "cell_type": "markdown",
   "id": "01dda237",
   "metadata": {},
   "source": [
    "**5.4.4 X only ( `_LG_y_uns` )**<a id='lg_y_un'></a>"
   ]
  },
  {
   "cell_type": "code",
   "execution_count": 299,
   "id": "231572d3",
   "metadata": {},
   "outputs": [],
   "source": [
    "pipe_LG_y_uns = make_pipeline(\n",
    "    SimpleImputer(strategy='median'), \n",
    "    PowerTransformer(),\n",
    "    SelectKBest(f_regression),\n",
    "    LinearRegression() # should this be LogisticRegression()\n",
    ")"
   ]
  },
  {
   "cell_type": "code",
   "execution_count": 300,
   "id": "6b472fb1",
   "metadata": {},
   "outputs": [],
   "source": [
    "k_LG_y_uns = [k_LG_y_uns+1 for k_LG_y_uns in range(len(X_train_LG_y_uns.columns))]\n",
    "grid_params_LG_y_uns = {'selectkbest__k': k_LG_y_uns}"
   ]
  },
  {
   "cell_type": "code",
   "execution_count": 301,
   "id": "ca2afa2e",
   "metadata": {},
   "outputs": [],
   "source": [
    "lr_grid_cv_LG_y_uns = GridSearchCV(pipe_LG_y_uns, param_grid=grid_params_LG_y_uns, cv=5, n_jobs=-1)"
   ]
  },
  {
   "cell_type": "code",
   "execution_count": 302,
   "id": "e66ad653",
   "metadata": {},
   "outputs": [
    {
     "name": "stderr",
     "output_type": "stream",
     "text": [
      "C:\\Users\\rands\\anaconda3\\lib\\site-packages\\sklearn\\utils\\validation.py:63: DataConversionWarning: A column-vector y was passed when a 1d array was expected. Please change the shape of y to (n_samples, ), for example using ravel().\n",
      "  return f(*args, **kwargs)\n"
     ]
    },
    {
     "data": {
      "text/plain": [
       "GridSearchCV(cv=5,\n",
       "             estimator=Pipeline(steps=[('simpleimputer',\n",
       "                                        SimpleImputer(strategy='median')),\n",
       "                                       ('powertransformer', PowerTransformer()),\n",
       "                                       ('selectkbest',\n",
       "                                        SelectKBest(score_func=<function f_regression at 0x0000011D34432F70>)),\n",
       "                                       ('linearregression',\n",
       "                                        LinearRegression())]),\n",
       "             n_jobs=-1,\n",
       "             param_grid={'selectkbest__k': [1, 2, 3, 4, 5, 6, 7, 8, 9, 10, 11,\n",
       "                                            12, 13, 14, 15, 16, 17, 18, 19]})"
      ]
     },
     "execution_count": 302,
     "metadata": {},
     "output_type": "execute_result"
    }
   ],
   "source": [
    "lr_grid_cv_LG_y_uns.fit(X_train_LG_y_uns, y_train_LG_y_uns)"
   ]
  },
  {
   "cell_type": "code",
   "execution_count": 303,
   "id": "99ba9e15",
   "metadata": {},
   "outputs": [],
   "source": [
    "score_mean_LG_y_uns = lr_grid_cv_LG_y_uns.cv_results_['mean_test_score']\n",
    "score_std_LG_y_uns = lr_grid_cv_LG_y_uns.cv_results_['std_test_score']\n",
    "cv_k_LG_y_uns = [k_LG_y_uns for k_LG_y_uns in lr_grid_cv_LG_y_uns.cv_results_['param_selectkbest__k']]"
   ]
  },
  {
   "cell_type": "code",
   "execution_count": 304,
   "id": "5ae234ab",
   "metadata": {},
   "outputs": [
    {
     "data": {
      "text/plain": [
       "{'selectkbest__k': 9}"
      ]
     },
     "execution_count": 304,
     "metadata": {},
     "output_type": "execute_result"
    }
   ],
   "source": [
    "lr_grid_cv_LG_y_uns.best_params_"
   ]
  },
  {
   "cell_type": "code",
   "execution_count": 305,
   "id": "39fcd7ce",
   "metadata": {},
   "outputs": [
    {
     "data": {
      "image/png": "[encoded data removed]",
      "text/plain": [
       "<Figure size 720x360 with 1 Axes>"
      ]
     },
     "metadata": {
      "needs_background": "light"
     },
     "output_type": "display_data"
    }
   ],
   "source": [
    "best_k_LG_y_uns = lr_grid_cv_LG_y_uns.best_params_['selectkbest__k']\n",
    "plt.subplots(figsize=(10, 5))\n",
    "plt.errorbar(cv_k_LG_y_uns, score_mean_LG_y_uns, yerr=score_std_LG_y_uns)\n",
    "plt.axvline(x=best_k_LG_y_uns, c='r', ls='--', alpha=.5)\n",
    "plt.xlabel('k')\n",
    "plt.ylabel('LG ( X only )  |  CV score (r-squared)')\n",
    "plt.title('LG ( X only )  |  Pipeline mean CV score (error bars +/- 1sd)');"
   ]
  },
  {
   "cell_type": "code",
   "execution_count": 306,
   "id": "f03a8214",
   "metadata": {},
   "outputs": [],
   "source": [
    "RF_pipe_LG_y_uns = make_pipeline(\n",
    "    SimpleImputer(strategy='median'),\n",
    "    PowerTransformer(),\n",
    "    RandomForestRegressor(random_state=47)\n",
    ")"
   ]
  },
  {
   "cell_type": "markdown",
   "id": "de110ad4",
   "metadata": {},
   "source": [
    "**Fit & assess performance using cross-validation**"
   ]
  },
  {
   "cell_type": "code",
   "execution_count": 307,
   "id": "0e21ab21",
   "metadata": {},
   "outputs": [
    {
     "name": "stderr",
     "output_type": "stream",
     "text": [
      "C:\\Users\\rands\\anaconda3\\lib\\site-packages\\sklearn\\pipeline.py:346: DataConversionWarning: A column-vector y was passed when a 1d array was expected. Please change the shape of y to (n_samples,), for example using ravel().\n",
      "  self._final_estimator.fit(Xt, y, **fit_params_last_step)\n",
      "C:\\Users\\rands\\anaconda3\\lib\\site-packages\\sklearn\\pipeline.py:346: DataConversionWarning: A column-vector y was passed when a 1d array was expected. Please change the shape of y to (n_samples,), for example using ravel().\n",
      "  self._final_estimator.fit(Xt, y, **fit_params_last_step)\n",
      "C:\\Users\\rands\\anaconda3\\lib\\site-packages\\sklearn\\pipeline.py:346: DataConversionWarning: A column-vector y was passed when a 1d array was expected. Please change the shape of y to (n_samples,), for example using ravel().\n",
      "  self._final_estimator.fit(Xt, y, **fit_params_last_step)\n",
      "C:\\Users\\rands\\anaconda3\\lib\\site-packages\\sklearn\\pipeline.py:346: DataConversionWarning: A column-vector y was passed when a 1d array was expected. Please change the shape of y to (n_samples,), for example using ravel().\n",
      "  self._final_estimator.fit(Xt, y, **fit_params_last_step)\n",
      "C:\\Users\\rands\\anaconda3\\lib\\site-packages\\sklearn\\pipeline.py:346: DataConversionWarning: A column-vector y was passed when a 1d array was expected. Please change the shape of y to (n_samples,), for example using ravel().\n",
      "  self._final_estimator.fit(Xt, y, **fit_params_last_step)\n"
     ]
    }
   ],
   "source": [
    "rf_default_cv_results_LG_y_uns = cross_validate(RF_pipe_LG_y_uns, X_train_LG_y_uns, y_train_LG_y_uns, cv=5)"
   ]
  },
  {
   "cell_type": "code",
   "execution_count": 308,
   "id": "d68b0f7c",
   "metadata": {},
   "outputs": [
    {
     "data": {
      "text/plain": [
       "array([0.29538195, 0.38678878, 0.45250326, 0.54735776, 0.3992878 ])"
      ]
     },
     "execution_count": 308,
     "metadata": {},
     "output_type": "execute_result"
    }
   ],
   "source": [
    "rf_cv_scores_LG_y_uns = rf_default_cv_results_LG_y_uns['test_score']\n",
    "rf_cv_scores_LG_y_uns"
   ]
  },
  {
   "cell_type": "code",
   "execution_count": 309,
   "id": "982671cd",
   "metadata": {},
   "outputs": [
    {
     "data": {
      "text/plain": [
       "(0.4162639090921714, 0.08278684487482141)"
      ]
     },
     "execution_count": 309,
     "metadata": {},
     "output_type": "execute_result"
    }
   ],
   "source": [
    "np.mean(rf_cv_scores_LG_y_uns), np.std(rf_cv_scores_LG_y_uns)"
   ]
  },
  {
   "cell_type": "markdown",
   "id": "dbf73b4f",
   "metadata": {},
   "source": [
    "**Hyperparameter search using GridSearchCV**"
   ]
  },
  {
   "cell_type": "code",
   "execution_count": 310,
   "id": "161c5a71",
   "metadata": {},
   "outputs": [
    {
     "data": {
      "text/plain": [
       "{'randomforestregressor__n_estimators': [10,\n",
       "  12,\n",
       "  16,\n",
       "  20,\n",
       "  26,\n",
       "  33,\n",
       "  42,\n",
       "  54,\n",
       "  69,\n",
       "  88,\n",
       "  112,\n",
       "  143,\n",
       "  183,\n",
       "  233,\n",
       "  297,\n",
       "  379,\n",
       "  483,\n",
       "  615,\n",
       "  784,\n",
       "  1000],\n",
       " 'powertransformer': [PowerTransformer(), None],\n",
       " 'simpleimputer__strategy': ['mean', 'median']}"
      ]
     },
     "execution_count": 310,
     "metadata": {},
     "output_type": "execute_result"
    }
   ],
   "source": [
    "n_est_LG_y_uns = [int(n) for n in np.logspace(start=1, stop=3, num=20)]\n",
    "grid_params_LG_y_uns = {\n",
    "        'randomforestregressor__n_estimators': n_est,\n",
    "        'powertransformer': [PowerTransformer(), None],\n",
    "        'simpleimputer__strategy': ['mean', 'median']\n",
    "}\n",
    "grid_params_LG_y_uns"
   ]
  },
  {
   "cell_type": "code",
   "execution_count": 311,
   "id": "b3018428",
   "metadata": {},
   "outputs": [],
   "source": [
    "rf_grid_cv_LG_y_uns = GridSearchCV(RF_pipe_LG_y_uns, param_grid=grid_params_LG_y_uns, cv=5, n_jobs=-1)"
   ]
  },
  {
   "cell_type": "code",
   "execution_count": 312,
   "id": "7bfdb63d",
   "metadata": {},
   "outputs": [
    {
     "name": "stderr",
     "output_type": "stream",
     "text": [
      "C:\\Users\\rands\\anaconda3\\lib\\site-packages\\sklearn\\pipeline.py:346: DataConversionWarning: A column-vector y was passed when a 1d array was expected. Please change the shape of y to (n_samples,), for example using ravel().\n",
      "  self._final_estimator.fit(Xt, y, **fit_params_last_step)\n"
     ]
    },
    {
     "data": {
      "text/plain": [
       "GridSearchCV(cv=5,\n",
       "             estimator=Pipeline(steps=[('simpleimputer',\n",
       "                                        SimpleImputer(strategy='median')),\n",
       "                                       ('powertransformer', PowerTransformer()),\n",
       "                                       ('randomforestregressor',\n",
       "                                        RandomForestRegressor(random_state=47))]),\n",
       "             n_jobs=-1,\n",
       "             param_grid={'powertransformer': [PowerTransformer(), None],\n",
       "                         'randomforestregressor__n_estimators': [10, 12, 16, 20,\n",
       "                                                                 26, 33, 42, 54,\n",
       "                                                                 69, 88, 112,\n",
       "                                                                 143, 183, 233,\n",
       "                                                                 297, 379, 483,\n",
       "                                                                 615, 784,\n",
       "                                                                 1000],\n",
       "                         'simpleimputer__strategy': ['mean', 'median']})"
      ]
     },
     "execution_count": 312,
     "metadata": {},
     "output_type": "execute_result"
    }
   ],
   "source": [
    "rf_grid_cv_LG_y_uns.fit(X_train_LG_y_uns, y_train_LG_y_uns)"
   ]
  },
  {
   "cell_type": "code",
   "execution_count": 313,
   "id": "00902917",
   "metadata": {},
   "outputs": [
    {
     "data": {
      "text/plain": [
       "{'powertransformer': None,\n",
       " 'randomforestregressor__n_estimators': 297,\n",
       " 'simpleimputer__strategy': 'mean'}"
      ]
     },
     "execution_count": 313,
     "metadata": {},
     "output_type": "execute_result"
    }
   ],
   "source": [
    "rf_grid_cv_LG_y_uns.best_params_"
   ]
  },
  {
   "cell_type": "code",
   "execution_count": 314,
   "id": "6a0cf737",
   "metadata": {},
   "outputs": [
    {
     "name": "stderr",
     "output_type": "stream",
     "text": [
      "C:\\Users\\rands\\anaconda3\\lib\\site-packages\\sklearn\\pipeline.py:346: DataConversionWarning: A column-vector y was passed when a 1d array was expected. Please change the shape of y to (n_samples,), for example using ravel().\n",
      "  self._final_estimator.fit(Xt, y, **fit_params_last_step)\n",
      "C:\\Users\\rands\\anaconda3\\lib\\site-packages\\sklearn\\pipeline.py:346: DataConversionWarning: A column-vector y was passed when a 1d array was expected. Please change the shape of y to (n_samples,), for example using ravel().\n",
      "  self._final_estimator.fit(Xt, y, **fit_params_last_step)\n",
      "C:\\Users\\rands\\anaconda3\\lib\\site-packages\\sklearn\\pipeline.py:346: DataConversionWarning: A column-vector y was passed when a 1d array was expected. Please change the shape of y to (n_samples,), for example using ravel().\n",
      "  self._final_estimator.fit(Xt, y, **fit_params_last_step)\n",
      "C:\\Users\\rands\\anaconda3\\lib\\site-packages\\sklearn\\pipeline.py:346: DataConversionWarning: A column-vector y was passed when a 1d array was expected. Please change the shape of y to (n_samples,), for example using ravel().\n",
      "  self._final_estimator.fit(Xt, y, **fit_params_last_step)\n",
      "C:\\Users\\rands\\anaconda3\\lib\\site-packages\\sklearn\\pipeline.py:346: DataConversionWarning: A column-vector y was passed when a 1d array was expected. Please change the shape of y to (n_samples,), for example using ravel().\n",
      "  self._final_estimator.fit(Xt, y, **fit_params_last_step)\n"
     ]
    },
    {
     "data": {
      "text/plain": [
       "array([0.34228516, 0.35763695, 0.44863869, 0.58042431, 0.39526423])"
      ]
     },
     "execution_count": 314,
     "metadata": {},
     "output_type": "execute_result"
    }
   ],
   "source": [
    "rf_best_cv_results_LG_y_uns = cross_validate(rf_grid_cv_LG_y_uns.best_estimator_, X_train_LG_y_uns, y_train_LG_y_uns, cv=5)\n",
    "rf_best_scores_LG_y_uns = rf_best_cv_results_LG_y_uns['test_score']\n",
    "rf_best_scores_LG_y_uns"
   ]
  },
  {
   "cell_type": "code",
   "execution_count": 315,
   "id": "3aced659",
   "metadata": {},
   "outputs": [
    {
     "data": {
      "text/plain": [
       "(0.4248498671996158, 0.0859989905031364)"
      ]
     },
     "execution_count": 315,
     "metadata": {},
     "output_type": "execute_result"
    }
   ],
   "source": [
    "np.mean(rf_best_scores_LG_y_uns), np.std(rf_best_scores_LG_y_uns)"
   ]
  },
  {
   "cell_type": "code",
   "execution_count": 316,
   "id": "80f9b5cf",
   "metadata": {},
   "outputs": [
    {
     "data": {
      "image/png": "[encoded data removed]",
      "text/plain": [
       "<Figure size 720x360 with 1 Axes>"
      ]
     },
     "metadata": {
      "needs_background": "light"
     },
     "output_type": "display_data"
    }
   ],
   "source": [
    "plt.subplots(figsize=(10, 5))\n",
    "imps_LG_y_uns = rf_grid_cv_LG_y_uns.best_estimator_.named_steps.randomforestregressor.feature_importances_\n",
    "rf_feat_imps_LG_y_uns = pd.Series(imps_LG_y_uns, index=X_train_LG_y_uns.columns).sort_values(ascending=False)\n",
    "rf_feat_imps_LG_y_uns.plot(kind='bar')\n",
    "plt.xlabel('variables')\n",
    "plt.ylabel('LG ( X only )  |  Importance')\n",
    "plt.title('Best random forest regressor of variable importances');"
   ]
  },
  {
   "cell_type": "code",
   "execution_count": null,
   "id": "c75fd05e",
   "metadata": {},
   "outputs": [],
   "source": []
  },
  {
   "cell_type": "markdown",
   "id": "b563594c",
   "metadata": {},
   "source": [
    "**5.4.5 Combination of `SS` & `LG` for X only ( `_SS_LG` )**<a id='combo'></a>|"
   ]
  },
  {
   "cell_type": "code",
   "execution_count": 317,
   "id": "16695edc",
   "metadata": {},
   "outputs": [],
   "source": [
    "pipe__SS_LG = make_pipeline(\n",
    "    SimpleImputer(strategy='median'), \n",
    "    StandardScaler(),\n",
    "    SelectKBest(f_regression),\n",
    "    LinearRegression() # should this be LogisticRegression()\n",
    ")"
   ]
  },
  {
   "cell_type": "code",
   "execution_count": 318,
   "id": "e9e4b9b5",
   "metadata": {},
   "outputs": [],
   "source": [
    "k_SS_LG = [k_SS_LG+1 for k_SS_LG in range(len(X_tr_SS_LG.columns))]\n",
    "grid_params_SS_LG = {'selectkbest__k': k_SS_LG}"
   ]
  },
  {
   "cell_type": "code",
   "execution_count": 319,
   "id": "3ac1b7f8",
   "metadata": {},
   "outputs": [],
   "source": [
    "lr_grid_cv_SS_LG = GridSearchCV(pipe__SS_LG, param_grid=grid_params_SS_LG, cv=5, n_jobs=-1)"
   ]
  },
  {
   "cell_type": "code",
   "execution_count": 320,
   "id": "e2bf37dd",
   "metadata": {},
   "outputs": [
    {
     "name": "stderr",
     "output_type": "stream",
     "text": [
      "C:\\Users\\rands\\anaconda3\\lib\\site-packages\\sklearn\\utils\\validation.py:63: DataConversionWarning: A column-vector y was passed when a 1d array was expected. Please change the shape of y to (n_samples, ), for example using ravel().\n",
      "  return f(*args, **kwargs)\n"
     ]
    },
    {
     "data": {
      "text/plain": [
       "GridSearchCV(cv=5,\n",
       "             estimator=Pipeline(steps=[('simpleimputer',\n",
       "                                        SimpleImputer(strategy='median')),\n",
       "                                       ('standardscaler', StandardScaler()),\n",
       "                                       ('selectkbest',\n",
       "                                        SelectKBest(score_func=<function f_regression at 0x0000011D34432F70>)),\n",
       "                                       ('linearregression',\n",
       "                                        LinearRegression())]),\n",
       "             n_jobs=-1,\n",
       "             param_grid={'selectkbest__k': [1, 2, 3, 4, 5, 6, 7, 8, 9, 10, 11,\n",
       "                                            12, 13, 14, 15, 16, 17, 18, 19]})"
      ]
     },
     "execution_count": 320,
     "metadata": {},
     "output_type": "execute_result"
    }
   ],
   "source": [
    "lr_grid_cv_SS_LG.fit(X_tr_SS_LG, y_tr_y_uns)"
   ]
  },
  {
   "cell_type": "code",
   "execution_count": 321,
   "id": "1719f8c8",
   "metadata": {},
   "outputs": [],
   "source": [
    "score_mean_SS_LG = lr_grid_cv_SS_LG.cv_results_['mean_test_score']\n",
    "score_std_SS_LG = lr_grid_cv_SS_LG.cv_results_['std_test_score']\n",
    "cv_k_SS_LG = [k_SS_LG for k_SS_LG in lr_grid_cv_SS_LG.cv_results_['param_selectkbest__k']]"
   ]
  },
  {
   "cell_type": "code",
   "execution_count": 322,
   "id": "15454847",
   "metadata": {},
   "outputs": [
    {
     "data": {
      "text/plain": [
       "{'selectkbest__k': 10}"
      ]
     },
     "execution_count": 322,
     "metadata": {},
     "output_type": "execute_result"
    }
   ],
   "source": [
    "lr_grid_cv_SS_LG.best_params_"
   ]
  },
  {
   "cell_type": "code",
   "execution_count": 323,
   "id": "51c5c98a",
   "metadata": {},
   "outputs": [
    {
     "data": {
      "image/png": "[encoded data removed]",
      "text/plain": [
       "<Figure size 720x360 with 1 Axes>"
      ]
     },
     "metadata": {
      "needs_background": "light"
     },
     "output_type": "display_data"
    }
   ],
   "source": [
    "best_k_SS_LG = lr_grid_cv_SS_LG.best_params_['selectkbest__k']\n",
    "plt.subplots(figsize=(10, 5))\n",
    "plt.errorbar(cv_k_SS_LG, score_mean_SS_LG, yerr=score_std_SS_LG)\n",
    "plt.axvline(x=best_k_SS_LG, c='r', ls='--', alpha=.5)\n",
    "plt.xlabel('k')\n",
    "plt.ylabel('SS & LG ( X only )  |  CV score (r-squared)')\n",
    "plt.title('SS & LG ( X only )  |  Pipeline mean CV score (error bars +/- 1sd)');"
   ]
  },
  {
   "cell_type": "code",
   "execution_count": 324,
   "id": "95734fd0",
   "metadata": {},
   "outputs": [],
   "source": [
    "RF_pipe_SS_LG = make_pipeline(\n",
    "    SimpleImputer(strategy='median'),\n",
    "    StandardScaler(),\n",
    "    RandomForestRegressor(random_state=47)\n",
    ")"
   ]
  },
  {
   "cell_type": "markdown",
   "id": "82b7da31",
   "metadata": {},
   "source": [
    "**Fit & assess performance using cross-validation**"
   ]
  },
  {
   "cell_type": "code",
   "execution_count": 325,
   "id": "9b65f50d",
   "metadata": {},
   "outputs": [
    {
     "name": "stderr",
     "output_type": "stream",
     "text": [
      "C:\\Users\\rands\\anaconda3\\lib\\site-packages\\sklearn\\pipeline.py:346: DataConversionWarning: A column-vector y was passed when a 1d array was expected. Please change the shape of y to (n_samples,), for example using ravel().\n",
      "  self._final_estimator.fit(Xt, y, **fit_params_last_step)\n",
      "C:\\Users\\rands\\anaconda3\\lib\\site-packages\\sklearn\\pipeline.py:346: DataConversionWarning: A column-vector y was passed when a 1d array was expected. Please change the shape of y to (n_samples,), for example using ravel().\n",
      "  self._final_estimator.fit(Xt, y, **fit_params_last_step)\n",
      "C:\\Users\\rands\\anaconda3\\lib\\site-packages\\sklearn\\pipeline.py:346: DataConversionWarning: A column-vector y was passed when a 1d array was expected. Please change the shape of y to (n_samples,), for example using ravel().\n",
      "  self._final_estimator.fit(Xt, y, **fit_params_last_step)\n",
      "C:\\Users\\rands\\anaconda3\\lib\\site-packages\\sklearn\\pipeline.py:346: DataConversionWarning: A column-vector y was passed when a 1d array was expected. Please change the shape of y to (n_samples,), for example using ravel().\n",
      "  self._final_estimator.fit(Xt, y, **fit_params_last_step)\n",
      "C:\\Users\\rands\\anaconda3\\lib\\site-packages\\sklearn\\pipeline.py:346: DataConversionWarning: A column-vector y was passed when a 1d array was expected. Please change the shape of y to (n_samples,), for example using ravel().\n",
      "  self._final_estimator.fit(Xt, y, **fit_params_last_step)\n"
     ]
    }
   ],
   "source": [
    "rf_default_cv_results_SS_LG = cross_validate(RF_pipe_SS_LG, X_tr_SS_LG, y_tr_y_uns, cv=5)"
   ]
  },
  {
   "cell_type": "code",
   "execution_count": 326,
   "id": "c224bb43",
   "metadata": {},
   "outputs": [
    {
     "data": {
      "text/plain": [
       "array([0.26147755, 0.38978811, 0.44548496, 0.55355222, 0.38528794])"
      ]
     },
     "execution_count": 326,
     "metadata": {},
     "output_type": "execute_result"
    }
   ],
   "source": [
    "rf_cv_scores_SS_LG = rf_default_cv_results_SS_LG['test_score']\n",
    "rf_cv_scores_SS_LG"
   ]
  },
  {
   "cell_type": "code",
   "execution_count": 327,
   "id": "34520253",
   "metadata": {},
   "outputs": [
    {
     "data": {
      "text/plain": [
       "(0.4071181572729383, 0.09476604955141636)"
      ]
     },
     "execution_count": 327,
     "metadata": {},
     "output_type": "execute_result"
    }
   ],
   "source": [
    "np.mean(rf_cv_scores_SS_LG), np.std(rf_cv_scores_SS_LG)"
   ]
  },
  {
   "cell_type": "code",
   "execution_count": 328,
   "id": "4ef8a5f2",
   "metadata": {},
   "outputs": [
    {
     "data": {
      "text/plain": [
       "{'randomforestregressor__n_estimators': [10,\n",
       "  12,\n",
       "  16,\n",
       "  20,\n",
       "  26,\n",
       "  33,\n",
       "  42,\n",
       "  54,\n",
       "  69,\n",
       "  88,\n",
       "  112,\n",
       "  143,\n",
       "  183,\n",
       "  233,\n",
       "  297,\n",
       "  379,\n",
       "  483,\n",
       "  615,\n",
       "  784,\n",
       "  1000],\n",
       " 'standardscaler': [StandardScaler(), None],\n",
       " 'simpleimputer__strategy': ['mean', 'median']}"
      ]
     },
     "execution_count": 328,
     "metadata": {},
     "output_type": "execute_result"
    }
   ],
   "source": [
    "n_est_SS_LG = [int(n) for n in np.logspace(start=1, stop=3, num=20)]\n",
    "grid_params_SS_LG = {\n",
    "        'randomforestregressor__n_estimators': n_est,\n",
    "        'standardscaler': [StandardScaler(), None],\n",
    "        'simpleimputer__strategy': ['mean', 'median']\n",
    "}\n",
    "grid_params_SS_LG"
   ]
  },
  {
   "cell_type": "code",
   "execution_count": 329,
   "id": "907a887e",
   "metadata": {},
   "outputs": [],
   "source": [
    "rf_grid_cv_SS_LG = GridSearchCV(RF_pipe_SS_LG, param_grid=grid_params_SS_LG, cv=5, n_jobs=-1)"
   ]
  },
  {
   "cell_type": "code",
   "execution_count": 330,
   "id": "a24c07d3",
   "metadata": {},
   "outputs": [
    {
     "name": "stderr",
     "output_type": "stream",
     "text": [
      "C:\\Users\\rands\\anaconda3\\lib\\site-packages\\sklearn\\pipeline.py:346: DataConversionWarning: A column-vector y was passed when a 1d array was expected. Please change the shape of y to (n_samples,), for example using ravel().\n",
      "  self._final_estimator.fit(Xt, y, **fit_params_last_step)\n"
     ]
    },
    {
     "data": {
      "text/plain": [
       "GridSearchCV(cv=5,\n",
       "             estimator=Pipeline(steps=[('simpleimputer',\n",
       "                                        SimpleImputer(strategy='median')),\n",
       "                                       ('standardscaler', StandardScaler()),\n",
       "                                       ('randomforestregressor',\n",
       "                                        RandomForestRegressor(random_state=47))]),\n",
       "             n_jobs=-1,\n",
       "             param_grid={'randomforestregressor__n_estimators': [10, 12, 16, 20,\n",
       "                                                                 26, 33, 42, 54,\n",
       "                                                                 69, 88, 112,\n",
       "                                                                 143, 183, 233,\n",
       "                                                                 297, 379, 483,\n",
       "                                                                 615, 784,\n",
       "                                                                 1000],\n",
       "                         'simpleimputer__strategy': ['mean', 'median'],\n",
       "                         'standardscaler': [StandardScaler(), None]})"
      ]
     },
     "execution_count": 330,
     "metadata": {},
     "output_type": "execute_result"
    }
   ],
   "source": [
    "rf_grid_cv_SS_LG.fit(X_tr_SS_LG, y_tr_y_uns)"
   ]
  },
  {
   "cell_type": "code",
   "execution_count": 331,
   "id": "24bda270",
   "metadata": {},
   "outputs": [
    {
     "data": {
      "text/plain": [
       "{'randomforestregressor__n_estimators': 297,\n",
       " 'simpleimputer__strategy': 'mean',\n",
       " 'standardscaler': None}"
      ]
     },
     "execution_count": 331,
     "metadata": {},
     "output_type": "execute_result"
    }
   ],
   "source": [
    "rf_grid_cv_SS_LG.best_params_"
   ]
  },
  {
   "cell_type": "code",
   "execution_count": 332,
   "id": "76c3238d",
   "metadata": {},
   "outputs": [
    {
     "name": "stderr",
     "output_type": "stream",
     "text": [
      "C:\\Users\\rands\\anaconda3\\lib\\site-packages\\sklearn\\pipeline.py:346: DataConversionWarning: A column-vector y was passed when a 1d array was expected. Please change the shape of y to (n_samples,), for example using ravel().\n",
      "  self._final_estimator.fit(Xt, y, **fit_params_last_step)\n",
      "C:\\Users\\rands\\anaconda3\\lib\\site-packages\\sklearn\\pipeline.py:346: DataConversionWarning: A column-vector y was passed when a 1d array was expected. Please change the shape of y to (n_samples,), for example using ravel().\n",
      "  self._final_estimator.fit(Xt, y, **fit_params_last_step)\n",
      "C:\\Users\\rands\\anaconda3\\lib\\site-packages\\sklearn\\pipeline.py:346: DataConversionWarning: A column-vector y was passed when a 1d array was expected. Please change the shape of y to (n_samples,), for example using ravel().\n",
      "  self._final_estimator.fit(Xt, y, **fit_params_last_step)\n",
      "C:\\Users\\rands\\anaconda3\\lib\\site-packages\\sklearn\\pipeline.py:346: DataConversionWarning: A column-vector y was passed when a 1d array was expected. Please change the shape of y to (n_samples,), for example using ravel().\n",
      "  self._final_estimator.fit(Xt, y, **fit_params_last_step)\n",
      "C:\\Users\\rands\\anaconda3\\lib\\site-packages\\sklearn\\pipeline.py:346: DataConversionWarning: A column-vector y was passed when a 1d array was expected. Please change the shape of y to (n_samples,), for example using ravel().\n",
      "  self._final_estimator.fit(Xt, y, **fit_params_last_step)\n"
     ]
    },
    {
     "data": {
      "text/plain": [
       "array([0.34101508, 0.37237672, 0.44164163, 0.58634272, 0.38621366])"
      ]
     },
     "execution_count": 332,
     "metadata": {},
     "output_type": "execute_result"
    }
   ],
   "source": [
    "rf_best_cv_results_SS_LG = cross_validate(rf_grid_cv_SS_LG.best_estimator_, X_tr_SS_LG, y_tr_y_uns, cv=5)\n",
    "rf_best_scores_SS_LG = rf_best_cv_results_SS_LG['test_score']\n",
    "rf_best_scores_SS_LG"
   ]
  },
  {
   "cell_type": "code",
   "execution_count": 333,
   "id": "f62d2a61",
   "metadata": {},
   "outputs": [
    {
     "data": {
      "text/plain": [
       "(0.425517962398687, 0.08675728623732921)"
      ]
     },
     "execution_count": 333,
     "metadata": {},
     "output_type": "execute_result"
    }
   ],
   "source": [
    "np.mean(rf_best_scores_SS_LG), np.std(rf_best_scores_SS_LG)"
   ]
  },
  {
   "cell_type": "code",
   "execution_count": 334,
   "id": "b63bc5c3",
   "metadata": {},
   "outputs": [
    {
     "data": {
      "image/png": "[encoded data removed]",
      "text/plain": [
       "<Figure size 720x360 with 1 Axes>"
      ]
     },
     "metadata": {
      "needs_background": "light"
     },
     "output_type": "display_data"
    }
   ],
   "source": [
    "plt.subplots(figsize=(10, 5))\n",
    "imps_SS_LG = rf_grid_cv_SS_LG.best_estimator_.named_steps.randomforestregressor.feature_importances_\n",
    "rf_feat_imps_SS_LG = pd.Series(imps_SS_LG, index=X_tr_SS_LG.columns).sort_values(ascending=False)\n",
    "rf_feat_imps_SS_LG.plot(kind='bar')\n",
    "plt.xlabel('variables')\n",
    "plt.ylabel('SS & LG ( X only )  |  Importance')\n",
    "plt.title('Best random forest regressor of variable importances');"
   ]
  },
  {
   "cell_type": "code",
   "execution_count": null,
   "id": "2e6444bb",
   "metadata": {},
   "outputs": [],
   "source": []
  },
  {
   "cell_type": "markdown",
   "id": "fbf97de4",
   "metadata": {},
   "source": [
    "## 5.5 Initial Findings<a id='int_find'></a>"
   ]
  },
  {
   "cell_type": "markdown",
   "id": "3ec5a6f6",
   "metadata": {},
   "source": [
    "By and large, `WTI` controlled first place on all five (5) of the structures. It's counterpart `Heating Oil` showed up alongside on four (4) of them, which makes sense as it's a derivative of `WTI`. `WTI` controlling first place may be a result of it being incorporated in just about every activity & purchase made in the United States. For example, a loaf of bread. The grains required to make dough are usually plowed by a tractor using gasoline ( which is made with `WTI` ). It is then transported to a bakery ( using gasoline ). It's then transported to a store, purchased by a customer & driven home ( all using a derivative of `WTI` ). \n",
    "\n",
    "The two (2) variables which showed up near the top on a consistent basis were `Wages CPI` & `Capacity Utilization`. These may be justified as `Wages CPI` is a component of the reported `Inflation` numbers while `Capacity Utilization` is connected to inventory management & price elasticity of demand; if `Capacity Utilization` is low then it may be prudent to assume firms will reduce their prices & conversely.\n",
    "\n",
    "The **optimal k value varied between each structure**. Outlined below are the optimal k values & the variables for each:\n",
    "   * **SS ( X & y ) | 11**\n",
    "     1. WTI\n",
    "     2. Heating Oil\n",
    "     3. Wages CPI\n",
    "     4. Capacity Utilization\n",
    "     5. Lean Hogs\n",
    "     6. Initial Jobless Claims\n",
    "     7. Corn\n",
    "     8. Wheat\n",
    "     9. PMI\n",
    "     10. Sugar\n",
    "     11. Natural Gas\n",
    "   * **SS ( X only ) | 11**\n",
    "     * Same variables & order as SS ( X & y )\n",
    "   * **LG ( X & y ) | 9**\n",
    "     * The first 9 of SS ( X & y ) in the same order\n",
    "   * **LG ( X only ) | 9**\n",
    "     * The first 9 of SS ( X & y ) in the same order\n",
    "   * **SS & LG ( X only ) | 10**\n",
    "     1. WTI\n",
    "     2. Copper\n",
    "     3. Wages CPI\n",
    "     4. Capacity Utilization\n",
    "     5. Unemployment Rate\n",
    "     6. Wheat\n",
    "     7. Sugar\n",
    "     8. Lumber\n",
    "     9. Natural Gas\n",
    "     10. PMI\n",
    "\n",
    "The next step is to drop those that reduced the model’s performance for each & determine what results we are presented with."
   ]
  },
  {
   "cell_type": "code",
   "execution_count": null,
   "id": "30ed68d7",
   "metadata": {},
   "outputs": [],
   "source": []
  },
  {
   "cell_type": "markdown",
   "id": "884f1ad7",
   "metadata": {},
   "source": [
    "## 5.6 Modeling with the Most important Variables<a id='mod_imp'></a>"
   ]
  },
  {
   "cell_type": "markdown",
   "id": "7cec55d6",
   "metadata": {},
   "source": [
    "We will now rerun the modeling process using only those highlighted above. Before so, we will pull back in fresh sets of data to ensure cleanliness & then drop \"the others\"."
   ]
  },
  {
   "cell_type": "code",
   "execution_count": 335,
   "id": "6762bcf3",
   "metadata": {},
   "outputs": [
    {
     "name": "stdout",
     "output_type": "stream",
     "text": [
      "Finished; proceed\n"
     ]
    }
   ],
   "source": [
    "# StandardScaler | X & y scaled\n",
    "X_train_SS_two = pd.read_excel('./_Inflation_Capstone/data/4.0 Pre Processing Data/X_train_SS.xlsx', index_col=None)\n",
    "y_train_SS_two = pd.read_excel('./_Inflation_Capstone/data/4.0 Pre Processing Data/y_train_SS.xlsx', index_col=None)\n",
    "X_test_SS_two = pd.read_excel('./_Inflation_Capstone/data/4.0 Pre Processing Data/X_test_SS.xlsx', index_col=None)\n",
    "y_test_SS_two = pd.read_excel('./_Inflation_Capstone/data/4.0 Pre Processing Data/y_test_SS.xlsx', index_col=None)\n",
    "\n",
    "# Standard Scaler | X only scaled\n",
    "X_train_SS_y_uns_two = pd.read_excel('./_Inflation_Capstone/data/4.0 Pre Processing Data/X_train_SS_y_uns.xlsx', index_col=None)\n",
    "y_train_SS_y_uns_two = pd.read_excel('./_Inflation_Capstone/data/4.0 Pre Processing Data/y_train_SS_y_uns.xlsx', index_col=None)\n",
    "X_test_SS_y_uns_two = pd.read_excel('./_Inflation_Capstone/data/4.0 Pre Processing Data/X_test_SS_y_uns.xlsx', index_col=None)\n",
    "y_test_SS_y_uns_two = pd.read_excel('./_Inflation_Capstone/data/4.0 Pre Processing Data/y_test_SS_y_uns.xlsx', index_col=None)\n",
    "\n",
    "# Log Scaler | X & y scaled\n",
    "X_train_LG_two = pd.read_excel('./_Inflation_Capstone/data/4.0 Pre Processing Data/X_train_LG.xlsx', index_col=None)\n",
    "y_train_LG_two = pd.read_excel('./_Inflation_Capstone/data/4.0 Pre Processing Data/y_train_LG.xlsx', index_col=None)\n",
    "X_test_LG_two = pd.read_excel('./_Inflation_Capstone/data/4.0 Pre Processing Data/X_test_LG.xlsx', index_col=None)\n",
    "y_test_LG_two = pd.read_excel('./_Inflation_Capstone/data/4.0 Pre Processing Data/y_test_LG.xlsx', index_col=None)\n",
    "\n",
    "# Log Scaler | X only scaled\n",
    "X_train_LG_y_uns_two = pd.read_excel('./_Inflation_Capstone/data/4.0 Pre Processing Data/X_train_LG_y_uns.xlsx', index_col=None)\n",
    "y_train_LG_y_uns_two = pd.read_excel('./_Inflation_Capstone/data/4.0 Pre Processing Data/y_train_LG_y_uns.xlsx', index_col=None)\n",
    "X_test_LG_y_uns_two = pd.read_excel('./_Inflation_Capstone/data/4.0 Pre Processing Data/X_test_LG_y_uns.xlsx', index_col=None)\n",
    "y_test_LG_y_uns_two = pd.read_excel('./_Inflation_Capstone/data/4.0 Pre Processing Data/y_test_LG.xlsx', index_col=None)\n",
    "\n",
    "# StandardScaler & Log Combined | X only scaled\n",
    "X_tr_SS_LG_two = pd.read_excel('./_Inflation_Capstone/data/4.0 Pre Processing Data/X_tr_SS_LG.xlsx', index_col=None)\n",
    "y_tr_y_uns_two = pd.read_excel('./_Inflation_Capstone/data/4.0 Pre Processing Data/y_tr_y_uns.xlsx', index_col=None)\n",
    "X_te_SS_LG_two = pd.read_excel('./_Inflation_Capstone/data/4.0 Pre Processing Data/X_te_SS_LG.xlsx', index_col=None)\n",
    "y_te_y_uns_two = pd.read_excel('./_Inflation_Capstone/data/4.0 Pre Processing Data/y_te_y_uns.xlsx', index_col=None)\n",
    "\n",
    "print('Finished; proceed')"
   ]
  },
  {
   "cell_type": "code",
   "execution_count": 336,
   "id": "593b61df",
   "metadata": {},
   "outputs": [
    {
     "data": {
      "text/plain": [
       "Index(['Unnamed: 0', 'Wages CPI_SS', 'WTI_SS', 'Heating Oil_SS', 'Copper_SS',\n",
       "       'Sugar_SS', 'Natural Gas_SS', 'Cattle_SS', 'Lean Hogs_SS',\n",
       "       'Soybeans_SS', 'Lumber_SS', 'Capacity Utilization_SS', 'Corn_SS',\n",
       "       'M2 Velocity_SS', 'GDP_SS', 'Wheat_SS', 'PMI_SS', 'USD Index_SS',\n",
       "       'Unemployment Rate_SS', 'Initial Jobless Claims_SS'],\n",
       "      dtype='object')"
      ]
     },
     "execution_count": 336,
     "metadata": {},
     "output_type": "execute_result"
    }
   ],
   "source": [
    "X_train_SS_two.columns"
   ]
  },
  {
   "cell_type": "code",
   "execution_count": 337,
   "id": "308e2d3e",
   "metadata": {},
   "outputs": [],
   "source": [
    "y_drop_cols = ['Unnamed: 0']"
   ]
  },
  {
   "cell_type": "code",
   "execution_count": 338,
   "id": "23da8e33",
   "metadata": {},
   "outputs": [],
   "source": [
    "X_drop_cols_SS = ['Unnamed: 0', 'Copper_SS','Cattle_SS', 'Soybeans_SS', 'Lumber_SS',\n",
    "       'M2 Velocity_SS', 'GDP_SS', 'USD Index_SS','Unemployment Rate_SS']"
   ]
  },
  {
   "cell_type": "code",
   "execution_count": 339,
   "id": "80111513",
   "metadata": {},
   "outputs": [
    {
     "name": "stdout",
     "output_type": "stream",
     "text": [
      "Finished; proceed\n"
     ]
    }
   ],
   "source": [
    "# StandardScaler | X & y scaled\n",
    "X_train_SS_two.drop(columns=X_drop_cols_SS, inplace=True)\n",
    "y_train_SS_two.drop(columns=y_drop_cols, inplace=True)\n",
    "X_test_SS_two.drop(columns=X_drop_cols_SS, inplace=True)\n",
    "y_test_SS_two.drop(columns=y_drop_cols, inplace=True)\n",
    "\n",
    "print('Finished; proceed')"
   ]
  },
  {
   "cell_type": "code",
   "execution_count": 340,
   "id": "2d9ea42f",
   "metadata": {},
   "outputs": [],
   "source": [
    "X_drop_cols_SS_yun = ['Unnamed: 0', 'Copper_SS_yun','Cattle_SS_yun', 'Soybeans_SS_yun', 'Lumber_SS_yun',\n",
    "       'M2 Velocity_SS_yun', 'GDP_SS_yun', 'USD Index_SS_yun','Unemployment Rate_SS_yun']"
   ]
  },
  {
   "cell_type": "code",
   "execution_count": 341,
   "id": "95f57a51",
   "metadata": {},
   "outputs": [
    {
     "name": "stdout",
     "output_type": "stream",
     "text": [
      "Finished; proceed\n"
     ]
    }
   ],
   "source": [
    "# StandardScaler | X & y scaled\n",
    "X_train_SS_y_uns_two.drop(columns=X_drop_cols_SS_yun, inplace=True)\n",
    "y_train_SS_y_uns_two.drop(columns=y_drop_cols, inplace=True)\n",
    "X_test_SS_y_uns_two.drop(columns=X_drop_cols_SS_yun, inplace=True)\n",
    "y_test_SS_y_uns_two.drop(columns=y_drop_cols, inplace=True)\n",
    "\n",
    "print('Finished; proceed')"
   ]
  },
  {
   "cell_type": "code",
   "execution_count": 342,
   "id": "5c5470bf",
   "metadata": {},
   "outputs": [
    {
     "data": {
      "text/html": [
       "<div>\n",
       "<style scoped>\n",
       "    .dataframe tbody tr th:only-of-type {\n",
       "        vertical-align: middle;\n",
       "    }\n",
       "\n",
       "    .dataframe tbody tr th {\n",
       "        vertical-align: top;\n",
       "    }\n",
       "\n",
       "    .dataframe thead th {\n",
       "        text-align: right;\n",
       "    }\n",
       "</style>\n",
       "<table border=\"1\" class=\"dataframe\">\n",
       "  <thead>\n",
       "    <tr style=\"text-align: right;\">\n",
       "      <th></th>\n",
       "      <th>Unnamed: 0</th>\n",
       "      <th>Wage CPI_LG</th>\n",
       "      <th>WTI_LG</th>\n",
       "      <th>Heating Oil_LG</th>\n",
       "      <th>Copper_LG</th>\n",
       "      <th>Sugar_LG</th>\n",
       "      <th>Natural Gas_LG</th>\n",
       "      <th>Cattle_LG</th>\n",
       "      <th>Lean Hogs_LG</th>\n",
       "      <th>Soybeans_LG</th>\n",
       "      <th>Lumber_LG</th>\n",
       "      <th>Capacity Utilization_LG</th>\n",
       "      <th>Corn_LG</th>\n",
       "      <th>M2 Velocity_LG</th>\n",
       "      <th>GDP_LG</th>\n",
       "      <th>Wheat_LG</th>\n",
       "      <th>PMI_LG</th>\n",
       "      <th>USD Index_LG</th>\n",
       "      <th>Unemployment Rate_LG</th>\n",
       "      <th>Initial Jobless Claims_LG</th>\n",
       "    </tr>\n",
       "  </thead>\n",
       "  <tbody>\n",
       "    <tr>\n",
       "      <th>0</th>\n",
       "      <td>206</td>\n",
       "      <td>-0.14655</td>\n",
       "      <td>0.279614</td>\n",
       "      <td>0.427785</td>\n",
       "      <td>-0.69986</td>\n",
       "      <td>0.652751</td>\n",
       "      <td>-0.446266</td>\n",
       "      <td>0.286163</td>\n",
       "      <td>-0.838841</td>\n",
       "      <td>1.612618</td>\n",
       "      <td>-1.240078</td>\n",
       "      <td>0.301428</td>\n",
       "      <td>1.581462</td>\n",
       "      <td>-0.561862</td>\n",
       "      <td>-0.409835</td>\n",
       "      <td>2.004633</td>\n",
       "      <td>-0.951198</td>\n",
       "      <td>-1.720193</td>\n",
       "      <td>-0.145277</td>\n",
       "      <td>0.01184</td>\n",
       "    </tr>\n",
       "  </tbody>\n",
       "</table>\n",
       "</div>"
      ],
      "text/plain": [
       "   Unnamed: 0  Wage CPI_LG    WTI_LG  Heating Oil_LG  Copper_LG  Sugar_LG  \\\n",
       "0         206     -0.14655  0.279614        0.427785   -0.69986  0.652751   \n",
       "\n",
       "   Natural Gas_LG  Cattle_LG  Lean Hogs_LG  Soybeans_LG  Lumber_LG  \\\n",
       "0       -0.446266   0.286163     -0.838841     1.612618  -1.240078   \n",
       "\n",
       "   Capacity Utilization_LG   Corn_LG  M2 Velocity_LG    GDP_LG  Wheat_LG  \\\n",
       "0                 0.301428  1.581462       -0.561862 -0.409835  2.004633   \n",
       "\n",
       "     PMI_LG  USD Index_LG  Unemployment Rate_LG  Initial Jobless Claims_LG  \n",
       "0 -0.951198     -1.720193             -0.145277                    0.01184  "
      ]
     },
     "execution_count": 342,
     "metadata": {},
     "output_type": "execute_result"
    }
   ],
   "source": [
    "X_train_LG_two.head(1)"
   ]
  },
  {
   "cell_type": "code",
   "execution_count": 343,
   "id": "d05991cd",
   "metadata": {},
   "outputs": [],
   "source": [
    "X_drop_cols_LG = ['Unnamed: 0', 'Copper_LG','Cattle_LG', 'Soybeans_LG', 'Lumber_LG',\n",
    "       'M2 Velocity_LG', 'GDP_LG', 'USD Index_LG','Unemployment Rate_LG','Natural Gas_LG','Sugar_LG']"
   ]
  },
  {
   "cell_type": "code",
   "execution_count": 344,
   "id": "fcd13913",
   "metadata": {},
   "outputs": [
    {
     "name": "stdout",
     "output_type": "stream",
     "text": [
      "Finished; proceed\n"
     ]
    }
   ],
   "source": [
    "# Log Scaler | X & y scaled\n",
    "X_train_LG_two.drop(columns=X_drop_cols_LG, inplace=True)\n",
    "y_train_LG_two.drop(columns=y_drop_cols, inplace=True)\n",
    "X_test_LG_two.drop(columns=X_drop_cols_LG, inplace=True)\n",
    "y_test_LG_two.drop(columns=y_drop_cols, inplace=True)\n",
    "print('Finished; proceed')"
   ]
  },
  {
   "cell_type": "code",
   "execution_count": 345,
   "id": "2245083a",
   "metadata": {},
   "outputs": [
    {
     "data": {
      "text/plain": [
       "Index(['Unnamed: 0', 'WTI_SS_yun', 'Copper_SS_yun', 'Soybeans_SS_yun',\n",
       "       'Natural Gas_SS_yun', 'Heating Oil_SS_yun', 'Corn_SS_yun',\n",
       "       'Wheat_SS_yun', 'Cattle_SS_yun', 'Lean Hogs_SS_yun', 'Sugar_SS_yun',\n",
       "       'Lumber_SS_yun', 'PMI_SS_yun', 'USD Index_SS_yun', 'Wages CPI_LG',\n",
       "       'Capacity Utilization_LG', 'GDP_LG', 'M2 Velocity_LG',\n",
       "       'Initial Jobless Claims_LG', 'Unemployment Rate_LG'],\n",
       "      dtype='object')"
      ]
     },
     "execution_count": 345,
     "metadata": {},
     "output_type": "execute_result"
    }
   ],
   "source": [
    "X_tr_SS_LG_two.columns"
   ]
  },
  {
   "cell_type": "code",
   "execution_count": 346,
   "id": "f9ef01dd",
   "metadata": {},
   "outputs": [],
   "source": [
    "X_drop_cols_SS_LG = ['Unnamed: 0', 'Soybeans_SS_yun','Heating Oil_SS_yun', 'Corn_SS_yun',\n",
    "                  'Cattle_SS_yun', 'Lean Hogs_SS_yun','USD Index_SS_yun','GDP_LG',\n",
    "                  'M2 Velocity_LG','Initial Jobless Claims_LG']"
   ]
  },
  {
   "cell_type": "code",
   "execution_count": 347,
   "id": "f831202c",
   "metadata": {
    "scrolled": true
   },
   "outputs": [
    {
     "name": "stdout",
     "output_type": "stream",
     "text": [
      "Finished; proceed\n"
     ]
    }
   ],
   "source": [
    "# StandardScaler & Log Combined | X only scaled\n",
    "X_tr_SS_LG_two.drop(columns=X_drop_cols_SS_LG, inplace=True)\n",
    "y_tr_y_uns_two.drop(columns=y_drop_cols, inplace=True)\n",
    "X_te_SS_LG_two.drop(columns=X_drop_cols_SS_LG, inplace=True)\n",
    "y_te_y_uns_two.drop(columns=y_drop_cols, inplace=True)\n",
    "print('Finished; proceed')"
   ]
  },
  {
   "cell_type": "markdown",
   "id": "adaaa296",
   "metadata": {},
   "source": [
    "The variables we did not wish to include are now removed; next to model."
   ]
  },
  {
   "cell_type": "markdown",
   "id": "3c8a9a6c",
   "metadata": {},
   "source": [
    "**5.6.1 X & y ( `_SS_two` )**<a id='ss_imp'></a>"
   ]
  },
  {
   "cell_type": "code",
   "execution_count": 348,
   "id": "3965d333",
   "metadata": {},
   "outputs": [
    {
     "name": "stderr",
     "output_type": "stream",
     "text": [
      "C:\\Users\\rands\\anaconda3\\lib\\site-packages\\sklearn\\utils\\validation.py:70: FutureWarning: Pass fit_intercept=     Wages CPI_SS    WTI_SS  Heating Oil_SS  Sugar_SS  Natural Gas_SS  \\\n",
      "0       -0.034522  0.337816        0.481291  0.523783       -0.489975   \n",
      "1       -0.006641  0.173265       -0.160271 -0.083423        0.835685   \n",
      "2        0.734313  1.289719        1.601918  0.422772        1.545136   \n",
      "3        0.198463  0.493904       -0.159112 -0.987941       -0.619715   \n",
      "4        0.416816 -0.890056       -0.967141 -0.279105        2.130671   \n",
      "..            ...       ...             ...       ...             ...   \n",
      "219      0.500885  0.543732        0.674641  1.144592        0.492504   \n",
      "220     -2.361064 -2.426381       -1.658603 -0.898251       -1.518032   \n",
      "221     -0.272516  0.701845       -0.047781 -0.717397       -1.359891   \n",
      "222      0.617031  0.670212        0.273391  0.417402        0.283614   \n",
      "223     -0.633720 -0.712655       -0.710510 -1.025368       -0.576589   \n",
      "\n",
      "     Lean Hogs_SS  Capacity Utilization_SS   Corn_SS  Wheat_SS    PMI_SS  \\\n",
      "0       -0.846294                 0.380461  1.639062  2.321408 -0.938107   \n",
      "1        1.791885                 0.740312  0.731243  0.119914 -0.133622   \n",
      "2        0.961819                -0.736607  1.862612 -0.337477 -0.155662   \n",
      "3       -0.155382                 0.864802  0.509190  0.679329  0.097806   \n",
      "4        0.149382                -1.376351  0.605903  0.261332 -2.095244   \n",
      "..            ...                      ...       ...       ...       ...   \n",
      "219      1.363114                 0.474122 -0.692042 -0.916693  0.031684   \n",
      "220     -1.935794                -0.873522  0.200441 -0.503971 -1.445044   \n",
      "221     -0.297631                 0.515744 -0.382067 -0.277887  0.130867   \n",
      "222      0.620958                 0.089009  1.252416  0.519408  0.450457   \n",
      "223     -0.080658                 0.077615 -0.518853 -0.204043 -0.078520   \n",
      "\n",
      "     Initial Jobless Claims_SS  \n",
      "0                    -0.026100  \n",
      "1                    -0.193842  \n",
      "2                     1.119452  \n",
      "3                    -0.410678  \n",
      "4                     2.023621  \n",
      "..                         ...  \n",
      "219                   0.186645  \n",
      "220                   0.170280  \n",
      "221                  -1.204383  \n",
      "222                   0.321657  \n",
      "223                   0.538494  \n",
      "\n",
      "[224 rows x 11 columns], normalize=     Inflation_SS\n",
      "0        0.486230\n",
      "1        0.403266\n",
      "2        0.147553\n",
      "3        0.423723\n",
      "4        0.078226\n",
      "..            ...\n",
      "219      0.780584\n",
      "220     -0.965083\n",
      "221     -0.616177\n",
      "222      0.170283\n",
      "223     -1.143514\n",
      "\n",
      "[224 rows x 1 columns] as keyword args. From version 1.0 (renaming of 0.25) passing these as positional arguments will result in an error\n",
      "  warnings.warn(f\"Pass {args_msg} as keyword args. From version \"\n"
     ]
    }
   ],
   "source": [
    "reg_all_SS = LinearRegression(X_train_SS_two,y_train_SS_two)"
   ]
  },
  {
   "cell_type": "code",
   "execution_count": 349,
   "id": "183bedd4",
   "metadata": {},
   "outputs": [],
   "source": [
    "lm = LinearRegression().fit(X_train_SS_two,y_train_SS_two)"
   ]
  },
  {
   "cell_type": "code",
   "execution_count": 350,
   "id": "08a5592c",
   "metadata": {},
   "outputs": [],
   "source": [
    "y_tr_pred_SS_two = lm.predict(X_train_SS_two)\n",
    "y_te_pred_SS_two = lm.predict(X_test_SS_two)"
   ]
  },
  {
   "cell_type": "code",
   "execution_count": 351,
   "id": "6be6406e",
   "metadata": {},
   "outputs": [
    {
     "data": {
      "text/plain": [
       "(0.4919716583771264, 0.2705682608756448)"
      ]
     },
     "execution_count": 351,
     "metadata": {},
     "output_type": "execute_result"
    }
   ],
   "source": [
    "median_r2_SS = r2_score(y_train_SS_two, y_tr_pred_SS_two), r2_score(y_test_SS_two, y_te_pred_SS_two)\n",
    "median_r2_SS"
   ]
  },
  {
   "cell_type": "code",
   "execution_count": 352,
   "id": "61d793cd",
   "metadata": {},
   "outputs": [
    {
     "data": {
      "text/plain": [
       "(0.5143454301589306, 0.6132569313826873)"
      ]
     },
     "execution_count": 352,
     "metadata": {},
     "output_type": "execute_result"
    }
   ],
   "source": [
    "median_mae_SS = mean_absolute_error( y_train_SS_two, y_tr_pred_SS_two ), mean_absolute_error( y_test_SS_two, y_te_pred_SS_two )\n",
    "median_mae_SS"
   ]
  },
  {
   "cell_type": "code",
   "execution_count": 353,
   "id": "2887f28d",
   "metadata": {},
   "outputs": [
    {
     "data": {
      "text/plain": [
       "(0.5080283416228736, 0.677602118684446)"
      ]
     },
     "execution_count": 353,
     "metadata": {},
     "output_type": "execute_result"
    }
   ],
   "source": [
    "median_mse_SS = mean_squared_error( y_train_SS_two, y_tr_pred_SS_two ), mean_squared_error( y_test_SS_two, y_te_pred_SS_two )\n",
    "median_mse_SS"
   ]
  },
  {
   "cell_type": "code",
   "execution_count": null,
   "id": "b3136d5d",
   "metadata": {},
   "outputs": [],
   "source": []
  },
  {
   "cell_type": "markdown",
   "id": "d260904a",
   "metadata": {},
   "source": [
    "**5.6.2 X only ( `_SS_y_uns_two` )**<a id='ss_imp_uns'></a>"
   ]
  },
  {
   "cell_type": "code",
   "execution_count": 354,
   "id": "0c25ef93",
   "metadata": {},
   "outputs": [
    {
     "name": "stderr",
     "output_type": "stream",
     "text": [
      "C:\\Users\\rands\\anaconda3\\lib\\site-packages\\sklearn\\utils\\validation.py:70: FutureWarning: Pass fit_intercept=     Wage CPI_SS_yun  WTI_SS_yun  Heating Oil_SS_yun  Sugar_SS_yun  \\\n",
      "0          -0.034522    0.337816            0.481291      0.523783   \n",
      "1          -0.006641    0.173265           -0.160271     -0.083423   \n",
      "2           0.734313    1.289719            1.601918      0.422772   \n",
      "3           0.198463    0.493904           -0.159112     -0.987941   \n",
      "4           0.416816   -0.890056           -0.967141     -0.279105   \n",
      "..               ...         ...                 ...           ...   \n",
      "219         0.500885    0.543732            0.674641      1.144592   \n",
      "220        -2.361064   -2.426381           -1.658603     -0.898251   \n",
      "221        -0.272516    0.701845           -0.047781     -0.717397   \n",
      "222         0.617031    0.670212            0.273391      0.417402   \n",
      "223        -0.633720   -0.712655           -0.710510     -1.025368   \n",
      "\n",
      "     Natural Gas_SS_yun  Lean Hogs_SS_yun  Capacity Utilization_SS_yun  \\\n",
      "0             -0.489975         -0.846294                     0.380461   \n",
      "1              0.835685          1.791885                     0.740312   \n",
      "2              1.545136          0.961819                    -0.736607   \n",
      "3             -0.619715         -0.155382                     0.864802   \n",
      "4              2.130671          0.149382                    -1.376351   \n",
      "..                  ...               ...                          ...   \n",
      "219            0.492504          1.363114                     0.474122   \n",
      "220           -1.518032         -1.935794                    -0.873522   \n",
      "221           -1.359891         -0.297631                     0.515744   \n",
      "222            0.283614          0.620958                     0.089009   \n",
      "223           -0.576589         -0.080658                     0.077615   \n",
      "\n",
      "     Corn_SS_yun  Wheat_SS_yun  PMI_SS_yun  Initial Jobless Claims_SS_yun  \n",
      "0       1.639062      2.321408   -0.938107                      -0.026100  \n",
      "1       0.731243      0.119914   -0.133622                      -0.193842  \n",
      "2       1.862612     -0.337477   -0.155662                       1.119452  \n",
      "3       0.509190      0.679329    0.097806                      -0.410678  \n",
      "4       0.605903      0.261332   -2.095244                       2.023621  \n",
      "..           ...           ...         ...                            ...  \n",
      "219    -0.692042     -0.916693    0.031684                       0.186645  \n",
      "220     0.200441     -0.503971   -1.445044                       0.170280  \n",
      "221    -0.382067     -0.277887    0.130867                      -1.204383  \n",
      "222     1.252416      0.519408    0.450457                       0.321657  \n",
      "223    -0.518853     -0.204043   -0.078520                       0.538494  \n",
      "\n",
      "[224 rows x 11 columns], normalize=     Inflation\n",
      "0        0.447\n",
      "1        0.374\n",
      "2        0.149\n",
      "3        0.392\n",
      "4        0.088\n",
      "..         ...\n",
      "219      0.706\n",
      "220     -0.830\n",
      "221     -0.523\n",
      "222      0.169\n",
      "223     -0.987\n",
      "\n",
      "[224 rows x 1 columns] as keyword args. From version 1.0 (renaming of 0.25) passing these as positional arguments will result in an error\n",
      "  warnings.warn(f\"Pass {args_msg} as keyword args. From version \"\n"
     ]
    }
   ],
   "source": [
    "reg_all_SS_y_uns = LinearRegression(X_train_SS_y_uns_two,y_train_SS_y_uns_two)"
   ]
  },
  {
   "cell_type": "code",
   "execution_count": 355,
   "id": "b92cfa98",
   "metadata": {},
   "outputs": [],
   "source": [
    "lm = LinearRegression().fit(X_train_SS_y_uns_two,y_train_SS_y_uns_two)"
   ]
  },
  {
   "cell_type": "code",
   "execution_count": 356,
   "id": "ad4bfd3c",
   "metadata": {},
   "outputs": [],
   "source": [
    "y_tr_pred_SS_y_uns_two = lm.predict(X_train_SS_y_uns_two)\n",
    "y_te_pred_SS_y_uns_two = lm.predict(X_test_SS_y_uns_two)"
   ]
  },
  {
   "cell_type": "code",
   "execution_count": 357,
   "id": "c991bbc6",
   "metadata": {},
   "outputs": [
    {
     "data": {
      "text/plain": [
       "(0.4919716583771264, 0.2734061000086945)"
      ]
     },
     "execution_count": 357,
     "metadata": {},
     "output_type": "execute_result"
    }
   ],
   "source": [
    "median_r2_SS_y_uns_two = r2_score(y_train_SS_y_uns_two, y_tr_pred_SS_y_uns_two), r2_score(y_test_SS_y_uns_two, y_te_pred_SS_y_uns_two)\n",
    "median_r2_SS_y_uns_two"
   ]
  },
  {
   "cell_type": "code",
   "execution_count": 358,
   "id": "6bb6ceb2",
   "metadata": {},
   "outputs": [
    {
     "data": {
      "text/plain": [
       "(0.4525686860994493, 0.6034250403588892)"
      ]
     },
     "execution_count": 358,
     "metadata": {},
     "output_type": "execute_result"
    }
   ],
   "source": [
    "median_mae_SS_y_uns_two = mean_absolute_error( y_train_SS_y_uns_two, y_tr_pred_SS_y_uns_two ), mean_absolute_error( y_test_SS_y_uns_two, y_te_pred_SS_y_uns_two )\n",
    "median_mae_SS_y_uns_two"
   ]
  },
  {
   "cell_type": "code",
   "execution_count": 359,
   "id": "3fd6ea4a",
   "metadata": {},
   "outputs": [
    {
     "data": {
      "text/plain": [
       "(0.3933210341283799, 0.6749659216204842)"
      ]
     },
     "execution_count": 359,
     "metadata": {},
     "output_type": "execute_result"
    }
   ],
   "source": [
    "median_mse_SS_y_uns_two = mean_squared_error( y_train_SS_y_uns_two, y_tr_pred_SS_y_uns_two ), mean_squared_error( y_test_SS_y_uns_two, y_te_pred_SS_y_uns_two )\n",
    "median_mse_SS_y_uns_two"
   ]
  },
  {
   "cell_type": "code",
   "execution_count": null,
   "id": "a9ecc776",
   "metadata": {},
   "outputs": [],
   "source": []
  },
  {
   "cell_type": "markdown",
   "id": "d1b7bbab",
   "metadata": {},
   "source": [
    "**5.6.3 X & y ( `_LG_two` )**<a id='lg_imp'></a>"
   ]
  },
  {
   "cell_type": "code",
   "execution_count": 360,
   "id": "f6723161",
   "metadata": {},
   "outputs": [
    {
     "name": "stderr",
     "output_type": "stream",
     "text": [
      "C:\\Users\\rands\\anaconda3\\lib\\site-packages\\sklearn\\utils\\validation.py:70: FutureWarning: Pass fit_intercept=     Wage CPI_LG    WTI_LG  Heating Oil_LG  Lean Hogs_LG  \\\n",
      "0      -0.146550  0.279614        0.427785     -0.838841   \n",
      "1      -0.115504  0.104109       -0.252962      1.692675   \n",
      "2       0.782497  1.383236        1.816585      0.972792   \n",
      "3       0.118776  0.450241       -0.251805     -0.101458   \n",
      "4       0.379946 -0.925203       -0.999705      0.205224   \n",
      "..           ...       ...             ...           ...   \n",
      "219     0.483850  0.505562        0.649033      1.328205   \n",
      "220    -2.171560 -2.155485       -1.559820     -2.119326   \n",
      "221    -0.404027  0.683840       -0.139463     -0.248476   \n",
      "222     0.630556  0.647840        0.198259      0.659047   \n",
      "223    -0.770120 -0.765238       -0.774157     -0.025231   \n",
      "\n",
      "     Capacity Utilization_LG   Corn_LG  Wheat_LG    PMI_LG  \\\n",
      "0                   0.301428  1.581462  2.004633 -0.951198   \n",
      "1                   0.778567  0.754859  0.237863 -0.085424   \n",
      "2                  -0.888342  1.776340 -0.252099 -0.108106   \n",
      "3                   0.956034  0.543306  0.769372  0.146970   \n",
      "4                  -1.409711  0.635929  0.378790 -2.273039   \n",
      "..                       ...       ...       ...       ...   \n",
      "219                 0.420679 -0.675295 -0.954710  0.081623   \n",
      "220                -1.008469  0.242437 -0.444366 -1.522358   \n",
      "221                 0.474764 -0.348177 -0.185135  0.179386   \n",
      "222                -0.048765  1.236578  0.624320  0.485959   \n",
      "223                -0.061837 -0.491431 -0.103489 -0.029114   \n",
      "\n",
      "     Initial Jobless Claims_LG  \n",
      "0                     0.011840  \n",
      "1                    -0.165063  \n",
      "2                     1.092064  \n",
      "3                    -0.394806  \n",
      "4                     1.923796  \n",
      "..                         ...  \n",
      "219                   0.226740  \n",
      "220                   0.211342  \n",
      "221                  -1.240537  \n",
      "222                   0.353098  \n",
      "223                   0.554809  \n",
      "\n",
      "[224 rows x 9 columns], normalize=     Inflation_LG\n",
      "0        0.481081\n",
      "1        0.397291\n",
      "2        0.139862\n",
      "3        0.417940\n",
      "4        0.070305\n",
      "..            ...\n",
      "219      0.779292\n",
      "220     -0.964421\n",
      "221     -0.620533\n",
      "222      0.162690\n",
      "223     -1.139635\n",
      "\n",
      "[224 rows x 1 columns] as keyword args. From version 1.0 (renaming of 0.25) passing these as positional arguments will result in an error\n",
      "  warnings.warn(f\"Pass {args_msg} as keyword args. From version \"\n"
     ]
    }
   ],
   "source": [
    "reg_all_LG_two = LinearRegression(X_train_LG_two,y_train_LG_two)"
   ]
  },
  {
   "cell_type": "code",
   "execution_count": 361,
   "id": "829a80f6",
   "metadata": {},
   "outputs": [],
   "source": [
    "lm = LinearRegression().fit(X_train_LG_two,y_train_LG_two)"
   ]
  },
  {
   "cell_type": "code",
   "execution_count": 362,
   "id": "86cd1a9f",
   "metadata": {},
   "outputs": [],
   "source": [
    "y_tr_pred_LG_two = lm.predict(X_train_LG_two)\n",
    "y_te_pred_LG_two = lm.predict(X_test_LG_two)"
   ]
  },
  {
   "cell_type": "code",
   "execution_count": 363,
   "id": "aa1bbeb3",
   "metadata": {},
   "outputs": [
    {
     "data": {
      "text/plain": [
       "(0.4682408433685529, 0.28624066156229744)"
      ]
     },
     "execution_count": 363,
     "metadata": {},
     "output_type": "execute_result"
    }
   ],
   "source": [
    "median_r2_LG_two = r2_score(y_train_LG_two, y_tr_pred_LG_two), r2_score(y_test_LG_two, y_te_pred_LG_two)\n",
    "median_r2_LG_two"
   ]
  },
  {
   "cell_type": "code",
   "execution_count": 364,
   "id": "fd8235d5",
   "metadata": {},
   "outputs": [
    {
     "data": {
      "text/plain": [
       "(0.5261462015762275, 0.5954907834816847)"
      ]
     },
     "execution_count": 364,
     "metadata": {},
     "output_type": "execute_result"
    }
   ],
   "source": [
    "median_mae_LG_two = mean_absolute_error( y_train_LG_two, y_tr_pred_LG_two ), mean_absolute_error( y_test_LG_two, y_te_pred_LG_two )\n",
    "median_mae_LG_two"
   ]
  },
  {
   "cell_type": "code",
   "execution_count": 365,
   "id": "98ca6b78",
   "metadata": {},
   "outputs": [
    {
     "data": {
      "text/plain": [
       "(0.5317591566314471, 0.6676492142587368)"
      ]
     },
     "execution_count": 365,
     "metadata": {},
     "output_type": "execute_result"
    }
   ],
   "source": [
    "median_mse_LG_two = mean_squared_error( y_train_LG_two, y_tr_pred_LG_two ), mean_squared_error( y_test_LG_two, y_te_pred_LG_two )\n",
    "median_mse_LG_two"
   ]
  },
  {
   "cell_type": "code",
   "execution_count": null,
   "id": "942b3dae",
   "metadata": {},
   "outputs": [],
   "source": []
  },
  {
   "cell_type": "markdown",
   "id": "3630728c",
   "metadata": {},
   "source": [
    "**5.6.4 X & y ( `_LG_y_uns_two` )**<a id='ss_lg_imp'></a>"
   ]
  },
  {
   "cell_type": "code",
   "execution_count": 366,
   "id": "03ba36a7",
   "metadata": {},
   "outputs": [
    {
     "name": "stderr",
     "output_type": "stream",
     "text": [
      "C:\\Users\\rands\\anaconda3\\lib\\site-packages\\sklearn\\utils\\validation.py:70: FutureWarning: Pass fit_intercept=     Unnamed: 0  Wage CPI_LG    WTI_LG  Heating Oil_LG  Copper_LG  Sugar_LG  \\\n",
      "0           206    -0.146550  0.279614        0.427785  -0.699860  0.652751   \n",
      "1            81    -0.115504  0.104109       -0.252962  -0.590661  0.053145   \n",
      "2           147     0.782497  1.383236        1.816585   1.595217  0.560180   \n",
      "3            39     0.118776  0.450241       -0.251805  -0.140201 -1.065297   \n",
      "4           222     0.379946 -0.925203       -0.999705  -0.516578 -0.164412   \n",
      "..          ...          ...       ...             ...        ...       ...   \n",
      "219         188     0.483850  0.505562        0.649033  -0.527407  1.168459   \n",
      "220          71    -2.171560 -2.155485       -1.559820  -1.076619 -0.941106   \n",
      "221         106    -0.404027  0.683840       -0.139463  -0.024408 -0.699876   \n",
      "222         270     0.630556  0.647840        0.198259  -0.880771  0.555184   \n",
      "223         102    -0.770120 -0.765238       -0.774157  -0.592501 -1.118028   \n",
      "\n",
      "     Natural Gas_LG  Cattle_LG  Lean Hogs_LG  Soybeans_LG  Lumber_LG  \\\n",
      "0         -0.446266   0.286163     -0.838841     1.612618  -1.240078   \n",
      "1          0.860760   1.015421      1.692675     0.686998  -0.490339   \n",
      "2          1.478134  -0.388659      0.972792     0.788584  -0.405007   \n",
      "3         -0.587029   0.136703     -0.101458     0.368286   0.836211   \n",
      "4          1.953772   1.841313      0.205224    -0.090561  -0.546419   \n",
      "..              ...        ...           ...          ...        ...   \n",
      "219        0.543508   0.995984      1.328205    -0.711618   0.442603   \n",
      "220       -1.626094  -0.805307     -2.119326    -0.248360  -0.812350   \n",
      "221       -1.435113   0.243299     -0.248476    -0.412234   0.443139   \n",
      "222        0.343725  -1.148761      0.659047     0.441677   0.799341   \n",
      "223       -0.539975  -0.966256     -0.025231     0.816698   0.422660   \n",
      "\n",
      "     Capacity Utilization_LG   Corn_LG  M2 Velocity_LG    GDP_LG  Wheat_LG  \\\n",
      "0                   0.301428  1.581462       -0.561862 -0.409835  2.004633   \n",
      "1                   0.778567  0.754859        0.335602  0.975811  0.237863   \n",
      "2                  -0.888342  1.776340       -0.342567 -0.152156 -0.252099   \n",
      "3                   0.956034  0.543306        0.632589  0.780625  0.769372   \n",
      "4                  -1.409711  0.635929       -1.265553 -1.091741  0.378790   \n",
      "..                       ...       ...             ...       ...       ...   \n",
      "219                 0.420679 -0.675295        0.445748  0.565776 -0.954710   \n",
      "220                -1.008469  0.242437       -0.686744 -0.550121 -0.444366   \n",
      "221                 0.474764 -0.348177       -0.212808  0.332629 -0.185135   \n",
      "222                -0.048765  1.236578        0.758062  1.348049  0.624320   \n",
      "223                -0.061837 -0.491431       -0.415499 -0.443879 -0.103489   \n",
      "\n",
      "       PMI_LG  USD Index_LG  Unemployment Rate_LG  Initial Jobless Claims_LG  \n",
      "0   -0.951198     -1.720193             -0.145277                   0.011840  \n",
      "1   -0.085424     -0.095431             -0.512725                  -0.165063  \n",
      "2   -0.108106     -1.354422              0.809051                   1.092064  \n",
      "3    0.146970     -0.954967             -0.028401                  -0.394806  \n",
      "4   -2.273039     -0.811375              0.809051                   1.923796  \n",
      "..        ...           ...                   ...                        ...  \n",
      "219  0.081623      0.494427             -0.145277                   0.226740  \n",
      "220 -1.522358      2.322260             -0.387456                   0.211342  \n",
      "221  0.179386      0.942254             -1.466102                  -1.240537  \n",
      "222  0.485959      0.702842             -0.028401                   0.353098  \n",
      "223 -0.029114      0.484913             -0.028401                   0.554809  \n",
      "\n",
      "[224 rows x 20 columns], normalize=     Unnamed: 0  Inflation\n",
      "0           206      0.447\n",
      "1            81      0.374\n",
      "2           147      0.149\n",
      "3            39      0.392\n",
      "4           222      0.088\n",
      "..          ...        ...\n",
      "219         188      0.706\n",
      "220          71     -0.830\n",
      "221         106     -0.523\n",
      "222         270      0.169\n",
      "223         102     -0.987\n",
      "\n",
      "[224 rows x 2 columns] as keyword args. From version 1.0 (renaming of 0.25) passing these as positional arguments will result in an error\n",
      "  warnings.warn(f\"Pass {args_msg} as keyword args. From version \"\n"
     ]
    }
   ],
   "source": [
    "reg_all_LG_y_uns_two = LinearRegression(X_train_LG_y_uns_two,y_train_LG_y_uns_two)"
   ]
  },
  {
   "cell_type": "code",
   "execution_count": 367,
   "id": "79666934",
   "metadata": {},
   "outputs": [],
   "source": [
    "lm = LinearRegression().fit(X_train_LG_y_uns_two,y_train_LG_y_uns_two)"
   ]
  },
  {
   "cell_type": "code",
   "execution_count": 368,
   "id": "44afc44c",
   "metadata": {},
   "outputs": [],
   "source": [
    "y_tr_pred_LG_y_uns_two = lm.predict(X_train_LG_y_uns_two)\n",
    "y_te_pred_LG_y_uns_two = lm.predict(X_test_LG_y_uns_two)"
   ]
  },
  {
   "cell_type": "code",
   "execution_count": 369,
   "id": "d0e1d255",
   "metadata": {},
   "outputs": [
    {
     "data": {
      "text/plain": [
       "(0.7563443791876051, 0.6524354906023515)"
      ]
     },
     "execution_count": 369,
     "metadata": {},
     "output_type": "execute_result"
    }
   ],
   "source": [
    "median_r2_LG_y_uns_two = r2_score(y_train_LG_y_uns_two, y_tr_pred_LG_y_uns_two), r2_score(y_test_LG_y_uns_two, y_te_pred_LG_y_uns_two)\n",
    "median_r2_LG_y_uns_two"
   ]
  },
  {
   "cell_type": "code",
   "execution_count": 370,
   "id": "dbe0b482",
   "metadata": {},
   "outputs": [
    {
     "data": {
      "text/plain": [
       "(0.22293065667840248, 0.2939599506830862)"
      ]
     },
     "execution_count": 370,
     "metadata": {},
     "output_type": "execute_result"
    }
   ],
   "source": [
    "median_mae_LG_y_uns_two = mean_absolute_error( y_train_LG_y_uns_two, y_tr_pred_LG_y_uns_two ), mean_absolute_error( y_test_LG_y_uns_two, y_te_pred_LG_y_uns_two )\n",
    "median_mae_LG_y_uns_two"
   ]
  },
  {
   "cell_type": "code",
   "execution_count": 371,
   "id": "795e33ab",
   "metadata": {},
   "outputs": [
    {
     "data": {
      "text/plain": [
       "(0.18864081567375426, 0.3251112232191369)"
      ]
     },
     "execution_count": 371,
     "metadata": {},
     "output_type": "execute_result"
    }
   ],
   "source": [
    "median_mse_LG_y_uns_two = mean_squared_error( y_train_LG_y_uns_two, y_tr_pred_LG_y_uns_two ), mean_squared_error( y_test_LG_y_uns_two, y_te_pred_LG_y_uns_two )\n",
    "median_mse_LG_y_uns_two"
   ]
  },
  {
   "cell_type": "code",
   "execution_count": null,
   "id": "423dce56",
   "metadata": {},
   "outputs": [],
   "source": []
  },
  {
   "cell_type": "markdown",
   "id": "c8a61fcb",
   "metadata": {},
   "source": [
    "**5.6.5 X only ( `_SS_LG_two` )**<a id='ss_lg_imp_n'></a>"
   ]
  },
  {
   "cell_type": "code",
   "execution_count": 372,
   "id": "8eea5337",
   "metadata": {},
   "outputs": [
    {
     "name": "stderr",
     "output_type": "stream",
     "text": [
      "C:\\Users\\rands\\anaconda3\\lib\\site-packages\\sklearn\\utils\\validation.py:70: FutureWarning: Pass fit_intercept=     WTI_SS_yun  Copper_SS_yun  Natural Gas_SS_yun  Wheat_SS_yun  \\\n",
      "0      0.337816       0.481291            0.523783     -0.846294   \n",
      "1      0.173265      -0.160271           -0.083423      1.791885   \n",
      "2      1.289719       1.601918            0.422772      0.961819   \n",
      "3      0.493904      -0.159112           -0.987941     -0.155382   \n",
      "4     -0.890056      -0.967141           -0.279105      0.149382   \n",
      "..          ...            ...                 ...           ...   \n",
      "219    0.543732       0.674641            1.144592      1.363114   \n",
      "220   -2.426381      -1.658603           -0.898251     -1.935794   \n",
      "221    0.701845      -0.047781           -0.717397     -0.297631   \n",
      "222    0.670212       0.273391            0.417402      0.620958   \n",
      "223   -0.712655      -0.710510           -1.025368     -0.080658   \n",
      "\n",
      "     Sugar_SS_yun  Lumber_SS_yun  PMI_SS_yun  Wages CPI_LG  \\\n",
      "0        1.639062       2.321408   -0.938107     -0.146550   \n",
      "1        0.731243       0.119914   -0.133622     -0.115504   \n",
      "2        1.862612      -0.337477   -0.155662      0.782497   \n",
      "3        0.509190       0.679329    0.097806      0.118776   \n",
      "4        0.605903       0.261332   -2.095244      0.379946   \n",
      "..            ...            ...         ...           ...   \n",
      "219     -0.692042      -0.916693    0.031684      0.483850   \n",
      "220      0.200441      -0.503971   -1.445044     -2.171560   \n",
      "221     -0.382067      -0.277887    0.130867     -0.404027   \n",
      "222      1.252416       0.519408    0.450457      0.630556   \n",
      "223     -0.518853      -0.204043   -0.078520     -0.770120   \n",
      "\n",
      "     Capacity Utilization_LG  Unemployment Rate_LG  \n",
      "0                   0.301428              0.011840  \n",
      "1                   0.778567             -0.165063  \n",
      "2                  -0.888342              1.092064  \n",
      "3                   0.956034             -0.394806  \n",
      "4                  -1.409711              1.923796  \n",
      "..                       ...                   ...  \n",
      "219                 0.420679              0.226740  \n",
      "220                -1.008469              0.211342  \n",
      "221                 0.474764             -1.240537  \n",
      "222                -0.048765              0.353098  \n",
      "223                -0.061837              0.554809  \n",
      "\n",
      "[224 rows x 10 columns], normalize=     Inflation\n",
      "0        0.447\n",
      "1        0.374\n",
      "2        0.149\n",
      "3        0.392\n",
      "4        0.088\n",
      "..         ...\n",
      "219      0.706\n",
      "220     -0.830\n",
      "221     -0.523\n",
      "222      0.169\n",
      "223     -0.987\n",
      "\n",
      "[224 rows x 1 columns] as keyword args. From version 1.0 (renaming of 0.25) passing these as positional arguments will result in an error\n",
      "  warnings.warn(f\"Pass {args_msg} as keyword args. From version \"\n"
     ]
    }
   ],
   "source": [
    "reg_all_SS_LG_two = LinearRegression(X_tr_SS_LG_two,y_tr_y_uns_two)"
   ]
  },
  {
   "cell_type": "code",
   "execution_count": 373,
   "id": "aadef212",
   "metadata": {},
   "outputs": [],
   "source": [
    "lm = LinearRegression().fit(X_tr_SS_LG_two,y_tr_y_uns_two)"
   ]
  },
  {
   "cell_type": "code",
   "execution_count": 374,
   "id": "17d0180f",
   "metadata": {},
   "outputs": [],
   "source": [
    "y_tr_pred_SS_LG_two = lm.predict(X_tr_SS_LG_two)\n",
    "y_te_pred_SS_LG_two = lm.predict(X_te_SS_LG_two)"
   ]
  },
  {
   "cell_type": "code",
   "execution_count": 375,
   "id": "141b12d2",
   "metadata": {},
   "outputs": [
    {
     "data": {
      "text/plain": [
       "(0.47764155029553956, 0.29180288548112143)"
      ]
     },
     "execution_count": 375,
     "metadata": {},
     "output_type": "execute_result"
    }
   ],
   "source": [
    "median_r2_SS_LG_two = r2_score(y_tr_y_uns_two, y_tr_pred_SS_LG_two), r2_score(y_te_y_uns_two, y_te_pred_SS_LG_two)\n",
    "median_r2_SS_LG_two"
   ]
  },
  {
   "cell_type": "code",
   "execution_count": 376,
   "id": "5b1e9c4c",
   "metadata": {},
   "outputs": [
    {
     "data": {
      "text/plain": [
       "(0.22293065667840248, 0.2939599506830862)"
      ]
     },
     "execution_count": 376,
     "metadata": {},
     "output_type": "execute_result"
    }
   ],
   "source": [
    "median_mae_SS_LG_two = mean_absolute_error( y_train_LG_y_uns_two, y_tr_pred_LG_y_uns_two ), mean_absolute_error( y_test_LG_y_uns_two, y_te_pred_LG_y_uns_two )\n",
    "median_mae_SS_LG_two"
   ]
  },
  {
   "cell_type": "code",
   "execution_count": 377,
   "id": "2c72c82e",
   "metadata": {},
   "outputs": [
    {
     "data": {
      "text/plain": [
       "(0.18864081567375426, 0.3251112232191369)"
      ]
     },
     "execution_count": 377,
     "metadata": {},
     "output_type": "execute_result"
    }
   ],
   "source": [
    "median_mse_SS_LG_two = mean_squared_error( y_train_LG_y_uns_two, y_tr_pred_LG_y_uns_two ), mean_squared_error( y_test_LG_y_uns_two, y_te_pred_LG_y_uns_two )\n",
    "median_mse_SS_LG_two"
   ]
  },
  {
   "cell_type": "code",
   "execution_count": null,
   "id": "c095beca",
   "metadata": {},
   "outputs": [],
   "source": []
  },
  {
   "cell_type": "markdown",
   "id": "d8cb76a4",
   "metadata": {},
   "source": [
    "## 5.7 Conclusion<a id='conclusion'></a>"
   ]
  },
  {
   "cell_type": "markdown",
   "id": "93f094c0",
   "metadata": {},
   "source": [
    "We utilized the random forest model to determine which variables were of most importance in understanding `Inflation`; they are highlighted above. \n",
    "\n",
    "We then isolated these variables to model against `Inflation`; we will summarize the findings below:"
   ]
  },
  {
   "cell_type": "code",
   "execution_count": 378,
   "id": "ae28a1b4",
   "metadata": {},
   "outputs": [
    {
     "name": "stdout",
     "output_type": "stream",
     "text": [
      " R² results for X & y scaled below \n",
      " SS Train | 0.492   Test 0.2706 \n",
      " LG Train | 0.4682   Test 0.2862 \n",
      " \n",
      " R² results for X only scaled below \n",
      " SS Train | 0.492   Test 0.2734 \n",
      " LG Train | 0.7563   Test 0.6524 \n",
      " \n",
      " R² results for the LG & SS combination below \n",
      " SS Train | 0.4776   Test 0.2918\n"
     ]
    }
   ],
   "source": [
    "print(' R² results for X & y scaled below',\n",
    "    '\\n','SS Train |',round(median_r2_SS[0],4),'  Test', round(median_r2_SS[1],4),\n",
    "\n",
    "      '\\n','LG Train |',round(median_r2_LG_two[0],4),'  Test', round(median_r2_LG_two[1],4),'\\n','\\n',\n",
    "\n",
    "     'R² results for X only scaled below',\n",
    "    '\\n','SS Train |',round(median_r2_SS_y_uns_two[0],4),'  Test', round(median_r2_SS_y_uns_two[1],4),\n",
    "\n",
    "      '\\n','LG Train |',round(median_r2_LG_y_uns_two[0],4),'  Test', round(median_r2_LG_y_uns_two[1],4),'\\n','\\n'\n",
    "\n",
    "      ' R² results for the LG & SS combination below',\n",
    "    '\\n','SS Train |',round(median_r2_SS_LG_two[0],4),'  Test', round(median_r2_SS_LG_two[1],4),\n",
    "\n",
    "     )"
   ]
  },
  {
   "cell_type": "markdown",
   "id": "2a9c34c1",
   "metadata": {},
   "source": [
    "After removing variables which were deemed to be hurting the performance with the Random Forest Model, the results show a notable improvement. The `LG` on the `X only` proved to be the best.  \n",
    "\n",
    "Below we will look at the `mae` & `rmse` scores as well."
   ]
  },
  {
   "cell_type": "code",
   "execution_count": 379,
   "id": "b7346eb0",
   "metadata": {},
   "outputs": [
    {
     "name": "stdout",
     "output_type": "stream",
     "text": [
      " MAE results for X & y scaled below \n",
      " SS Train | 0.5143   Test 0.6133 \n",
      " LG Train | 0.5261   Test 0.5955 \n",
      " \n",
      " MAE results for X only scaled below \n",
      " SS Train | 0.4526   Test 0.6034 \n",
      " LG Train | 0.2229   Test 0.294 \n",
      " \n",
      " MAE results for the LG & SS combination below \n",
      " SS Train | 0.2229   Test 0.294\n"
     ]
    }
   ],
   "source": [
    "print(' MAE results for X & y scaled below',\n",
    "    '\\n','SS Train |',round(median_mae_SS[0],4),'  Test', round(median_mae_SS[1],4),\n",
    "     \n",
    "      '\\n','LG Train |',round(median_mae_LG_two[0],4),'  Test', round(median_mae_LG_two[1],4),'\\n','\\n',\n",
    "      \n",
    "     'MAE results for X only scaled below',\n",
    "    '\\n','SS Train |',round(median_mae_SS_y_uns_two[0],4),'  Test', round(median_mae_SS_y_uns_two[1],4),\n",
    "     \n",
    "      '\\n','LG Train |',round(median_mae_LG_y_uns_two[0],4),'  Test', round(median_mae_LG_y_uns_two[1],4),'\\n','\\n',\n",
    "      \n",
    "      'MAE results for the LG & SS combination below',\n",
    "    '\\n','SS Train |',round(median_mae_SS_LG_two[0],4),'  Test', round(median_mae_SS_LG_two[1],4),\n",
    "      \n",
    "     )"
   ]
  },
  {
   "cell_type": "code",
   "execution_count": 380,
   "id": "fdc45877",
   "metadata": {},
   "outputs": [
    {
     "name": "stdout",
     "output_type": "stream",
     "text": [
      " RMSE results for X & y scaled below \n",
      " SS Train | 0.7128   Test 0.8232 \n",
      " LG Train | 0.7292   Test 0.8171 \n",
      " \n",
      " RMSE results for X only scaled below \n",
      " SS Train | 0.6272   Test 0.8216 \n",
      " LG Train | 0.4343   Test 0.5702 \n",
      " \n",
      " RMSE results for the LG & SS combination below \n",
      " SS Train | 0.4343   Test 0.5702\n"
     ]
    }
   ],
   "source": [
    "print(' RMSE results for X & y scaled below',\n",
    "    '\\n','SS Train |',round(math.sqrt(median_mse_SS[0]),4),'  Test', round(math.sqrt(median_mse_SS[1]),4),\n",
    "      \n",
    "      '\\n','LG Train |',round(math.sqrt(median_mse_LG_two[0]),4),'  Test', round(math.sqrt(median_mse_LG_two[1]),4),\n",
    "      '\\n','\\n',\n",
    "     'RMSE results for X only scaled below',\n",
    "    '\\n','SS Train |',round(math.sqrt(median_mse_SS_y_uns_two[0]),4),'  Test', round(math.sqrt(median_mse_SS_y_uns_two[1]),4),\n",
    "      \n",
    "      '\\n','LG Train |',round(math.sqrt(median_mse_LG_y_uns_two[0]),4),'  Test', round(math.sqrt(median_mse_LG_y_uns_two[1]),4),\n",
    "      '\\n','\\n',\n",
    "      'RMSE results for the LG & SS combination below',\n",
    "    '\\n','SS Train |',round(math.sqrt(median_mse_SS_LG_two[0]),4),'  Test', round(math.sqrt(median_mse_SS_LG_two[1]),4),\n",
    "     \n",
    "     )"
   ]
  },
  {
   "cell_type": "markdown",
   "id": "646bdd79",
   "metadata": {},
   "source": [
    "As the `R²` for `LG` `X only` in the test set presented the best results with the lowest `mae` & `rmse` (tied with `LG & SS` on both), I confirm this is the final selection as the test set is the arbiter.\n",
    "\n",
    "As for a recap, we went through the machine learning process with the help of Random Forests to:\n",
    "   * Scale the data effectively\n",
    "   * Identify the most important variables\n",
    "\n",
    "I will end with a reminder of the process that was taken to get to the end step by step: \n",
    "   * Started with 19 variables which best correlated with `Inflation`\n",
    "   * Discrete tacks to fill in the gaps & using a rolling average on all without Winsorizing `Inflation` was determined the best\n",
    "   * Eight (8) variables were chosen to engage with Winsorization increasing their Pearson Coefficients by 172.67 bps on average\n",
    "   * The data was then sent to scaling via Standard Scaling, Min Max Scaling & Log Transformation before sent to Modeling\n",
    "   * Random Forest was used for Modeling the Log Transformation on X only presented the highest R² & lowest MAE & RMSE\n",
    "\n",
    "**Final & best results below**"
   ]
  },
  {
   "cell_type": "code",
   "execution_count": 381,
   "id": "1c6c1337",
   "metadata": {},
   "outputs": [
    {
     "name": "stdout",
     "output_type": "stream",
     "text": [
      " R² results for X only scaled below \n",
      " LG Train | 0.7563   Test 0.6524 \n",
      " \n",
      " MAE results for X only scaled below \n",
      " LG Train | 0.2229   Test 0.294 \n",
      " \n",
      " RMSE results for X only scaled below \n",
      " LG Train | 0.4343   Test 0.5702 \n",
      " \n",
      "\n"
     ]
    }
   ],
   "source": [
    "print(' R² results for X only scaled below',\n",
    "      '\\n','LG Train |',round(median_r2_LG_y_uns_two[0],4),'  Test', round(median_r2_LG_y_uns_two[1],4),'\\n','\\n'\n",
    "     ' MAE results for X only scaled below','\\n',\n",
    "'LG Train |',round(median_mae_LG_y_uns_two[0],4),'  Test', round(median_mae_LG_y_uns_two[1],4),'\\n','\\n',\n",
    "     'RMSE results for X only scaled below','\\n',\n",
    "      'LG Train |',round(math.sqrt(median_mse_LG_y_uns_two[0]),4),'  Test', round(math.sqrt(median_mse_LG_y_uns_two[1]),4),\n",
    "      '\\n','\\n',\n",
    "     )"
   ]
  },
  {
   "cell_type": "markdown",
   "id": "93d86420",
   "metadata": {},
   "source": [
    "**Final look at how far we have come**"
   ]
  },
  {
   "cell_type": "code",
   "execution_count": 382,
   "id": "719ecb67",
   "metadata": {},
   "outputs": [],
   "source": [
    "# pulling in the varibale winsorization\n",
    "r_squared_rolling_v_win = 0.273221000058288\n",
    "mae_v_win_rolling = 0.5291386110001028\n",
    "mse_v_win_rolling = 0.5226990370198409"
   ]
  },
  {
   "cell_type": "markdown",
   "id": "9c529700",
   "metadata": {},
   "source": [
    "Comparing the selected final Variables to those in the Pre-processing step"
   ]
  },
  {
   "cell_type": "code",
   "execution_count": 383,
   "id": "965922d5",
   "metadata": {},
   "outputs": [
    {
     "name": "stdout",
     "output_type": "stream",
     "text": [
      "Comparing final to the averages in the Pre-processing Step \n",
      " \n",
      " 37.92 bps increase in R² \n",
      " \n",
      " A -23.52 bps decrease in MAE \n",
      " \n",
      " A -15.28 bps decrease in RMSE\n"
     ]
    }
   ],
   "source": [
    "print('Comparing final to the averages in the Pre-processing Step','\\n','\\n',\n",
    "      round(((median_r2_LG_y_uns_two[1] - r_squared_rolling_v_win)*100),2), 'bps increase in R²','\\n','\\n',\n",
    "\n",
    "     'A', round(((median_mae_LG_y_uns_two[1] - mae_v_win_rolling)*100),2), 'bps decrease in MAE','\\n','\\n',\n",
    "\n",
    "      'A', round(((math.sqrt(median_mse_LG_y_uns_two[1]) - math.sqrt(mse_v_win_rolling))*100),2), 'bps decrease in RMSE')\n"
   ]
  },
  {
   "cell_type": "code",
   "execution_count": null,
   "id": "620f6401",
   "metadata": {},
   "outputs": [],
   "source": []
  },
  {
   "cell_type": "code",
   "execution_count": null,
   "id": "8b1aeac8",
   "metadata": {},
   "outputs": [],
   "source": []
  }
 ],
 "metadata": {
  "kernelspec": {
   "display_name": "Python 3",
   "language": "python",
   "name": "python3"
  },
  "language_info": {
   "codemirror_mode": {
    "name": "ipython",
    "version": 3
   },
   "file_extension": ".py",
   "mimetype": "text/x-python",
   "name": "python",
   "nbconvert_exporter": "python",
   "pygments_lexer": "ipython3",
   "version": "3.8.10"
  },
  "varInspector": {
   "cols": {
    "lenName": 16,
    "lenType": 16,
    "lenVar": 40
   },
   "kernels_config": {
    "python": {
     "delete_cmd_postfix": "",
     "delete_cmd_prefix": "del ",
     "library": "var_list.py",
     "varRefreshCmd": "print(var_dic_list())"
    },
    "r": {
     "delete_cmd_postfix": ") ",
     "delete_cmd_prefix": "rm(",
     "library": "var_list.r",
     "varRefreshCmd": "cat(var_dic_list()) "
    }
   },
   "types_to_exclude": [
    "module",
    "function",
    "builtin_function_or_method",
    "instance",
    "_Feature"
   ],
   "window_display": false
  }
 },
 "nbformat": 4,
 "nbformat_minor": 5
}
