{
 "cells": [
  {
   "cell_type": "code",
   "execution_count": null,
   "id": "bd7e5c2c",
   "metadata": {},
   "outputs": [],
   "source": [
    "plt.figure(figsize=(12,6))\n",
    "plt.hist(QonQ_main['Inflation'], bins=30)\n",
    "plt.xlabel('Quarterly Change in Inflation')\n",
    "plt.ylabel('Count')\n",
    "\n",
    "x_ticks = np.arange(-5, 5, 0.5)\n",
    "plt.xticks(x_ticks)\n"
   ]
  },
  {
   "cell_type": "code",
   "execution_count": null,
   "id": "9d9c6565",
   "metadata": {},
   "outputs": [],
   "source": [
    "# taking a look at where these land\n",
    "plt.figure(figsize=(12,6))\n",
    "plt.hist(QonQ_main['Inflation'], bins=30)\n",
    "plt.xlabel('Quarterly Change in Inflation')\n",
    "plt.ylabel('Count')\n",
    "\n",
    "x_ticks = np.arange(-5, 5, 0.5)\n",
    "plt.xticks(x_ticks)\n",
    "plt.axvline(u_qoq_inf_value, color='r', linestyle='dashed', linewidth=1)\n",
    "plt.axvline(l_qoq_inf_value, color='r', linestyle='dashed', linewidth=1)"
   ]
  },
  {
   "cell_type": "code",
   "execution_count": null,
   "id": "667d85b7",
   "metadata": {},
   "outputs": [],
   "source": [
    "QonQ_main_a = np.count_nonzero(QonQ_main['Inflation']>=u_qoq_inf_value)\n",
    "QonQ_main_b = np.count_nonzero(QonQ_main['Inflation']<=l_qoq_inf_value)\n",
    "\n",
    "print('With a dataframe with',len(QonQ_main),'observations, the Winsorization breakdown would be','\\n',\n",
    "     QonQ_main_a,'|', \"{:,}%\".format(round(((QonQ_main_a/len(QonQ_main))*100),2)),'|','Above','\\n',\n",
    "     QonQ_main_b,'|', \"{:,}%\".format(round(((QonQ_main_b/len(QonQ_main))*100),2)),'|','Below','\\n',\n",
    "     (QonQ_main_a + QonQ_main_b),'|', \"{:,}%\".format(round((((QonQ_main_a + QonQ_main_b)/len(QonQ_main))*100),2)),'|',\n",
    "      'in Total')"
   ]
  },
  {
   "cell_type": "markdown",
   "id": "f672e3f4",
   "metadata": {},
   "source": [
    "That's manageable; we will proceed."
   ]
  },
  {
   "cell_type": "code",
   "execution_count": null,
   "id": "e2b7238f",
   "metadata": {},
   "outputs": [],
   "source": []
  },
  {
   "cell_type": "code",
   "execution_count": null,
   "id": "0becc68d",
   "metadata": {},
   "outputs": [],
   "source": []
  },
  {
   "cell_type": "code",
   "execution_count": null,
   "id": "9b4c54fd",
   "metadata": {},
   "outputs": [],
   "source": []
  },
  {
   "cell_type": "code",
   "execution_count": null,
   "id": "2e94cfac",
   "metadata": {},
   "outputs": [],
   "source": []
  }
 ],
 "metadata": {
  "kernelspec": {
   "display_name": "Python 3",
   "language": "python",
   "name": "python3"
  },
  "language_info": {
   "codemirror_mode": {
    "name": "ipython",
    "version": 3
   },
   "file_extension": ".py",
   "mimetype": "text/x-python",
   "name": "python",
   "nbconvert_exporter": "python",
   "pygments_lexer": "ipython3",
   "version": "3.8.10"
  },
  "varInspector": {
   "cols": {
    "lenName": 16,
    "lenType": 16,
    "lenVar": 40
   },
   "kernels_config": {
    "python": {
     "delete_cmd_postfix": "",
     "delete_cmd_prefix": "del ",
     "library": "var_list.py",
     "varRefreshCmd": "print(var_dic_list())"
    },
    "r": {
     "delete_cmd_postfix": ") ",
     "delete_cmd_prefix": "rm(",
     "library": "var_list.r",
     "varRefreshCmd": "cat(var_dic_list()) "
    }
   },
   "types_to_exclude": [
    "module",
    "function",
    "builtin_function_or_method",
    "instance",
    "_Feature"
   ],
   "window_display": false
  }
 },
 "nbformat": 4,
 "nbformat_minor": 5
}
